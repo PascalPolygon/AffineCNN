{
  "nbformat": 4,
  "nbformat_minor": 0,
  "metadata": {
    "accelerator": "GPU",
    "colab": {
      "name": "translation_vector_estimation.ipynb",
      "provenance": [],
      "collapsed_sections": [],
      "toc_visible": true,
      "include_colab_link": true
    },
    "kernelspec": {
      "display_name": "Python 3",
      "name": "python3"
    },
    "language_info": {
      "name": "python"
    }
  },
  "cells": [
    {
      "cell_type": "markdown",
      "metadata": {
        "id": "view-in-github",
        "colab_type": "text"
      },
      "source": [
        "<a href=\"https://colab.research.google.com/github/PascalPolygon/AffineCNN/blob/main/translation_vector_estimation.ipynb\" target=\"_parent\"><img src=\"https://colab.research.google.com/assets/colab-badge.svg\" alt=\"Open In Colab\"/></a>"
      ]
    },
    {
      "cell_type": "markdown",
      "metadata": {
        "id": "0aZSYa6KnSG0"
      },
      "source": [
        "# **CSE 5290: Translation Vector Estimation (Graduate Student Project)**\n",
        "Pascal Dao (pdao2015@my.fit.edu) and Ruksana Kabealo (rkabealo@my.fit.edu) \\\n",
        "Florida Institute of Technology — September 11th, 2021 through XXXXX"
      ]
    },
    {
      "cell_type": "markdown",
      "metadata": {
        "id": "L9afAMM6nbCK"
      },
      "source": [
        "This code generates the \"Shape Movements Dataset\" - a dataset of various 2D shapes experiencing the following affine transformations: translation, rotation, and scaling. \n",
        "\n",
        "This becomes a 6 Degrees of Freedom system. As such, we save our transformation as the 6 usable values from the affine matrix: a, b, c, d, e, and f. \n",
        "\n",
        "We will be using matplotlib to generate the shapes. "
      ]
    },
    {
      "cell_type": "markdown",
      "metadata": {
        "id": "gO8xLuGSFh6m"
      },
      "source": [
        "**TODO: **\n",
        "\n",
        "Ruksana: \n",
        "* given a bounding box, generate a randomly sized polygon at a random center POINT within (make sure to check appropriately to make sure it's not initially generated offscreen) \n",
        "* somehow pass the max ability to be translated to the translation function so it's distribution changes and it never moves the polygon off screen \n",
        "* figure out how to incorporate curved polygons into generated translations \n",
        "\n",
        "Pascal: \n",
        "* fix the data loader problems\n",
        "* start working on setting up the online transformations code \n",
        "\n",
        "For the meeting\n",
        "* Decide on an image width/height and stick to it"
      ]
    },
    {
      "cell_type": "markdown",
      "metadata": {
        "id": "0u_f1CGTA8yb"
      },
      "source": [
        "## Code"
      ]
    },
    {
      "cell_type": "markdown",
      "metadata": {
        "id": "S5W9w8jZA8yc"
      },
      "source": [
        "### Imports and Configuration"
      ]
    },
    {
      "cell_type": "markdown",
      "metadata": {
        "id": "Ds2V6oGKA8ye"
      },
      "source": [
        "Import necessary libraries. "
      ]
    },
    {
      "cell_type": "code",
      "metadata": {
        "id": "71m9xz5UA8yf"
      },
      "source": [
        "# Imports\n",
        "#from ipycanvas import Canvas, hold_canvas, MultiCanvas\n",
        "import math \n",
        "import numpy as np\n",
        "from numpy.random import default_rng\n",
        "import csv\n",
        "import random\n",
        "import matplotlib.pyplot as plt\n",
        "from matplotlib.patches import Polygon, Arc, Ellipse, RegularPolygon, PathPatch\n",
        "import matplotlib.path as mpath \n",
        "import bisect \n",
        "import operator\n",
        "import collections\n",
        "from google.colab import drive\n",
        "import os\n",
        "import torch\n",
        "import torchvision\n",
        "import torchvision.transforms as transforms\n",
        "from torchvision.io import read_image\n",
        "from torch.utils.data import Dataset, DataLoader\n",
        "import torch.nn as nn\n",
        "from torch.autograd import Variable\n",
        "import torch.nn.functional as F\n",
        "import torch.optim as optim\n",
        "from glob import glob\n",
        "import time"
      ],
      "execution_count": 4,
      "outputs": []
    },
    {
      "cell_type": "code",
      "metadata": {
        "id": "O5OYt29v8Ezo"
      },
      "source": [
        "from google.colab import auth\n",
        "auth.authenticate_user()"
      ],
      "execution_count": 5,
      "outputs": []
    },
    {
      "cell_type": "code",
      "metadata": {
        "colab": {
          "base_uri": "https://localhost:8080/"
        },
        "id": "IBitdzO08x9A",
        "outputId": "8a8e120c-dddd-4e08-e262-b7836d836694"
      },
      "source": [
        "!echo \"deb http://packages.cloud.google.com/apt gcsfuse-bionic main\" > /etc/apt/sources.list.d/gcsfuse.list\n",
        "!curl https://packages.cloud.google.com/apt/doc/apt-key.gpg | apt-key add -\n",
        "!apt -qq update\n",
        "!apt -qq install gcsfuse"
      ],
      "execution_count": 6,
      "outputs": [
        {
          "output_type": "stream",
          "name": "stdout",
          "text": [
            "  % Total    % Received % Xferd  Average Speed   Time    Time     Time  Current\n",
            "                                 Dload  Upload   Total   Spent    Left  Speed\n",
            "\r  0     0    0     0    0     0      0      0 --:--:-- --:--:-- --:--:--     0\r100  2537  100  2537    0     0    99k      0 --:--:-- --:--:-- --:--:--   99k\n",
            "OK\n",
            "43 packages can be upgraded. Run 'apt list --upgradable' to see them.\n",
            "The following NEW packages will be installed:\n",
            "  gcsfuse\n",
            "0 upgraded, 1 newly installed, 0 to remove and 43 not upgraded.\n",
            "Need to get 11.3 MB of archives.\n",
            "After this operation, 24.0 MB of additional disk space will be used.\n",
            "Selecting previously unselected package gcsfuse.\n",
            "(Reading database ... 155222 files and directories currently installed.)\n",
            "Preparing to unpack .../gcsfuse_0.37.0_amd64.deb ...\n",
            "Unpacking gcsfuse (0.37.0) ...\n",
            "Setting up gcsfuse (0.37.0) ...\n"
          ]
        }
      ]
    },
    {
      "cell_type": "code",
      "metadata": {
        "colab": {
          "base_uri": "https://localhost:8080/"
        },
        "id": "0IPO_bvf82np",
        "outputId": "77126bc3-c4c4-4ab1-d03d-9314d340c92c"
      },
      "source": [
        "!mkdir SMD_V3\n",
        "!gcsfuse --implicit-dirs translation_vector_estimation_bucket SMD_V3"
      ],
      "execution_count": 7,
      "outputs": [
        {
          "output_type": "stream",
          "name": "stdout",
          "text": [
            "2021/12/02 16:44:03.869973 Start gcsfuse/0.37.0 (Go version go1.17.2) for app \"\" using mount point: /content/SMD_V3\n",
            "2021/12/02 16:44:03.878760 Opening GCS connection...\n",
            "2021/12/02 16:44:04.305246 Mounting file system \"translation_vector_estimation_bucket\"...\n",
            "2021/12/02 16:44:04.337923 File system has been successfully mounted.\n"
          ]
        }
      ]
    },
    {
      "cell_type": "markdown",
      "metadata": {
        "id": "TSQiE00TA8yi"
      },
      "source": [
        "Set up where we'll be saving the data."
      ]
    },
    {
      "cell_type": "code",
      "metadata": {
        "colab": {
          "base_uri": "https://localhost:8080/"
        },
        "id": "U5_odavnUDlk",
        "outputId": "a2b928ca-41e6-40d4-c4fc-eec2366d55a0"
      },
      "source": [
        "drive.mount('/content/drive')\n"
      ],
      "execution_count": 8,
      "outputs": [
        {
          "output_type": "stream",
          "name": "stdout",
          "text": [
            "Mounted at /content/drive\n"
          ]
        }
      ]
    },
    {
      "cell_type": "code",
      "metadata": {
        "id": "TZIMKAPvT_N7"
      },
      "source": [
        "# PATH_TO_ORIGINAL_IMGS = '/content/drive/MyDrive/translation_vector_estimation_project/data/input/original'\n",
        "# PATH_TO_TRANSLATED_IMGS = '/content/drive/MyDrive/translation_vector_estimation_project/data/input/translated'\n",
        "# PATH_TO_LABELS = '/content/drive/MyDrive/translation_vector_estimation_project/data/labels'\n",
        "\n",
        "PATH_TO_ORIGINAL_IMGS = '/content/SMD_V3/SMD_V3_COMB/input/original'\n",
        "PATH_TO_TRANSLATED_IMGS = '/content/SMD_V3/SMD_V3_COMB/input/transformed'\n",
        "PATH_TO_LABELS = '/content/SMD_V3/SMD_V3_COMB/labels'\n",
        "\n",
        "PATH_TO_MODELS = '/content/drive/MyDrive/translation_vector_estimation_project/models'"
      ],
      "execution_count": 9,
      "outputs": []
    },
    {
      "cell_type": "markdown",
      "metadata": {
        "id": "h54UGjenA8yl"
      },
      "source": [
        "Create default dimensions for the images. "
      ]
    },
    {
      "cell_type": "code",
      "metadata": {
        "id": "rx8zryPRA8ym"
      },
      "source": [
        "# Image dimensions \n",
        "IMG_WIDTH = 256\n",
        "X_AXIS_LIM = IMG_WIDTH/2\n",
        "IMG_HEIGHT = 256\n",
        "Y_AXIS_LIM = IMG_HEIGHT/2\n",
        "MIN_RADIUS = 12\n",
        "MAX_RADIUS = 128"
      ],
      "execution_count": 10,
      "outputs": []
    },
    {
      "cell_type": "markdown",
      "metadata": {
        "id": "QUilIoQGTA9T"
      },
      "source": [
        "## Shape Generation"
      ]
    },
    {
      "cell_type": "markdown",
      "metadata": {
        "id": "QoB_wkpkTA9U"
      },
      "source": [
        "\n",
        "TODO: explain further the decision making process behind what we're doing. Why these categories. \n",
        "\n",
        "The different types of shapes considered for this project are: \n",
        "* Regular polygons \n",
        "* Ellipses\n",
        "* Randomly generated convex polygons (using Valtr's algorithm)\n",
        "* Randomly generated with random curve incorporation (matplotlib path + bezel curves 3 and 4) \n",
        "\n",
        "We developed the code for generating these different types of shapes."
      ]
    },
    {
      "cell_type": "markdown",
      "metadata": {
        "id": "m8V6gPBlTA9U"
      },
      "source": [
        "### Regular Polygon Generation"
      ]
    },
    {
      "cell_type": "markdown",
      "metadata": {
        "id": "1SN6qSt6TA9U"
      },
      "source": [
        "#### Generation Function"
      ]
    },
    {
      "cell_type": "code",
      "metadata": {
        "id": "AGVpSQNBTA9U"
      },
      "source": [
        "\"\"\"\n",
        "This function takes in: \n",
        "* the center coordinates (x and y)\n",
        "* a radius length\n",
        "* the number of points for the polygon \n",
        "\n",
        "and returns: \n",
        "* a regular n-sided polygon with the specified radius\n",
        "\"\"\"\n",
        "def generate_regular_polygon(center_x, center_y, number_of_points):\n",
        "    # Check for invalid input\n",
        "    if number_of_points <= 2: \n",
        "        print(\"Invalid number of points!\")\n",
        "        return -1\n",
        "    else: \n",
        "        p = RegularPolygon((center_x, center_y), number_of_points, radius, facecolor='k')\n",
        "        return p"
      ],
      "execution_count": null,
      "outputs": []
    },
    {
      "cell_type": "markdown",
      "metadata": {
        "id": "KR2kPEsYTA9V"
      },
      "source": [
        "#### Example"
      ]
    },
    {
      "cell_type": "markdown",
      "metadata": {
        "id": "hiQ6B9NeURcm"
      },
      "source": [
        "Below is an example of generating a regular 6-sided polygon. "
      ]
    },
    {
      "cell_type": "code",
      "metadata": {
        "colab": {
          "base_uri": "https://localhost:8080/",
          "height": 234
        },
        "id": "e1o1Ef96TA9V",
        "outputId": "5e0a129a-990f-462e-c0fd-61460a8b97f1"
      },
      "source": [
        "\"\"\"\n",
        "Get the vertices for a 6-sided polygon centered around (0,0) that has the radius specified \n",
        "\"\"\"\n",
        "example_regular_6_side_poly = generate_regular_polygon(0, 0, 6)\n",
        "\n",
        "# Create figure \n",
        "fig, axs = plt.subplots(ncols=2, figsize=(10,5))\n",
        "padding = 15\n",
        "\n",
        "# Plot the 6-sided polygon as a list of points \n",
        "axs[0].set_xlim([-X_AXIS_LIM, X_AXIS_LIM])\n",
        "axs[0].set_ylim([-Y_AXIS_LIM, Y_AXIS_LIM])\n",
        "\n",
        "vertices = example_regular_6_side_poly.get_path().vertices\n",
        "trans = example_regular_6_side_poly.get_patch_transform()\n",
        "points = trans.transform(vertices)\n",
        "\n",
        "pts = list(zip(*points))\n",
        "axs[0].scatter(pts[0],pts[1], c='k')\n",
        "\n",
        "# Plot the 6-sided polygon as a filled-in shape \n",
        "axs[1].set_xlim([-50, 50])\n",
        "axs[1].set_ylim([-50, 50])\n",
        "axs[1].add_patch(example_regular_6_side_poly)\n",
        "\n",
        "plt.show()"
      ],
      "execution_count": null,
      "outputs": [
        {
          "ename": "TypeError",
          "evalue": "ignored",
          "output_type": "error",
          "traceback": [
            "\u001b[0;31m---------------------------------------------------------------------------\u001b[0m",
            "\u001b[0;31mTypeError\u001b[0m                                 Traceback (most recent call last)",
            "\u001b[0;32m<ipython-input-21-7522200b46e1>\u001b[0m in \u001b[0;36m<module>\u001b[0;34m()\u001b[0m\n\u001b[1;32m      2\u001b[0m \u001b[0mGet\u001b[0m \u001b[0mthe\u001b[0m \u001b[0mvertices\u001b[0m \u001b[0;32mfor\u001b[0m \u001b[0ma\u001b[0m \u001b[0;36m6\u001b[0m\u001b[0;34m-\u001b[0m\u001b[0msided\u001b[0m \u001b[0mpolygon\u001b[0m \u001b[0mcentered\u001b[0m \u001b[0maround\u001b[0m \u001b[0;34m(\u001b[0m\u001b[0;36m0\u001b[0m\u001b[0;34m,\u001b[0m\u001b[0;36m0\u001b[0m\u001b[0;34m)\u001b[0m \u001b[0mthat\u001b[0m \u001b[0mhas\u001b[0m \u001b[0mthe\u001b[0m \u001b[0mradius\u001b[0m \u001b[0mspecified\u001b[0m\u001b[0;34m\u001b[0m\u001b[0;34m\u001b[0m\u001b[0m\n\u001b[1;32m      3\u001b[0m \"\"\"\n\u001b[0;32m----> 4\u001b[0;31m \u001b[0mexample_regular_6_side_poly\u001b[0m \u001b[0;34m=\u001b[0m \u001b[0mgenerate_regular_polygon\u001b[0m\u001b[0;34m(\u001b[0m\u001b[0;36m0\u001b[0m\u001b[0;34m,\u001b[0m \u001b[0;36m0\u001b[0m\u001b[0;34m,\u001b[0m \u001b[0;36m6\u001b[0m\u001b[0;34m)\u001b[0m\u001b[0;34m\u001b[0m\u001b[0;34m\u001b[0m\u001b[0m\n\u001b[0m\u001b[1;32m      5\u001b[0m \u001b[0;34m\u001b[0m\u001b[0m\n\u001b[1;32m      6\u001b[0m \u001b[0;31m# Create figure\u001b[0m\u001b[0;34m\u001b[0m\u001b[0;34m\u001b[0m\u001b[0;34m\u001b[0m\u001b[0m\n",
            "\u001b[0;31mTypeError\u001b[0m: generate_regular_polygon() missing 1 required positional argument: 'number_of_points'"
          ]
        }
      ]
    },
    {
      "cell_type": "markdown",
      "metadata": {
        "id": "TA7rLqI3TA9X"
      },
      "source": [
        "### Ellipse Polygon Generation"
      ]
    },
    {
      "cell_type": "markdown",
      "metadata": {
        "id": "IOcP2_-0TA9X"
      },
      "source": [
        "#### Generation Function"
      ]
    },
    {
      "cell_type": "code",
      "metadata": {
        "id": "TlVEk56ZTA9Y"
      },
      "source": [
        "\"\"\"\n",
        "This function takes in: \n",
        "* the center coordinates (x and y)\n",
        "* a maximum width \n",
        "* a maximum height \n",
        "\n",
        "and returns: \n",
        "* an ellipse patch centered at (x,y) with a random width between \n",
        "[max_width/10, max_width] and a random height between [max_height/10, max_height] \n",
        "and with a random tilt between [0,360] degrees\n",
        "\"\"\"\n",
        "def generate_ellipse(center_x, center_y, max_width, max_height):\n",
        "    # Minimum size is a 10th of the space it could be generated in\n",
        "    random_width = np.random.randint(max_width/10, max_width)\n",
        "    random_height = np.random.randint(max_height/10, max_height)\n",
        "    \n",
        "    # We can't have the randomly generated width/height ending up too close together \n",
        "    # If they do - our ellipse will look too much like a circle for our algorithm to distinguish \n",
        "    # Let's ensure that the randomly generated ellipse never exceeds 1:2/2:1 width:height/height:width ratio \n",
        "    while abs(random_width/random_height) > 1/2 and abs(random_width/random_height) < 2/1:\n",
        "        random_width = np.random.randint(max_width/10, max_width)\n",
        "        random_height = np.random.randint(max_height/10, max_height)\n",
        "    \n",
        "    # Generate a random tilt \n",
        "    random_tilt = np.random.randint(0, 360)\n",
        "    \n",
        "    # Compile the final patch\n",
        "    e = Ellipse((center_x, center_y), random_width, random_height, angle=random_tilt, facecolor='k',fill=True)\n",
        "    \n",
        "    return e"
      ],
      "execution_count": null,
      "outputs": []
    },
    {
      "cell_type": "markdown",
      "metadata": {
        "id": "3iNPN9scTA9Y"
      },
      "source": [
        "#### Example"
      ]
    },
    {
      "cell_type": "code",
      "metadata": {
        "id": "_e-Y4EIJTA9Z",
        "outputId": "9021b7c8-1a9d-4653-9e36-8076f86a90c5"
      },
      "source": [
        "\"\"\"\n",
        "Get the vertices for an ellipse centered around (0,0) that is contained within -25 and +25 on the x-axis \n",
        "and -25 and +25 on the y-axis\n",
        "\"\"\"\n",
        "example_ellipse = generate_ellipse(0, 0, 50, 50)\n",
        "\n",
        "# Create figure \n",
        "fig, axs = plt.subplots(ncols=2, figsize=(10,5))\n",
        "\n",
        "# Plot the 6-sided polygon as a list of points \n",
        "axs[0].set_xlim([-50, 50])\n",
        "axs[0].set_ylim([-50, 50])\n",
        "\n",
        "verts = example_ellipse.get_path().vertices\n",
        "trans = example_ellipse.get_patch_transform()\n",
        "points = trans.transform(verts)\n",
        "\n",
        "pts = list(zip(*points))\n",
        "axs[0].scatter(pts[0],pts[1], c='k')\n",
        "\n",
        "# Plot the ellipse as a filled-in shape \n",
        "axs[1].set_xlim([-50, 50])\n",
        "axs[1].set_ylim([-50, 50])\n",
        "axs[1].add_patch(example_ellipse)\n",
        "\n",
        "plt.show()"
      ],
      "execution_count": null,
      "outputs": [
        {
          "data": {
            "image/png": "[encoded data removed]",
            "text/plain": [
              "<Figure size 720x360 with 2 Axes>"
            ]
          },
          "metadata": {},
          "output_type": "display_data"
        }
      ]
    },
    {
      "cell_type": "markdown",
      "metadata": {
        "id": "j6gC3k-GTA9Z"
      },
      "source": [
        "### Randomly Generated Convex Polygon Generation (Valtr's Algorithm)"
      ]
    },
    {
      "cell_type": "markdown",
      "metadata": {
        "id": "_zFYdLjlTA9a"
      },
      "source": [
        "TODO: Credit Valt'rs algorithm to the right source"
      ]
    },
    {
      "cell_type": "markdown",
      "metadata": {
        "id": "DzU1CGlWTA9a"
      },
      "source": [
        "#### Generation Function"
      ]
    },
    {
      "cell_type": "code",
      "metadata": {
        "id": "sWCmPfvqTA9a"
      },
      "source": [
        "\"\"\"\n",
        "This function takes in: \n",
        "* the center coordinates (x and y) of some area to generate the polygon within \n",
        "* the width of the area to generate the polygon within \n",
        "* the height of the area to generate the polygon within \n",
        "* the number of points for the polygon \n",
        "\n",
        "and returns: \n",
        "* the vertices for a randomly generated convex polygon - in counterclockwise order of the convex hull \n",
        "\"\"\"\n",
        "def generate_random_convex_polygon(center_x, center_y, max_width, max_height, number_of_points):\n",
        "    # Figure out the bounding box for where we're generating this arbitrary polygon \n",
        "    min_x = center_x - (max_width / 2.0) \n",
        "    max_x = center_x + (max_width / 2.0) \n",
        "    min_y = center_y - (max_height / 2.0)\n",
        "    max_y = center_y + (max_height / 2.0)\n",
        "    \n",
        "#     print(\"\"\"Creating bounding box from {min_x} to {max_x} in the x-direction and {min_y} to {max_y} in the y-direction\"\"\".format(min_x=min_x, max_x=max_x, min_y=min_y, max_y=max_y))\n",
        "    \n",
        "    # Generate two sorted lists of random x and y coordinates \n",
        "    random_x_coordinates = np.sort(np.random.randint(min_x, max_x, size=number_of_points))\n",
        "    random_y_coordinates = np.sort(np.random.randint(min_y, max_y, size=number_of_points))\n",
        "    \n",
        "#     print(\"Randomly generated x coordinates: {lx}\".format(lx=str(random_x_coordinates)))\n",
        "#     print(\"Randomly generated y coordinates: {ly}\".format(ly=str(random_y_coordinates)))\n",
        "    \n",
        "    # Get the biggest and smallest values (the \"extreme\" points)\n",
        "    # The list is sorted - so we can grab the first and last elements\n",
        "    max_x = random_x_coordinates[-1]\n",
        "    max_y = random_y_coordinates[-1]\n",
        "    min_x = random_x_coordinates[0]\n",
        "    min_y = random_y_coordinates[0]\n",
        "    \n",
        "#     print(\"Extreme x coordinates: {min_x} (smallest) and {max_x} (biggest)\".format(min_x=min_x, max_x=max_x))\n",
        "#     print(\"Extreme x coordinates: {min_y} (smallest) and {max_y} (biggest)\".format(min_y=min_y, max_y=max_y))\n",
        "    \n",
        "    # Randomly divide the non-extreme points into two chains\n",
        "    # Extreme are found at 0 and at len-1 \n",
        "    x_vec = np.empty(number_of_points)\n",
        "    y_vec = np.empty(number_of_points)\n",
        "    \n",
        "    # x vector \n",
        "    last_seen_top = min_x\n",
        "    last_seen_bottom = min_x\n",
        "    \n",
        "    # For each non-extreme point...\n",
        "    for i in range(1, number_of_points - 1):\n",
        "        x = random_x_coordinates[i]\n",
        "        \n",
        "        if(bool(random.randrange(2))): \n",
        "            x_vec[i - 1] = x - last_seen_top\n",
        "            last_seen_top = x\n",
        "        else: \n",
        "            x_vec[i - 1] = last_seen_bottom - x \n",
        "            last_seen_bottom = x\n",
        "           \n",
        "    x_vec[number_of_points - 2] = max_x - last_seen_top \n",
        "    x_vec[number_of_points - 1] = last_seen_bottom - max_x\n",
        "    \n",
        "    # y vector \n",
        "    last_seen_right = min_y\n",
        "    last_seen_left = min_y\n",
        "    \n",
        "    for i in range(1, number_of_points - 1):\n",
        "        temp_y = random_y_coordinates[i]\n",
        "        \n",
        "        if(bool(random.randrange(2))): \n",
        "            y_vec[i - 1] = temp_y - last_seen_left\n",
        "            last_seen_left = temp_y\n",
        "        else:\n",
        "            y_vec[i - 1] = last_seen_right - temp_y\n",
        "            last_seen_right = temp_y\n",
        "    \n",
        "    y_vec[number_of_points - 2] = max_y - last_seen_left\n",
        "    y_vec[number_of_points - 1] = last_seen_right - max_y\n",
        "    \n",
        "    # Randomly pair the x and ys \n",
        "    random.shuffle(y_vec)\n",
        "    \n",
        "    # Combine the paired up components into vectors\n",
        "    def find_vector_angle(v): \n",
        "        return math.atan2(v[1], v[0]) \n",
        "    \n",
        "    # Sort the vectors by angle\n",
        "    vectors = np.array(sorted(zip(x_vec, y_vec), key = find_vector_angle))\n",
        "    \n",
        "#     print(\"VECTORS:\")\n",
        "#     print(vectors)\n",
        "\n",
        "    # Lay them end-to-end\n",
        "    new_x = 0 \n",
        "    new_y = 0 \n",
        "    min_polygon_x = 0 \n",
        "    min_polygon_y = 0\n",
        "    \n",
        "    points = []\n",
        "\n",
        "    for vector_x, vector_y in vectors: \n",
        "        points.append((new_x, new_y))\n",
        "        \n",
        "        new_x += vector_x\n",
        "        new_y += vector_y\n",
        "        \n",
        "        min_polygon_x = min(min_polygon_x, new_x)\n",
        "        min_polygon_y = min(min_polygon_y, new_y)\n",
        "        \n",
        "        \n",
        "    # Move the polygon to the original min and max coordinates\n",
        "    shift_x = min_x - min_polygon_x;\n",
        "    shift_y = min_y - min_polygon_y;\n",
        "        \n",
        "    points = [(point_x + shift_x, point_y + shift_y) for point_x, point_y in points]\n",
        "    \n",
        "#     print(\"POINTS\")\n",
        "#     print(points)\n",
        "    return np.array(points)"
      ],
      "execution_count": null,
      "outputs": []
    },
    {
      "cell_type": "markdown",
      "metadata": {
        "id": "uy7hD9kRTA9b"
      },
      "source": [
        "#### Example"
      ]
    },
    {
      "cell_type": "markdown",
      "metadata": {
        "id": "EL9lEEnsTA9b"
      },
      "source": [
        "To show that our implementation of Valtr's Algorithm works as we expect it to - we can generate the points for an 6-sided polygon and plot it. "
      ]
    },
    {
      "cell_type": "code",
      "metadata": {
        "colab": {
          "base_uri": "https://localhost:8080/",
          "height": 542
        },
        "id": "ujJTiC-mTA9b",
        "scrolled": false,
        "outputId": "815115db-f8c9-4f4c-a78c-bc106d211a8e"
      },
      "source": [
        "\"\"\"\n",
        "Get the vertices for a 6-sided polygon centered around (0,0) that is contained within -25 and +25 on the x-axis \n",
        "and -25 and +25 on the y-axis\n",
        "\"\"\"\n",
        "#example_random_convex_6_size_poly = generate_random_convex_polygon(0, 0, 50, 50, 6)\n",
        "\n",
        "# Create figure \n",
        "fig, axs = plt.subplots(figsize=(10,5))\n",
        "\n",
        "# Plot the 6-sided polygon as a list of points \n",
        "axs[0].set_xlim([-50, 50])\n",
        "axs[0].set_ylim([-50, 50])\n",
        "\n",
        "pts = list(zip(*example_random_convex_6_size_poly))\n",
        "print(\"Vertices are: \" + str(example_random_convex_6_size_poly))\n",
        "axs[0].scatter(pts[0],pts[1], c='k')\n",
        "\n",
        "for i,v in enumerate(example_random_convex_6_size_poly):\n",
        "    axs[0].annotate(\"V\" + str(i), (v[0], v[1]))\n",
        "\n",
        "# Plot the 6-sided polygon as a filled-in shape \n",
        "axs[1].set_xlim([-50, 50])\n",
        "axs[1].set_ylim([-50, 50])\n",
        "poly = Polygon(example_random_convex_6_size_poly, facecolor='k')\n",
        "axs[1].add_patch(poly)\n",
        "\n",
        "plt.show()"
      ],
      "execution_count": null,
      "outputs": [
        {
          "ename": "TypeError",
          "evalue": "ignored",
          "output_type": "error",
          "traceback": [
            "\u001b[0;31m---------------------------------------------------------------------------\u001b[0m",
            "\u001b[0;31mTypeError\u001b[0m                                 Traceback (most recent call last)",
            "\u001b[0;32m<ipython-input-8-17aa44d76b6f>\u001b[0m in \u001b[0;36m<module>\u001b[0;34m()\u001b[0m\n\u001b[1;32m      9\u001b[0m \u001b[0;34m\u001b[0m\u001b[0m\n\u001b[1;32m     10\u001b[0m \u001b[0;31m# Plot the 6-sided polygon as a list of points\u001b[0m\u001b[0;34m\u001b[0m\u001b[0;34m\u001b[0m\u001b[0;34m\u001b[0m\u001b[0m\n\u001b[0;32m---> 11\u001b[0;31m \u001b[0maxs\u001b[0m\u001b[0;34m[\u001b[0m\u001b[0;36m0\u001b[0m\u001b[0;34m]\u001b[0m\u001b[0;34m.\u001b[0m\u001b[0mset_xlim\u001b[0m\u001b[0;34m(\u001b[0m\u001b[0;34m[\u001b[0m\u001b[0;34m-\u001b[0m\u001b[0;36m50\u001b[0m\u001b[0;34m,\u001b[0m \u001b[0;36m50\u001b[0m\u001b[0;34m]\u001b[0m\u001b[0;34m)\u001b[0m\u001b[0;34m\u001b[0m\u001b[0;34m\u001b[0m\u001b[0m\n\u001b[0m\u001b[1;32m     12\u001b[0m \u001b[0maxs\u001b[0m\u001b[0;34m[\u001b[0m\u001b[0;36m0\u001b[0m\u001b[0;34m]\u001b[0m\u001b[0;34m.\u001b[0m\u001b[0mset_ylim\u001b[0m\u001b[0;34m(\u001b[0m\u001b[0;34m[\u001b[0m\u001b[0;34m-\u001b[0m\u001b[0;36m50\u001b[0m\u001b[0;34m,\u001b[0m \u001b[0;36m50\u001b[0m\u001b[0;34m]\u001b[0m\u001b[0;34m)\u001b[0m\u001b[0;34m\u001b[0m\u001b[0;34m\u001b[0m\u001b[0m\n\u001b[1;32m     13\u001b[0m \u001b[0;34m\u001b[0m\u001b[0m\n",
            "\u001b[0;31mTypeError\u001b[0m: 'AxesSubplot' object is not subscriptable"
          ]
        },
        {
          "data": {
            "image/png": "[encoded data removed]",
            "text/plain": [
              "<Figure size 720x360 with 1 Axes>"
            ]
          },
          "metadata": {},
          "output_type": "display_data"
        }
      ]
    },
    {
      "cell_type": "markdown",
      "metadata": {
        "id": "X1Kw358xTA9c"
      },
      "source": [
        "### Randomly Generated Convex Polygon with Bezier Curves Generation"
      ]
    },
    {
      "cell_type": "markdown",
      "metadata": {
        "id": "24R_L_XCTA9c"
      },
      "source": [
        "#### Generation Function"
      ]
    },
    {
      "cell_type": "code",
      "metadata": {
        "id": "t772Mh4xTA9d"
      },
      "source": [
        "\"\"\"\n",
        "This function assumes: \n",
        "* the vertices are given in either a clockwise or counterclockwise \n",
        "ordering of the convex hull \n",
        "\n",
        "and takes in: \n",
        "* a list of vertices describing a convex polygon\n",
        "\n",
        "and returns: \n",
        "* n new patchs describing n new polygons - one for a quadratic Bezier \n",
        "curve taking the place of each edge \n",
        "\"\"\"\n",
        "def generate_quad_Beziered_convex_polygons(vertices):\n",
        "    num_vertices = len(vertices)\n",
        "    codes_default = [1]\n",
        "    \n",
        "    name = 0\n",
        "    \n",
        "    # Quadratic\n",
        "    codes_quad_transform = [3,3] + ([2] * (num_vertices-3))\n",
        "    for i in range(num_vertices-2): \n",
        "        codes = codes_default + codes_quad_transform[-i:] + codes_quad_transform[:-i]\n",
        "\n",
        "        path = mpath.Path(vertices, codes)\n",
        "\n",
        "        curve_points = [i for i, j in zip(vertices, codes) if j==3]\n",
        "\n",
        "        print(\"Quadratic Bezier curve applied to the following points: \") \n",
        "        for i in curve_points: \n",
        "            print(\"* \" + str(i))\n",
        "        fig, axs = plt.subplots(figsize=(10,5))\n",
        "        patch = PathPatch(path, facecolor='k', fill=True, lw=2)\n",
        "        axs.add_patch(patch)\n",
        "        crv_pts = list(zip(*curve_points))\n",
        "        axs.scatter(pts[0], pts[1], c='r', marker='x')\n",
        "        axs.scatter(crv_pts[0], crv_pts[1], c='g', marker='x')\n",
        "        axs.set_xlim([-50, 50])\n",
        "        axs.set_ylim([-50, 50])\n",
        "        fig.savefig(\"quad_\" + str(name) + \".png\", dpi=400)\n",
        "        name += 1\n",
        "        \n",
        "    for i in [2,1]:\n",
        "        shifted_vertices = collections.deque(vertices)\n",
        "        shifted_vertices.rotate(i)\n",
        "        shifted_vertices = list(shifted_vertices)\n",
        "        codes = codes_default + codes_quad_transform \n",
        "        \n",
        "        path = mpath.Path(shifted_vertices, codes)\n",
        "\n",
        "        curve_points = [i for i, j in zip(shifted_vertices, codes) if j==3]\n",
        "\n",
        "        print(\"Quadratic Bezier curve applied to the following points: \") \n",
        "        for i in curve_points: \n",
        "            print(\"* \" + str(i))\n",
        "        fig, axs = plt.subplots(figsize=(10,5))\n",
        "        patch = PathPatch(path, facecolor='k', fill=True, lw=2)\n",
        "        axs.add_patch(patch)\n",
        "        crv_pts = list(zip(*curve_points))\n",
        "        axs.scatter(pts[0], pts[1], c='r', marker='x')\n",
        "        axs.scatter(crv_pts[0], crv_pts[1], c='g', marker='x')\n",
        "        axs.set_xlim([-50, 50])\n",
        "        axs.set_ylim([-50, 50])\n",
        "        fig.savefig(\"quad_\" + str(name) + \".png\", dpi=400)\n",
        "        name += 1"
      ],
      "execution_count": null,
      "outputs": []
    },
    {
      "cell_type": "code",
      "metadata": {
        "colab": {
          "base_uri": "https://localhost:8080/",
          "height": 234
        },
        "id": "hys-37gETA9d",
        "scrolled": false,
        "outputId": "4d08db1d-6e6f-4749-aeff-2f491e28c79a"
      },
      "source": [
        "print(\"Vertices are: \")\n",
        "print(example_random_convex_6_size_poly)\n",
        "\n",
        "generate_quad_Beziered_convex_polygons(example_random_convex_6_size_poly)"
      ],
      "execution_count": null,
      "outputs": [
        {
          "name": "stdout",
          "output_type": "stream",
          "text": [
            "Vertices are: \n"
          ]
        },
        {
          "ename": "NameError",
          "evalue": "ignored",
          "output_type": "error",
          "traceback": [
            "\u001b[0;31m---------------------------------------------------------------------------\u001b[0m",
            "\u001b[0;31mNameError\u001b[0m                                 Traceback (most recent call last)",
            "\u001b[0;32m<ipython-input-10-bbe46dc24815>\u001b[0m in \u001b[0;36m<module>\u001b[0;34m()\u001b[0m\n\u001b[1;32m      1\u001b[0m \u001b[0mprint\u001b[0m\u001b[0;34m(\u001b[0m\u001b[0;34m\"Vertices are: \"\u001b[0m\u001b[0;34m)\u001b[0m\u001b[0;34m\u001b[0m\u001b[0;34m\u001b[0m\u001b[0m\n\u001b[0;32m----> 2\u001b[0;31m \u001b[0mprint\u001b[0m\u001b[0;34m(\u001b[0m\u001b[0mexample_random_convex_6_size_poly\u001b[0m\u001b[0;34m)\u001b[0m\u001b[0;34m\u001b[0m\u001b[0;34m\u001b[0m\u001b[0m\n\u001b[0m\u001b[1;32m      3\u001b[0m \u001b[0;34m\u001b[0m\u001b[0m\n\u001b[1;32m      4\u001b[0m \u001b[0mgenerate_quad_Beziered_convex_polygons\u001b[0m\u001b[0;34m(\u001b[0m\u001b[0mexample_random_convex_6_size_poly\u001b[0m\u001b[0;34m)\u001b[0m\u001b[0;34m\u001b[0m\u001b[0;34m\u001b[0m\u001b[0m\n",
            "\u001b[0;31mNameError\u001b[0m: name 'example_random_convex_6_size_poly' is not defined"
          ]
        }
      ]
    },
    {
      "cell_type": "code",
      "metadata": {
        "id": "fTvY01K5TA9e"
      },
      "source": [
        "\"\"\"\n",
        "\n",
        "\"\"\"\n",
        "def generate_cub_Beziered_convex_polygons(vertices):\n",
        "    num_vertices = len(vertices)\n",
        "    codes_default = [1]\n",
        "    \n",
        "    name = 0\n",
        "    \n",
        "    # Quadratic\n",
        "    codes_quad_transform = [4,4,4] + ([2] * (num_vertices-4))\n",
        "    for i in range(num_vertices-3): \n",
        "        codes = codes_default + codes_quad_transform[-i:] + codes_quad_transform[:-i]\n",
        "\n",
        "        path = mpath.Path(vertices, codes)\n",
        "\n",
        "        curve_points = [i for i, j in zip(vertices, codes) if j==4]\n",
        "\n",
        "        print(\"Cubic Bezier curve applied to the following points: \") \n",
        "        for i in curve_points: \n",
        "            print(\"* \" + str(i))\n",
        "        fig, axs = plt.subplots(figsize=(10,5))\n",
        "        patch = PathPatch(path, facecolor='k', fill=True, lw=2)\n",
        "        axs.add_patch(patch)\n",
        "        crv_pts = list(zip(*curve_points))\n",
        "        axs.scatter(pts[0], pts[1], c='r', marker='x')\n",
        "        axs.scatter(crv_pts[0], crv_pts[1], c='g', marker='x')\n",
        "        axs.set_xlim([-50, 50])\n",
        "        axs.set_ylim([-50, 50])\n",
        "        fig.savefig(\"cubic_\" + str(name) + \".png\", dpi=400)\n",
        "        name += 1\n",
        "        \n",
        "    for i in [3,2,1]:\n",
        "        shifted_vertices = collections.deque(vertices)\n",
        "        shifted_vertices.rotate(i)\n",
        "        shifted_vertices = list(shifted_vertices)\n",
        "        codes = codes_default + codes_quad_transform \n",
        "        \n",
        "        path = mpath.Path(shifted_vertices, codes)\n",
        "\n",
        "        curve_points = [i for i, j in zip(shifted_vertices, codes) if j==4]\n",
        "\n",
        "        print(\"Cubic Bezier curve applied to the following points: \") \n",
        "        for i in curve_points: \n",
        "            print(\"* \" + str(i))\n",
        "        fig, axs = plt.subplots(figsize=(10,5))\n",
        "        patch = PathPatch(path, facecolor='k', fill=True, lw=2)\n",
        "        axs.add_patch(patch)\n",
        "        crv_pts = list(zip(*curve_points))\n",
        "        axs.scatter(pts[0], pts[1], c='r', marker='x')\n",
        "        axs.scatter(crv_pts[0], crv_pts[1], c='g', marker='x')\n",
        "        axs.set_xlim([-50, 50])\n",
        "        axs.set_ylim([-50, 50])\n",
        "        fig.savefig(\"cubic_\" + str(name) + \".png\", dpi=400)\n",
        "        name += 1"
      ],
      "execution_count": null,
      "outputs": []
    },
    {
      "cell_type": "code",
      "metadata": {
        "id": "eQWQsZhpTA9e"
      },
      "source": [
        "print(\"Vertices are: \")\n",
        "print(example_random_convex_6_size_poly)\n",
        "\n",
        "generate_cub_Beziered_convex_polygons(example_random_convex_6_size_poly)"
      ],
      "execution_count": null,
      "outputs": []
    },
    {
      "cell_type": "markdown",
      "metadata": {
        "id": "6h4YOW8JTA9f"
      },
      "source": [
        "#### Example"
      ]
    },
    {
      "cell_type": "markdown",
      "metadata": {
        "id": "H0cr0wxsTA9f"
      },
      "source": [
        "Here we use a 6-sided polygon randomly generated by the algorithm above. "
      ]
    },
    {
      "cell_type": "code",
      "metadata": {
        "id": "TD2uZENLTA9f"
      },
      "source": [
        "\"\"\"\n",
        "Show an example of a quadratic bezier curve between two points on a randomly generated 6-sided polygon\n",
        "\"\"\"\n",
        "vertices = example_random_convex_6_size_poly\n",
        "\n",
        "#[[-23, 5], [-23, -10], [8,-17], [22,-13.], [16,-6], [0, -1]]\n",
        "\n",
        "fig, axs = plt.subplots(ncols=3, figsize=(20,6))\n",
        "fig.suptitle('6-Sided Randomly Generated Convex Polygon with Quadratic Bezier Curve', fontsize=16)\n",
        "\n",
        "# Plot the 6-sided polygon as a list of points \n",
        "axs[0].set_xlim([-50, 50])\n",
        "axs[0].set_ylim([-50, 50])\n",
        "\n",
        "print(\"Vertices are:\" + str(vertices))\n",
        "pts = list(zip(*vertices))\n",
        "axs[0].scatter(pts[0],pts[1], c='r', marker='x')\n",
        "for i,v in enumerate(vertices):\n",
        "    axs[0].annotate(\"(\" + str(v[0]) + \", \" + str(v[1]) + \")\", (v[0], v[1]))\n",
        "\n",
        "# Plot the 6-sided polygon as a filled-in shape \n",
        "axs[1].set_xlim([-50, 50])\n",
        "axs[1].set_ylim([-50, 50])\n",
        "poly = Polygon(vertices, facecolor='k')\n",
        "axs[1].add_patch(poly)\n",
        "axs[1].scatter(pts[0],pts[1], c='r', marker='x')\n",
        "\n",
        "codes = [\n",
        "    mpath.Path.MOVETO,\n",
        "    mpath.Path.LINETO,\n",
        "    mpath.Path.LINETO,\n",
        "    mpath.Path.LINETO,\n",
        "    mpath.Path.CURVE3,\n",
        "    mpath.Path.CURVE3,\n",
        "]\n",
        "\n",
        "print(codes)\n",
        "\n",
        "path = mpath.Path(vertices, codes)\n",
        "\n",
        "curve_points = [vertices[1], vertices[2], vertices[5]]\n",
        "\n",
        "#[i for i, j in zip(vertices, codes) if j==3]\n",
        "\n",
        "print(\"Quadratic Bezier curve applied to the following points: \") \n",
        "for i in curve_points: \n",
        "    print(\"* \" + str(i))\n",
        "    \n",
        "patch = PathPatch(path, facecolor='k', fill=True, lw=2)\n",
        "axs[2].add_patch(patch)\n",
        "crv_pts = list(zip(*curve_points))\n",
        "axs[2].scatter(pts[0], pts[1], c='r', marker='x')\n",
        "axs[2].scatter(crv_pts[0], crv_pts[1], c='g', marker='x')\n",
        "axs[2].set_xlim([-50, 50])\n",
        "axs[2].set_ylim([-50, 50])"
      ],
      "execution_count": null,
      "outputs": []
    },
    {
      "cell_type": "code",
      "metadata": {
        "id": "MvM0TTarTA9f",
        "scrolled": false
      },
      "source": [
        "\"\"\"\n",
        "Show an example of a cubic bezier curve between three points on a randomly generated 6-sided polygon\n",
        "\"\"\"\n",
        "#vertices = example_random_convex_6_size_poly\n",
        "\n",
        "print(vertices)\n",
        "\n",
        "fig, axs = plt.subplots(ncols=3, figsize=(20,6))\n",
        "fig.suptitle('6-Sided Randomly Generated Convex Polygon with Cubic Bezier Curve', fontsize=16)\n",
        "\n",
        "# Plot the 6-sided polygon as a list of points \n",
        "axs[0].set_xlim([-50, 50])\n",
        "axs[0].set_ylim([-50, 50])\n",
        "\n",
        "pts = list(zip(*vertices))\n",
        "axs[0].scatter(pts[0],pts[1], c='r', marker='x')\n",
        "for i,v in enumerate(vertices):\n",
        "    axs[0].annotate(\"(\" + str(v[0]) + \", \" + str(v[1]) + \")\", (v[0], v[1]))\n",
        "\n",
        "# Plot the 6-sided polygon as a filled-in shape \n",
        "axs[1].set_xlim([-50, 50])\n",
        "axs[1].set_ylim([-50, 50])\n",
        "poly = Polygon(vertices, facecolor='k')\n",
        "axs[1].add_patch(poly)\n",
        "axs[1].scatter(pts[0],pts[1], c='r', marker='x')\n",
        "\n",
        "codes = [\n",
        "    mpath.Path.MOVETO,\n",
        "    mpath.Path.LINETO,\n",
        "    mpath.Path.LINETO,\n",
        "    mpath.Path.CURVE4,\n",
        "    mpath.Path.CURVE4,\n",
        "    mpath.Path.CURVE4,\n",
        "]\n",
        "\n",
        "path = mpath.Path(vertices, codes)\n",
        "\n",
        "curve_points = [vertices[2], vertices[3], vertices[4], vertices[5]] #[i for i, j in zip(vertices, codes) if j==4]\n",
        "\n",
        "print(\"Cubic Bezier curve applied to the following points: \") \n",
        "for i in curve_points: \n",
        "    print(\"* \" + str(i))\n",
        "\n",
        "patch = PathPatch(path, facecolor='k', fill=True, lw=2)\n",
        "axs[2].add_patch(patch)\n",
        "crv_pts = list(zip(*curve_points))\n",
        "axs[2].scatter(pts[0], pts[1], c='r', marker='x')\n",
        "axs[2].scatter(crv_pts[0], crv_pts[1], c='g', marker='x')\n",
        "axs[2].set_xlim([-50, 50])\n",
        "axs[2].set_ylim([-50, 50])"
      ],
      "execution_count": null,
      "outputs": []
    },
    {
      "cell_type": "code",
      "metadata": {
        "id": "9Par7PFRJXuF"
      },
      "source": [
        "datasetSize = 1500\n",
        "for i in range(datasetSize):\n",
        "#Original\n",
        "  filename = str(i)\n",
        "  filepath = os.path.join(PATH_TO_ORIGINAL_IMGS, filename)\n",
        "\n",
        "  verts = generate_random_convex_polygon(0, 0, 50, 50, 7)\n",
        "  savePoly(verts, filepath)\n",
        "\n",
        "  #Transormation\n",
        "  filepath = os.path.join(PATH_TO_TRANSLATED_IMGS, filename)\n",
        "\n",
        "  # Random transformation paratmers\n",
        "  dx = np.random.uniform(-20,20,1)[0]\n",
        "  dy = np.random.uniform(-20,20,1)[0]\n",
        "  theta = np.random.uniform(0,360,1)[0]\n",
        "  sx = np.random.uniform(0.4,2,1)[0]\n",
        "  sy = np.random.uniform(0.4,2,1)[0]\n",
        "\n",
        "  params = np.array([dx, dy, theta, sx, sy])\n",
        "  A, S = getTransformations(params)\n",
        "  verts_t = applyTranformation(verts, A, S)\n",
        "  savePoly(verts_t, filepath)\n",
        "\n",
        "  #Save label (transformation params)\n",
        "  filepath = os.path.join(PATH_TO_LABELS, filename)\n",
        "  np.save(filepath+'.npy', params)"
      ],
      "execution_count": null,
      "outputs": []
    },
    {
      "cell_type": "markdown",
      "metadata": {
        "id": "IDT2d0vuco6V"
      },
      "source": [
        "## Generating dataset"
      ]
    },
    {
      "cell_type": "markdown",
      "metadata": {
        "id": "vOapXnvxctOV"
      },
      "source": [
        "## Dataset Loader"
      ]
    },
    {
      "cell_type": "code",
      "metadata": {
        "id": "fAp9ele3nciK"
      },
      "source": [
        "def linInterpol(x, x1 = -256.0, y1 = -10.0, x2 = 256.0, y2 = 10.0):\n",
        "  return y1+((y2-y1)/(x2-x1))*(x-x1)"
      ],
      "execution_count": 11,
      "outputs": []
    },
    {
      "cell_type": "code",
      "metadata": {
        "id": "msIENki5OrDv"
      },
      "source": [
        "class AffineDataset(Dataset):\n",
        "  def __init__(self, img_dir, img_t_dir, annotations_dir, transform=None, target_transform=None, norm_out= False):\n",
        "        # self.img_labels = pd.read_csv(annotations_file)\n",
        "        # self.img_labels = np.load(annotations_)\n",
        "        self.norm_out = norm_out\n",
        "        self.annotations_dir = annotations_dir\n",
        "        self.img_dir = img_dir\n",
        "        self.img_t_dir = img_t_dir\n",
        "        self.transform = transform\n",
        "        self.target_transform = target_transform\n",
        "        self.paths = []\n",
        "        for path in glob(self.img_dir+'/*png'):\n",
        "          self.paths.append(path)\n",
        "\n",
        "  def __len__(self):\n",
        "      return len(self.paths)\n",
        "\n",
        "  def __getitem__(self, idx):\n",
        "      img_path = self.paths[idx]\n",
        "      filename = os.path.basename(img_path).split('.')[0]\n",
        "      # img_path = os.path.join(self.img_dir, str(idx)+'.png')\n",
        "      img_t_path = os.path.join(self.img_t_dir, filename+'.png')\n",
        "      image = read_image(img_path)\n",
        "      image_t = read_image(img_t_path)\n",
        "      #plt.imsave saves 4 channels for some reason, ignore the last one\n",
        "      image = image[:3,:,:] \n",
        "      image_t = image_t[:3,:,:]\n",
        "      label_segments = filename.split('_')\n",
        "      if label_segments[-1] == 'cub':\n",
        "        labelname = filename[:-4]\n",
        "      elif label_segments[-1] == 'quad':\n",
        "        labelname = filename[:-5]\n",
        "      else:\n",
        "        labelname = filename\n",
        "      # print(f'File name: {filename}')\n",
        "      # print(f'Label name : {labelname}')\n",
        "      # labelname = label_segments[0]+'_'+label_segments[1]+'_'+label_segments[2]+'_'+label_segments[3]\n",
        "      label_path = os.path.join(self.annotations_dir, labelname+'.npy')\n",
        "      label = np.load(label_path)\n",
        "      if self.norm_out:\n",
        "        #Normalize label\n",
        "        # label = (label-(-256.0))/(256.0-(-256.0))\n",
        "        label = linInterpol(label)\n",
        "        #Use linear interpolation between -10 an 10\n",
        "      if self.transform:\n",
        "          image = self.transform(image)\n",
        "          image_t = self.transform(image_t)\n",
        "      if self.target_transform:\n",
        "          image = self.target_transform(label)\n",
        "      return image, image_t, label\n",
        "\n",
        "batch_size = 128\n",
        "\n",
        "# Online transformations\n",
        "transform = transforms.Compose([\n",
        "                    transforms.ToPILImage(),\n",
        "                    transforms.Grayscale(1),\n",
        "                    transforms.Resize([IMG_WIDTH, IMG_HEIGHT]),\n",
        "                    transforms.ColorJitter(brightness=(0.3,1), contrast=(0.3,1)),\n",
        "                    transforms.ToTensor(),\n",
        "                    transforms.Normalize(0.5, 0.5)])"
      ],
      "execution_count": 12,
      "outputs": []
    },
    {
      "cell_type": "markdown",
      "metadata": {
        "id": "EBw71CAm7LmO"
      },
      "source": [
        "## Non-normalized output"
      ]
    },
    {
      "cell_type": "code",
      "metadata": {
        "colab": {
          "base_uri": "https://localhost:8080/"
        },
        "id": "uux5vwAg7ESX",
        "outputId": "901e4b00-d584-4d1b-b360-44f12bb3816f"
      },
      "source": [
        "affine_dataset = AffineDataset(PATH_TO_ORIGINAL_IMGS, PATH_TO_TRANSLATED_IMGS, PATH_TO_LABELS, transform=transform)\n",
        "\n",
        "print(f'Dataset size: {len(affine_dataset)}')\n",
        "\n",
        "trainloader = DataLoader(affine_dataset, batch_size=batch_size,\n",
        "                        shuffle=True, num_workers=0)\n",
        "\n",
        "# dataiter = iter(trainloader)\n",
        "# images, images_t,  labels = dataiter.next()\n",
        "# print(labels)"
      ],
      "execution_count": 16,
      "outputs": [
        {
          "output_type": "stream",
          "name": "stdout",
          "text": [
            "Dataset size: 19353\n"
          ]
        }
      ]
    },
    {
      "cell_type": "markdown",
      "metadata": {
        "id": "kfh6g4MH7PEO"
      },
      "source": [
        "## Normalized output"
      ]
    },
    {
      "cell_type": "code",
      "metadata": {
        "colab": {
          "base_uri": "https://localhost:8080/"
        },
        "id": "pGEWUEzy7KK-",
        "outputId": "73371bf9-efd1-4ca2-9540-a31863cdcba0"
      },
      "source": [
        "affine_dataset = AffineDataset(PATH_TO_ORIGINAL_IMGS, PATH_TO_TRANSLATED_IMGS, PATH_TO_LABELS, transform=transform, norm_out=True)\n",
        "\n",
        "print(f'Dataset size: {len(affine_dataset)}')\n",
        "\n",
        "trainloader = DataLoader(affine_dataset, batch_size=batch_size,\n",
        "                        shuffle=True, num_workers=0)\n",
        "# dataiter = iter(trainloader)\n",
        "# images, images_t,  labels = dataiter.next()\n",
        "# print(labels)"
      ],
      "execution_count": 46,
      "outputs": [
        {
          "output_type": "stream",
          "name": "stdout",
          "text": [
            "Dataset size: 19353\n"
          ]
        }
      ]
    },
    {
      "cell_type": "code",
      "metadata": {
        "colab": {
          "base_uri": "https://localhost:8080/",
          "height": 168
        },
        "id": "4ocUSUVVpsW0",
        "outputId": "071006d0-5ed2-4fbc-e514-ae0049b8380f"
      },
      "source": [
        "torch.min(labels)"
      ],
      "execution_count": null,
      "outputs": [
        {
          "ename": "NameError",
          "evalue": "ignored",
          "output_type": "error",
          "traceback": [
            "\u001b[0;31m---------------------------------------------------------------------------\u001b[0m",
            "\u001b[0;31mNameError\u001b[0m                                 Traceback (most recent call last)",
            "\u001b[0;32m<ipython-input-14-88949d493129>\u001b[0m in \u001b[0;36m<module>\u001b[0;34m()\u001b[0m\n\u001b[0;32m----> 1\u001b[0;31m \u001b[0mtorch\u001b[0m\u001b[0;34m.\u001b[0m\u001b[0mmin\u001b[0m\u001b[0;34m(\u001b[0m\u001b[0mlabels\u001b[0m\u001b[0;34m)\u001b[0m\u001b[0;34m\u001b[0m\u001b[0;34m\u001b[0m\u001b[0m\n\u001b[0m",
            "\u001b[0;31mNameError\u001b[0m: name 'labels' is not defined"
          ]
        }
      ]
    },
    {
      "cell_type": "markdown",
      "metadata": {
        "id": "ontbv6161msB"
      },
      "source": [
        "## Visualization"
      ]
    },
    {
      "cell_type": "code",
      "metadata": {
        "id": "gYN8gxi1FbvI"
      },
      "source": [
        "def plotGrayScale(tensor, title):\n",
        "  tensor = tensor / 2 + 0.5     # unnormalize\n",
        "  npimg = tensor.numpy()\n",
        "  plt.imshow(np.transpose(npimg, (1, 2, 0)))\n",
        "  plt.title(title)\n",
        "  # plt.show()"
      ],
      "execution_count": 20,
      "outputs": []
    },
    {
      "cell_type": "code",
      "metadata": {
        "colab": {
          "base_uri": "https://localhost:8080/",
          "height": 432
        },
        "id": "v0hkvPIqxmO7",
        "outputId": "aa352777-74d2-4992-b5cb-698b87767979"
      },
      "source": [
        "# def plotGrayScale(tensor, title):\n",
        "#   tensor = tensor / 2 + 0.5     # unnormalize\n",
        "#   npimg = tensor.numpy()\n",
        "#   plt.imshow(np.transpose(npimg, (1, 2, 0)))\n",
        "#   plt.title(title)\n",
        "#   # plt.show()\n",
        "\n",
        "dataiter = iter(trainloader)\n",
        "images, images_t,  labels = dataiter.next()\n",
        "print(labels)\n",
        "\n",
        "# show images\n",
        "plotGrayScale(torchvision.utils.make_grid(images), \"Originals\")\n",
        "plt.show()\n",
        "plotGrayScale(torchvision.utils.make_grid(images_t), \"Transforms\")\n",
        "plt.show()\n",
        "print(f'Transform parameters')\n",
        "for label in labels:\n",
        "  print(label)\n"
      ],
      "execution_count": null,
      "outputs": [
        {
          "name": "stdout",
          "output_type": "stream",
          "text": [
            "tensor([[0.7172, 0.4449, 0.4826, 0.5029, 0.5029],\n",
            "        [0.6224, 0.6711, 0.4828, 0.5035, 0.5035],\n",
            "        [0.6708, 0.2817, 0.5672, 0.5029, 0.5029],\n",
            "        [0.3633, 0.5635, 0.4313, 0.5017, 0.5017]], dtype=torch.float64)\n"
          ]
        },
        {
          "data": {
            "image/png": "[encoded data removed]",
            "text/plain": [
              "<Figure size 432x288 with 1 Axes>"
            ]
          },
          "metadata": {},
          "output_type": "display_data"
        },
        {
          "data": {
            "image/png": "[encoded data removed]",
            "text/plain": [
              "<Figure size 432x288 with 1 Axes>"
            ]
          },
          "metadata": {},
          "output_type": "display_data"
        },
        {
          "name": "stdout",
          "output_type": "stream",
          "text": [
            "Transform parameters\n",
            "tensor([0.7172, 0.4449, 0.4826, 0.5029, 0.5029], dtype=torch.float64)\n",
            "tensor([0.6224, 0.6711, 0.4828, 0.5035, 0.5035], dtype=torch.float64)\n",
            "tensor([0.6708, 0.2817, 0.5672, 0.5029, 0.5029], dtype=torch.float64)\n",
            "tensor([0.3633, 0.5635, 0.4313, 0.5017, 0.5017], dtype=torch.float64)\n"
          ]
        }
      ]
    },
    {
      "cell_type": "markdown",
      "metadata": {
        "id": "ipH43VY72fod"
      },
      "source": [
        "## AffineNet CNN"
      ]
    },
    {
      "cell_type": "code",
      "metadata": {
        "id": "dHYvkunR2fGV"
      },
      "source": [
        "# PReLU = nn.PReLU().cuda()\n",
        "class AffineNet(nn.Module):\n",
        "  def __init__(self,num_classes=5,activation='ReLU', batchNorm=False):\n",
        "    super(AffineNet,self).__init__()\n",
        "\n",
        "    if activation == 'ReLU':\n",
        "      print('Using ReLU activation')\n",
        "      self.activation = nn.ReLU(inplace=True)\n",
        "    elif activation == 'PReLU':\n",
        "      print('Using PReLU activation')\n",
        "      self.activation = nn.PReLU()\n",
        "\n",
        "    self.batchNorm = batchNorm\n",
        "\n",
        "    # self.activation = nn.PRelU()\n",
        "    if self.batchNorm:\n",
        "      print('Using BatchNorm2D')\n",
        "      self.feature_extraction = nn.Sequential(\n",
        "        nn.Conv2d(in_channels=1,out_channels=96,kernel_size=11,stride=4,padding=2,bias=False),\n",
        "        nn.BatchNorm2d(96),\n",
        "        self.activation,\n",
        "        nn.MaxPool2d(kernel_size=3,stride=2,padding=0),\n",
        "\n",
        "        nn.Conv2d(in_channels=96,out_channels=192,kernel_size=5,stride=1,padding=2,bias=False),\n",
        "        nn.BatchNorm2d(192),\n",
        "        self.activation,\n",
        "        nn.MaxPool2d(kernel_size=3,stride=2,padding=0),\n",
        "\n",
        "        nn.Conv2d(in_channels=192,out_channels=384,kernel_size=3,stride=1,padding=1,bias=False),\n",
        "        nn.BatchNorm2d(384),\n",
        "        self.activation,\n",
        "\n",
        "        nn.Conv2d(in_channels=384,out_channels=256,kernel_size=3,stride=1,padding=1,bias=False),\n",
        "        nn.BatchNorm2d(256),\n",
        "        self.activation,\n",
        "    \n",
        "        nn.Conv2d(in_channels=256,out_channels=256,kernel_size=3,stride=1,padding=1,bias=False),\n",
        "        nn.BatchNorm2d(256),\n",
        "        self.activation,\n",
        "        nn.MaxPool2d(kernel_size=3, stride=2, padding=0)\n",
        "      )\n",
        "    else:\n",
        "      self.feature_extraction = nn.Sequential(\n",
        "        nn.Conv2d(in_channels=1,out_channels=96,kernel_size=11,stride=4,padding=2,bias=False),\n",
        "        self.activation,\n",
        "        nn.MaxPool2d(kernel_size=3,stride=2,padding=0),\n",
        "\n",
        "        nn.Conv2d(in_channels=96,out_channels=192,kernel_size=5,stride=1,padding=2,bias=False),\n",
        "        self.activation,\n",
        "        nn.MaxPool2d(kernel_size=3,stride=2,padding=0),\n",
        "\n",
        "        nn.Conv2d(in_channels=192,out_channels=384,kernel_size=3,stride=1,padding=1,bias=False),\n",
        "        self.activation,\n",
        "\n",
        "        nn.Conv2d(in_channels=384,out_channels=256,kernel_size=3,stride=1,padding=1,bias=False),\n",
        "        self.activation,\n",
        "    \n",
        "        nn.Conv2d(in_channels=256,out_channels=256,kernel_size=3,stride=1,padding=1,bias=False),\n",
        "        self.activation,\n",
        "        nn.MaxPool2d(kernel_size=3, stride=2, padding=0)\n",
        "      )\n",
        "\n",
        "    self.classifier = nn.Sequential(\n",
        "      nn.Dropout(p=0.5),\n",
        "      nn.Linear(in_features=25088,out_features=9216),\n",
        "\n",
        "      self.activation,\n",
        "      nn.Dropout(p=0.5),\n",
        "      nn.Linear(in_features=9216,out_features=4096),\n",
        "      self.activation,\n",
        "\n",
        "      nn.Dropout(p=0.5),\n",
        "      nn.Linear(in_features=4096, out_features=2048),\n",
        "      self.activation,\n",
        "\n",
        "      nn.Dropout(p=0.5),\n",
        "      nn.Linear(in_features=2048, out_features=1024),\n",
        "      self.activation,\n",
        "      nn.Linear(in_features=1024, out_features=num_classes),\n",
        "    )\n",
        "  def forward(self, x1, x2):\n",
        "    x1 = self.feature_extraction(x1)\n",
        "    x2 = self.feature_extraction(x2)\n",
        "    x = torch.cat((x1, x2), 1)\n",
        "    # x = x.view(x.size(0),256*6*6)\n",
        "    x = x.view(x.size(0),-1)\n",
        "    x = self.classifier(x)\n",
        "    return x\n"
      ],
      "execution_count": 13,
      "outputs": []
    },
    {
      "cell_type": "markdown",
      "metadata": {
        "id": "fPwgltRu-wxh"
      },
      "source": [
        "## Using ReLu activation"
      ]
    },
    {
      "cell_type": "code",
      "metadata": {
        "colab": {
          "base_uri": "https://localhost:8080/",
          "height": 232
        },
        "id": "Qx9-DA2a-7rY",
        "outputId": "997cab72-ff22-407a-9a84-f8fd0fb02d2a"
      },
      "source": [
        "# net = AffineNet(activation='PReLU')\n",
        "net = AffineNet()\n",
        "\n",
        "print('---------- Network initialized -------------')\n",
        "num_params = 0\n",
        "for param in net.parameters():\n",
        "  num_params += param.numel()\n",
        "print('[Network] Total number of parameters : %.3f M' % (num_params / 1e6))\n",
        "print('-----------------------------------------------')\n",
        "\n",
        "if torch.cuda.is_available():\n",
        "  print(f'GPU : {torch.cuda.get_device_name(0)}')\n",
        "  cuda0 = torch.device('cuda:0')\n",
        "  net.cuda()"
      ],
      "execution_count": 11,
      "outputs": [
        {
          "output_type": "error",
          "ename": "NameError",
          "evalue": "ignored",
          "traceback": [
            "\u001b[0;31m---------------------------------------------------------------------------\u001b[0m",
            "\u001b[0;31mNameError\u001b[0m                                 Traceback (most recent call last)",
            "\u001b[0;32m<ipython-input-11-62c2b3b529c3>\u001b[0m in \u001b[0;36m<module>\u001b[0;34m()\u001b[0m\n\u001b[1;32m      1\u001b[0m \u001b[0;31m# net = AffineNet(activation='PReLU')\u001b[0m\u001b[0;34m\u001b[0m\u001b[0;34m\u001b[0m\u001b[0;34m\u001b[0m\u001b[0m\n\u001b[0;32m----> 2\u001b[0;31m \u001b[0mnet\u001b[0m \u001b[0;34m=\u001b[0m \u001b[0mAffineNet\u001b[0m\u001b[0;34m(\u001b[0m\u001b[0;34m)\u001b[0m\u001b[0;34m\u001b[0m\u001b[0;34m\u001b[0m\u001b[0m\n\u001b[0m\u001b[1;32m      3\u001b[0m \u001b[0;34m\u001b[0m\u001b[0m\n\u001b[1;32m      4\u001b[0m \u001b[0mprint\u001b[0m\u001b[0;34m(\u001b[0m\u001b[0;34m'---------- Network initialized -------------'\u001b[0m\u001b[0;34m)\u001b[0m\u001b[0;34m\u001b[0m\u001b[0;34m\u001b[0m\u001b[0m\n\u001b[1;32m      5\u001b[0m \u001b[0mnum_params\u001b[0m \u001b[0;34m=\u001b[0m \u001b[0;36m0\u001b[0m\u001b[0;34m\u001b[0m\u001b[0;34m\u001b[0m\u001b[0m\n",
            "\u001b[0;31mNameError\u001b[0m: name 'AffineNet' is not defined"
          ]
        }
      ]
    },
    {
      "cell_type": "code",
      "metadata": {
        "colab": {
          "base_uri": "https://localhost:8080/"
        },
        "id": "_TgU6Q01422x",
        "outputId": "440cdf57-6553-41d4-a786-7f5c8c17d6d9"
      },
      "source": [
        "#Opimizer\n",
        "criterion = torch.nn.L1Loss(reduction='sum').to(cuda0)\n",
        "optimizer = optim.Adam(net.parameters(), lr=0.0001, betas=(0.9, 0.999))\n",
        "\n",
        "myI = 0\n",
        "channels = 2\n",
        "iterations = []\n",
        "losses = []\n",
        "\n",
        "start_time = time.time()\n",
        "\n",
        "for epoch in range(10):  # loop over the dataset multiple times\n",
        "\n",
        "    running_loss = 0.0\n",
        "    for i, data in enumerate(trainloader):\n",
        "      \n",
        "        batch_imgs, batch_imgs_t, labels = data\n",
        "\n",
        "        optimizer.zero_grad()\n",
        "\n",
        "        # forward + backward + optimize\n",
        "        batch_imgs = batch_imgs.to(device=cuda0, dtype=torch.float) #Convert to torch cuda float\n",
        "        batch_imgs_t = batch_imgs_t.to(device=cuda0, dtype=torch.float)\n",
        "        # inputs = inputs.to(device=cuda0, dtype=torch.float) #Convert to torch cuda float\n",
        "        labels = labels.to(device=cuda0, dtype=torch.float)\n",
        "\n",
        "        outputs = net(batch_imgs, batch_imgs_t)\n",
        "\n",
        "        # outputs = outputs.reshape((5))\n",
        "        loss_dx = criterion(outputs[:, 0], labels[:, 0])\n",
        "        loss_dy = criterion(outputs[:, 1], labels[:, 1])\n",
        "        loss_theta = criterion(outputs[:, 2], labels[:, 2])\n",
        "        loss_sx = criterion(outputs[:, 3], labels[:, 3])\n",
        "        loss_sy = criterion(outputs[:, 4], labels[:, 4])\n",
        "\n",
        "        loss = criterion(outputs, labels)\n",
        "        loss.backward()\n",
        "        optimizer.step()\n",
        "\n",
        "        # print statistics\n",
        "        running_loss += loss.item()\n",
        "        # print(f'epoch = {epoch}, minibatch = {i}, loss = {loss.item()}')\n",
        "        myI += 1\n",
        "        \n",
        "        if myI % 3000 == 2999:\n",
        "          print('saving model')\n",
        "          PATH = os.path.join(PATH_TO_MODELS, f'm_{epoch}_{running_loss/10}.pth')\n",
        "          torch.save(net.state_dict(), PATH)\n",
        "\n",
        "        if i % 10 == 9:    # print every 2000 mini-batches\n",
        "            print('[%d, %5d] loss: %.3f' %\n",
        "                  (epoch + 1, i + 1, running_loss / 10))\n",
        "            print(f'dx loss = {loss_dx.item()}')\n",
        "            print(f'dy loss = {loss_dy.item()}')\n",
        "            print(f'theta loss = {loss_theta.item()}')\n",
        "            print(f'sx loss = {loss_sx.item()}')\n",
        "            print(f'sy loss = {loss_sy.item()}')\n",
        "            print('-----------------------------')\n",
        "            iterations.append(myI)\n",
        "            losses.append(running_loss/10)\n",
        "            running_loss = 0.0\n",
        "\n",
        "\n",
        "stop_time = time.time()\n",
        "print('Finished Training')\n",
        "print(f'Training took: {stop_time-start_time} s')\n",
        "# print(\"--- %s seconds ---\" % (time.time() - start_time))"
      ],
      "execution_count": null,
      "outputs": [
        {
          "name": "stdout",
          "output_type": "stream",
          "text": [
            "[1,    10] loss: 32.708\n",
            "dx loss = 5.996459007263184\n",
            "dy loss = 6.120737075805664\n",
            "theta loss = 12.389619827270508\n",
            "sx loss = 6.338009357452393\n",
            "sy loss = 5.815479278564453\n",
            "-----------------------------\n",
            "[1,    20] loss: 17.873\n",
            "dx loss = 1.6246957778930664\n",
            "dy loss = 1.52964448928833\n",
            "theta loss = 3.0054755210876465\n",
            "sx loss = 1.288147211074829\n",
            "sy loss = 1.8096370697021484\n",
            "-----------------------------\n",
            "[1,    30] loss: 11.958\n",
            "dx loss = 1.4756691455841064\n",
            "dy loss = 1.8923006057739258\n",
            "theta loss = 3.674180507659912\n",
            "sx loss = 2.34442138671875\n",
            "sy loss = 2.0535755157470703\n",
            "-----------------------------\n",
            "[2,    10] loss: 10.559\n",
            "dx loss = 1.406099557876587\n",
            "dy loss = 1.1809788942337036\n",
            "theta loss = 2.095189094543457\n",
            "sx loss = 1.1917457580566406\n",
            "sy loss = 1.2940760850906372\n",
            "-----------------------------\n",
            "[2,    20] loss: 9.609\n",
            "dx loss = 1.208104133605957\n",
            "dy loss = 1.15867018699646\n",
            "theta loss = 3.7566962242126465\n",
            "sx loss = 1.4334685802459717\n",
            "sy loss = 1.548383355140686\n",
            "-----------------------------\n",
            "[2,    30] loss: 8.804\n",
            "dx loss = 1.454423189163208\n",
            "dy loss = 1.5704424381256104\n",
            "theta loss = 4.436895847320557\n",
            "sx loss = 1.5632030963897705\n",
            "sy loss = 1.5571107864379883\n",
            "-----------------------------\n",
            "[3,    10] loss: 9.874\n",
            "dx loss = 1.8169835805892944\n",
            "dy loss = 1.8094960451126099\n",
            "theta loss = 3.4615113735198975\n",
            "sx loss = 1.6542613506317139\n",
            "sy loss = 1.4424731731414795\n",
            "-----------------------------\n",
            "[3,    20] loss: 10.810\n",
            "dx loss = 1.9554672241210938\n",
            "dy loss = 1.90840744972229\n",
            "theta loss = 4.287663459777832\n",
            "sx loss = 2.0310091972351074\n",
            "sy loss = 1.9949454069137573\n",
            "-----------------------------\n",
            "[3,    30] loss: 9.494\n",
            "dx loss = 1.5675199031829834\n",
            "dy loss = 1.5130364894866943\n",
            "theta loss = 5.293554782867432\n",
            "sx loss = 1.5966458320617676\n",
            "sy loss = 1.4870226383209229\n",
            "-----------------------------\n",
            "[4,    10] loss: 8.756\n",
            "dx loss = 1.351088523864746\n",
            "dy loss = 1.065388560295105\n",
            "theta loss = 3.3054399490356445\n",
            "sx loss = 0.9487219452857971\n",
            "sy loss = 1.1857435703277588\n",
            "-----------------------------\n",
            "[4,    20] loss: 9.264\n",
            "dx loss = 0.8988808393478394\n",
            "dy loss = 0.6923999190330505\n",
            "theta loss = 2.723395824432373\n",
            "sx loss = 0.8850196599960327\n",
            "sy loss = 0.9654147028923035\n",
            "-----------------------------\n",
            "[4,    30] loss: 8.183\n",
            "dx loss = 1.2681965827941895\n",
            "dy loss = 0.9903950691223145\n",
            "theta loss = 4.147269248962402\n",
            "sx loss = 1.1417224407196045\n",
            "sy loss = 1.0714294910430908\n",
            "-----------------------------\n",
            "[5,    10] loss: 8.688\n",
            "dx loss = 1.2961808443069458\n",
            "dy loss = 1.0888553857803345\n",
            "theta loss = 4.722596168518066\n",
            "sx loss = 0.9391680955886841\n",
            "sy loss = 1.0537396669387817\n",
            "-----------------------------\n",
            "[5,    20] loss: 7.509\n",
            "dx loss = 0.7424291372299194\n",
            "dy loss = 0.7810286283493042\n",
            "theta loss = 2.3094587326049805\n",
            "sx loss = 0.7807525396347046\n",
            "sy loss = 0.7082184553146362\n",
            "-----------------------------\n",
            "[5,    30] loss: 7.616\n",
            "dx loss = 1.0609991550445557\n",
            "dy loss = 1.0042498111724854\n",
            "theta loss = 3.0170013904571533\n",
            "sx loss = 0.9960528612136841\n",
            "sy loss = 1.0939106941223145\n",
            "-----------------------------\n",
            "[6,    10] loss: 8.160\n",
            "dx loss = 1.0338021516799927\n",
            "dy loss = 1.0137242078781128\n",
            "theta loss = 3.6363868713378906\n",
            "sx loss = 0.9510238170623779\n",
            "sy loss = 0.9346967935562134\n",
            "-----------------------------\n",
            "[6,    20] loss: 7.251\n",
            "dx loss = 1.7435564994812012\n",
            "dy loss = 2.0452892780303955\n",
            "theta loss = 3.53237247467041\n",
            "sx loss = 1.7015419006347656\n",
            "sy loss = 1.5973926782608032\n",
            "-----------------------------\n",
            "[6,    30] loss: 8.068\n",
            "dx loss = 0.6898986101150513\n",
            "dy loss = 0.9748267531394958\n",
            "theta loss = 3.5601062774658203\n",
            "sx loss = 0.7773435711860657\n",
            "sy loss = 0.8237144947052002\n",
            "-----------------------------\n",
            "[7,    10] loss: 6.613\n",
            "dx loss = 0.6630291938781738\n",
            "dy loss = 0.7545061707496643\n",
            "theta loss = 2.025726556777954\n",
            "sx loss = 0.6710102558135986\n",
            "sy loss = 0.6347759962081909\n",
            "-----------------------------\n",
            "[7,    20] loss: 5.871\n",
            "dx loss = 0.6262024641036987\n",
            "dy loss = 0.687658429145813\n",
            "theta loss = 3.8457655906677246\n",
            "sx loss = 0.6183466911315918\n",
            "sy loss = 0.5488942861557007\n",
            "-----------------------------\n",
            "[7,    30] loss: 5.768\n",
            "dx loss = 0.6504613161087036\n",
            "dy loss = 0.5979470014572144\n",
            "theta loss = 2.958590269088745\n",
            "sx loss = 0.6765967607498169\n",
            "sy loss = 0.6971720457077026\n",
            "-----------------------------\n",
            "[8,    10] loss: 5.803\n",
            "dx loss = 0.782556414604187\n",
            "dy loss = 0.9010394215583801\n",
            "theta loss = 3.114616632461548\n",
            "sx loss = 0.8458719253540039\n",
            "sy loss = 0.82016521692276\n",
            "-----------------------------\n",
            "[8,    20] loss: 5.220\n",
            "dx loss = 0.4533335268497467\n",
            "dy loss = 0.554793119430542\n",
            "theta loss = 2.396977186203003\n",
            "sx loss = 0.5297591090202332\n",
            "sy loss = 0.4296765923500061\n",
            "-----------------------------\n",
            "[8,    30] loss: 4.504\n",
            "dx loss = 0.4697552025318146\n",
            "dy loss = 0.47080692648887634\n",
            "theta loss = 3.226435899734497\n",
            "sx loss = 0.480215460062027\n",
            "sy loss = 0.4852565824985504\n",
            "-----------------------------\n",
            "[9,    10] loss: 4.768\n",
            "dx loss = 0.46047356724739075\n",
            "dy loss = 0.4922683835029602\n",
            "theta loss = 2.9885306358337402\n",
            "sx loss = 0.518825888633728\n",
            "sy loss = 0.4526486396789551\n",
            "-----------------------------\n",
            "[9,    20] loss: 4.257\n",
            "dx loss = 0.3113084137439728\n",
            "dy loss = 0.3788292407989502\n",
            "theta loss = 3.4617648124694824\n",
            "sx loss = 0.3114229142665863\n",
            "sy loss = 0.2682429552078247\n",
            "-----------------------------\n",
            "[9,    30] loss: 4.571\n",
            "dx loss = 0.35449376702308655\n",
            "dy loss = 0.3260040879249573\n",
            "theta loss = 2.8493356704711914\n",
            "sx loss = 0.36976855993270874\n",
            "sy loss = 0.3896045982837677\n",
            "-----------------------------\n",
            "[10,    10] loss: 4.181\n",
            "dx loss = 0.37640702724456787\n",
            "dy loss = 0.3802666962146759\n",
            "theta loss = 2.1563310623168945\n",
            "sx loss = 0.3279886841773987\n",
            "sy loss = 0.36525458097457886\n",
            "-----------------------------\n",
            "[10,    20] loss: 4.570\n",
            "dx loss = 0.4633719325065613\n",
            "dy loss = 0.4272180497646332\n",
            "theta loss = 3.654621124267578\n",
            "sx loss = 0.33039391040802\n",
            "sy loss = 0.4461904466152191\n",
            "-----------------------------\n",
            "[10,    30] loss: 4.614\n",
            "dx loss = 0.345114141702652\n",
            "dy loss = 0.5449714064598083\n",
            "theta loss = 3.2036795616149902\n",
            "sx loss = 0.38314685225486755\n",
            "sy loss = 0.39834368228912354\n",
            "-----------------------------\n",
            "Finished Training\n",
            "Training took: 85.1372594833374 s\n"
          ]
        }
      ]
    },
    {
      "cell_type": "markdown",
      "metadata": {
        "id": "HNCbwBnEK-gw"
      },
      "source": [
        "## Using PReLU activation"
      ]
    },
    {
      "cell_type": "code",
      "metadata": {
        "colab": {
          "base_uri": "https://localhost:8080/"
        },
        "id": "-WhMY8TbK9Dq",
        "outputId": "7312c4ee-475b-487d-94f3-aa068ca32e6b"
      },
      "source": [
        "net = AffineNet(activation='PReLU')\n",
        "# net = AffineNet()\n",
        "\n",
        "print('---------- Network initialized -------------')\n",
        "num_params = 0\n",
        "for param in net.parameters():\n",
        "  num_params += param.numel()\n",
        "print('[Network] Total number of parameters : %.3f M' % (num_params / 1e6))\n",
        "print('-----------------------------------------------')\n",
        "\n",
        "if torch.cuda.is_available():\n",
        "  print(f'GPU : {torch.cuda.get_device_name(0)}')\n",
        "  cuda0 = torch.device('cuda:0')\n",
        "  net.cuda()"
      ],
      "execution_count": 48,
      "outputs": [
        {
          "output_type": "stream",
          "name": "stdout",
          "text": [
            "Using PReLU activation\n",
            "---------- Network initialized -------------\n",
            "[Network] Total number of parameters : 282.078 M\n",
            "-----------------------------------------------\n",
            "GPU : Tesla P100-PCIE-16GB\n"
          ]
        }
      ]
    },
    {
      "cell_type": "code",
      "metadata": {
        "colab": {
          "base_uri": "https://localhost:8080/"
        },
        "id": "b6XuXZtIMiNA",
        "outputId": "144030ea-defb-4937-874a-66715902dae8"
      },
      "source": [
        "\n",
        "#Opimizer\n",
        "\n",
        "optimizer = optim.Adam(net.parameters(), lr=0.0001, betas=(0.9, 0.999))\n",
        "criterion = torch.nn.L1Loss(reduction='sum').to(cuda0)\n",
        "\n",
        "myI = 0\n",
        "channels = 2\n",
        "iterations = []\n",
        "losses = []\n",
        "\n",
        "maxEpoch = 2\n",
        "maxIter = (len(affine_dataset)/batch_size)*maxEpoch\n",
        "print(f'maxIter = {maxIter}')\n",
        "start_time = time.time()\n",
        "\n",
        "for epoch in range(maxEpoch):  # loop over the dataset multiple times\n",
        "\n",
        "    running_loss = 0.0\n",
        "    for i, data in enumerate(trainloader):\n",
        "\n",
        "        # batch_time_start = time.time()\n",
        "\n",
        "        batch_imgs, batch_imgs_t, labels = data\n",
        "\n",
        "        optimizer.zero_grad()\n",
        "\n",
        "        # forward + backward + optimize\n",
        "        batch_imgs = batch_imgs.to(device=cuda0, dtype=torch.float) #Convert to torch cuda float\n",
        "        batch_imgs_t = batch_imgs_t.to(device=cuda0, dtype=torch.float)\n",
        "        # inputs = inputs.to(device=cuda0, dtype=torch.float) #Convert to torch cuda float\n",
        "        labels = labels.to(device=cuda0, dtype=torch.float)\n",
        "\n",
        "        outputs = net(batch_imgs, batch_imgs_t)\n",
        "\n",
        "        # outputs = outputs.reshape((5))\n",
        "        loss_dx = criterion(outputs[:, 0], labels[:, 0])\n",
        "        loss_dy = criterion(outputs[:, 1], labels[:, 1])\n",
        "        loss_theta = criterion(outputs[:, 2], labels[:, 2])\n",
        "        loss_sx = criterion(outputs[:, 3], labels[:, 3])\n",
        "        loss_sy = criterion(outputs[:, 4], labels[:, 4])\n",
        "\n",
        "        loss = criterion(outputs, labels)\n",
        "        loss.backward()\n",
        "        optimizer.step()\n",
        "\n",
        "        # print statistics\n",
        "        running_loss += loss.item()\n",
        "        # print(f'epoch = {epoch}, minibatch = {i}, loss = {loss.item()}')\n",
        "        myI += 1\n",
        "        \n",
        "        if i % 30 == 29:\n",
        "          print('saving model')\n",
        "          PATH = os.path.join(PATH_TO_MODELS, f'm_{epoch}_{running_loss/10}.pth')\n",
        "          torch.save(net.state_dict(), PATH)\n",
        "\n",
        "        if i % 10 == 9:    # print every 10 mini-batches\n",
        "            print('-----------------------------')\n",
        "            print('[%d, %5d] loss: %.3f' %\n",
        "                  (epoch + 1, i + 1, running_loss / 10))\n",
        "            print(f'dx loss = {loss_dx.item()}')\n",
        "            print(f'dy loss = {loss_dy.item()}')\n",
        "            print(f'theta loss = {loss_theta.item()}')\n",
        "            print(f'sx loss = {loss_sx.item()}')\n",
        "            print(f'sy loss = {loss_sy.item()}')\n",
        "            avg_iter_time = (time.time()-start_time)/myI\n",
        "            print(f'Average iter time = {avg_iter_time} (s)')\n",
        "            # print(f'ETA = {avg_iter_time*(maxIter - myI)} (s)')\n",
        "            print('-----------------------------')\n",
        "            iterations.append(myI)\n",
        "            losses.append(running_loss/10)\n",
        "            running_loss = 0.0\n",
        "\n",
        "        avg_iter_time = (time.time()-start_time)/myI\n",
        "        print(f'ETA = {avg_iter_time*(maxIter - myI)} (s)')\n",
        "        # batch_time_stop = time.time()\n",
        "\n",
        "stop_time = time.time()\n",
        "print('Finished Training')\n",
        "print(f'Training took: {stop_time-start_time} s')\n",
        "# print(\"--- %s seconds ---\" % (time.time() - start_time))"
      ],
      "execution_count": 16,
      "outputs": [
        {
          "output_type": "stream",
          "name": "stdout",
          "text": [
            "maxIter = 302.390625\n",
            "ETA = 47059.35490434617 (s)\n",
            "ETA = 43472.528501274064 (s)\n",
            "ETA = 41998.28892538324 (s)\n",
            "ETA = 41067.24959054403 (s)\n",
            "ETA = 40570.74596161321 (s)\n",
            "ETA = 40024.142078390345 (s)\n",
            "ETA = 39471.9551549985 (s)\n",
            "ETA = 39444.65101748379 (s)\n",
            "ETA = 39031.93035888175 (s)\n",
            "-----------------------------\n",
            "[1,    10] loss: 704.742\n",
            "dx loss = 283.3526916503906\n",
            "dy loss = 296.0252685546875\n",
            "theta loss = 103.89375305175781\n",
            "sx loss = 1.9353874921798706\n",
            "sy loss = 2.0702037811279297\n",
            "Average iter time = 132.80089173316955 (s)\n",
            "-----------------------------\n",
            "ETA = 38829.737309895456 (s)\n",
            "ETA = 38385.112438599834 (s)\n",
            "ETA = 37993.26860855799 (s)\n",
            "ETA = 37765.214085407264 (s)\n",
            "ETA = 37536.026305272375 (s)\n",
            "ETA = 37179.024993516505 (s)\n",
            "ETA = 36988.20387046714 (s)\n",
            "ETA = 36817.274927941755 (s)\n",
            "ETA = 36551.820291405544 (s)\n",
            "ETA = 36312.13586468426 (s)\n",
            "-----------------------------\n",
            "[1,    20] loss: 631.286\n",
            "dx loss = 187.35684204101562\n",
            "dy loss = 200.5884552001953\n",
            "theta loss = 112.7342529296875\n",
            "sx loss = 16.51837158203125\n",
            "sy loss = 14.26458740234375\n",
            "Average iter time = 127.82003767490387 (s)\n",
            "-----------------------------\n",
            "ETA = 36095.18108733669 (s)\n",
            "ETA = 35883.09268021211 (s)\n",
            "ETA = 35625.86127471518 (s)\n",
            "ETA = 35363.68480184205 (s)\n",
            "ETA = 35126.93507694267 (s)\n",
            "ETA = 34891.91032726601 (s)\n",
            "ETA = 34678.46214849014 (s)\n",
            "ETA = 34478.84503803733 (s)\n",
            "ETA = 34289.13588851637 (s)\n",
            "ETA = 34053.61100417016 (s)\n",
            "saving model\n",
            "-----------------------------\n",
            "[1,    30] loss: 537.329\n",
            "dx loss = 181.32144165039062\n",
            "dy loss = 192.42510986328125\n",
            "theta loss = 104.29641723632812\n",
            "sx loss = 10.654472351074219\n",
            "sy loss = 6.462915897369385\n",
            "Average iter time = 124.30456255276998 (s)\n",
            "-----------------------------\n",
            "ETA = 33859.39913581721 (s)\n",
            "ETA = 33667.61944777458 (s)\n",
            "ETA = 33483.956870783004 (s)\n",
            "ETA = 33293.834631850776 (s)\n",
            "ETA = 33119.338500688726 (s)\n",
            "ETA = 32949.838564360354 (s)\n",
            "ETA = 32775.0841884644 (s)\n",
            "ETA = 32574.82541402349 (s)\n",
            "ETA = 32412.17013569382 (s)\n",
            "ETA = 32271.85608068653 (s)\n",
            "-----------------------------\n",
            "[1,    40] loss: 485.137\n",
            "dx loss = 180.87185668945312\n",
            "dy loss = 171.92556762695312\n",
            "theta loss = 95.70974731445312\n",
            "sx loss = 8.285236358642578\n",
            "sy loss = 7.067523956298828\n",
            "Average iter time = 122.45203750133514 (s)\n",
            "-----------------------------\n",
            "ETA = 32130.267001264074 (s)\n",
            "ETA = 31984.46534823508 (s)\n",
            "ETA = 31853.090928484286 (s)\n",
            "ETA = 31721.315807424573 (s)\n",
            "ETA = 31619.65105655366 (s)\n",
            "ETA = 31480.450173216315 (s)\n",
            "ETA = 31358.948301806886 (s)\n",
            "ETA = 31321.738484651247 (s)\n",
            "ETA = 31175.540223930264 (s)\n",
            "ETA = 31002.482884594145 (s)\n",
            "-----------------------------\n",
            "[1,    50] loss: 464.857\n",
            "dx loss = 168.37847900390625\n",
            "dy loss = 159.58523559570312\n",
            "theta loss = 91.75309753417969\n",
            "sx loss = 6.370601654052734\n",
            "sy loss = 5.410751819610596\n",
            "Average iter time = 122.17879427909851 (s)\n",
            "-----------------------------\n",
            "ETA = 30836.78252063386 (s)\n",
            "ETA = 30669.110164270463 (s)\n",
            "ETA = 30524.838663245406 (s)\n",
            "ETA = 30346.792031496203 (s)\n",
            "ETA = 30229.343767136128 (s)\n",
            "ETA = 30060.70108098496 (s)\n",
            "ETA = 29894.107544040373 (s)\n",
            "ETA = 29729.872328453745 (s)\n",
            "ETA = 29566.119232059875 (s)\n",
            "ETA = 29419.544333137066 (s)\n",
            "saving model\n",
            "-----------------------------\n",
            "[1,    60] loss: 440.988\n",
            "dx loss = 160.60992431640625\n",
            "dy loss = 159.83572387695312\n",
            "theta loss = 104.89700317382812\n",
            "sx loss = 4.995848655700684\n",
            "sy loss = 5.264678955078125\n",
            "Average iter time = 120.81149344841639 (s)\n",
            "-----------------------------\n",
            "ETA = 29283.573740292715 (s)\n",
            "ETA = 29123.315660122113 (s)\n",
            "ETA = 28957.1043738146 (s)\n",
            "ETA = 28817.74121427128 (s)\n",
            "ETA = 28680.210938054137 (s)\n",
            "ETA = 28559.64147811859 (s)\n",
            "ETA = 28414.225657822055 (s)\n",
            "ETA = 28263.920919227123 (s)\n",
            "ETA = 28116.562052935307 (s)\n",
            "ETA = 27991.588874479672 (s)\n",
            "-----------------------------\n",
            "[1,    70] loss: 412.125\n",
            "dx loss = 156.83352661132812\n",
            "dy loss = 146.30401611328125\n",
            "theta loss = 97.16696166992188\n",
            "sx loss = 4.970722198486328\n",
            "sy loss = 4.3646697998046875\n",
            "Average iter time = 119.80050887380328 (s)\n",
            "-----------------------------\n",
            "ETA = 27840.515314550274 (s)\n",
            "ETA = 27681.87121780579 (s)\n",
            "ETA = 27523.734583859332 (s)\n",
            "ETA = 27362.82368502858 (s)\n",
            "ETA = 27213.59696500864 (s)\n",
            "ETA = 27062.384579733163 (s)\n",
            "ETA = 26912.47309548055 (s)\n",
            "ETA = 26756.739687906313 (s)\n",
            "ETA = 26604.751848557393 (s)\n",
            "ETA = 26452.37972297109 (s)\n",
            "-----------------------------\n",
            "[1,    80] loss: 396.683\n",
            "dx loss = 128.99447631835938\n",
            "dy loss = 130.67306518554688\n",
            "theta loss = 103.4131088256836\n",
            "sx loss = 4.877206802368164\n",
            "sy loss = 5.123132705688477\n",
            "Average iter time = 118.29857477843761 (s)\n",
            "-----------------------------\n",
            "ETA = 26308.49413402439 (s)\n",
            "ETA = 26161.967483816738 (s)\n",
            "ETA = 26010.374135497914 (s)\n",
            "ETA = 25861.76372766827 (s)\n",
            "ETA = 25712.417017553533 (s)\n",
            "ETA = 25559.64161099366 (s)\n",
            "ETA = 25406.494642531543 (s)\n",
            "ETA = 25259.990252593594 (s)\n",
            "ETA = 25117.838843910657 (s)\n",
            "ETA = 24972.38226799918 (s)\n",
            "saving model\n",
            "-----------------------------\n",
            "[1,    90] loss: 383.760\n",
            "dx loss = 148.00076293945312\n",
            "dy loss = 145.30006408691406\n",
            "theta loss = 105.66726684570312\n",
            "sx loss = 5.364564895629883\n",
            "sy loss = 5.123241901397705\n",
            "Average iter time = 116.95418393611908 (s)\n",
            "-----------------------------\n",
            "ETA = 24839.972408229485 (s)\n",
            "ETA = 24703.228126208287 (s)\n",
            "ETA = 24568.604014963115 (s)\n",
            "ETA = 24433.95855125749 (s)\n",
            "ETA = 24299.241720893162 (s)\n",
            "ETA = 24169.09478766279 (s)\n",
            "ETA = 24042.312180116773 (s)\n",
            "ETA = 23913.065103728364 (s)\n",
            "ETA = 23787.387741909835 (s)\n",
            "ETA = 23658.359031694064 (s)\n",
            "-----------------------------\n",
            "[1,   100] loss: 379.434\n",
            "dx loss = 132.76173400878906\n",
            "dy loss = 117.95464324951172\n",
            "theta loss = 103.55137634277344\n",
            "sx loss = 3.5549354553222656\n",
            "sy loss = 3.715979814529419\n",
            "Average iter time = 116.2527349114418 (s)\n",
            "-----------------------------\n",
            "ETA = 23528.463823377228 (s)\n",
            "ETA = 23396.497563992212 (s)\n",
            "ETA = 23265.34306674593 (s)\n",
            "ETA = 23142.9633760304 (s)\n",
            "ETA = 23020.253711564932 (s)\n",
            "ETA = 22909.38669429198 (s)\n",
            "ETA = 22785.167224405825 (s)\n",
            "ETA = 22682.22093800605 (s)\n",
            "ETA = 22560.73340801315 (s)\n",
            "ETA = 22444.247502484555 (s)\n",
            "-----------------------------\n",
            "[1,   110] loss: 372.449\n",
            "dx loss = 141.40963745117188\n",
            "dy loss = 134.71389770507812\n",
            "theta loss = 108.43449401855469\n",
            "sx loss = 3.768141746520996\n",
            "sy loss = 2.9220969676971436\n",
            "Average iter time = 116.05861388553272 (s)\n",
            "-----------------------------\n",
            "ETA = 22328.589355061307 (s)\n",
            "ETA = 22217.110634241253 (s)\n",
            "ETA = 22105.219105116226 (s)\n",
            "ETA = 21989.8043429361 (s)\n",
            "ETA = 21869.12174085165 (s)\n",
            "ETA = 21760.361816462355 (s)\n",
            "ETA = 21646.69902580848 (s)\n",
            "ETA = 21530.384769402925 (s)\n",
            "ETA = 21412.00977621714 (s)\n",
            "ETA = 21291.931373957388 (s)\n",
            "saving model\n",
            "-----------------------------\n",
            "[1,   120] loss: 363.219\n",
            "dx loss = 131.01358032226562\n",
            "dy loss = 104.33211517333984\n",
            "theta loss = 100.07859802246094\n",
            "sx loss = 3.725865125656128\n",
            "sy loss = 2.8819994926452637\n",
            "Average iter time = 116.119119566679 (s)\n",
            "-----------------------------\n",
            "ETA = 21179.03886541659 (s)\n",
            "ETA = 21062.11831280383 (s)\n",
            "ETA = 20946.04993306986 (s)\n",
            "ETA = 20829.909182905423 (s)\n",
            "ETA = 20716.98243293022 (s)\n",
            "ETA = 20593.23424039799 (s)\n",
            "ETA = 20475.292779891086 (s)\n",
            "ETA = 20357.66031042797 (s)\n",
            "ETA = 20237.711592602136 (s)\n",
            "ETA = 20129.66470721875 (s)\n",
            "-----------------------------\n",
            "[1,   130] loss: 356.614\n",
            "dx loss = 114.52005767822266\n",
            "dy loss = 116.14706420898438\n",
            "theta loss = 107.34966278076172\n",
            "sx loss = 3.701664924621582\n",
            "sy loss = 3.533904552459717\n",
            "Average iter time = 116.07724937659043 (s)\n",
            "-----------------------------\n",
            "ETA = 20010.62963786704 (s)\n",
            "ETA = 19888.325339139617 (s)\n",
            "ETA = 19768.82099470801 (s)\n",
            "ETA = 19637.40640085832 (s)\n",
            "ETA = 19514.617325926614 (s)\n",
            "ETA = 19401.721607133 (s)\n",
            "ETA = 19286.153493475333 (s)\n",
            "ETA = 19164.085466922363 (s)\n",
            "ETA = 19039.8840454139 (s)\n",
            "ETA = 18924.866985411016 (s)\n",
            "-----------------------------\n",
            "[1,   140] loss: 366.294\n",
            "dx loss = 127.12074279785156\n",
            "dy loss = 130.12890625\n",
            "theta loss = 103.57037353515625\n",
            "sx loss = 3.7040085792541504\n",
            "sy loss = 3.289241313934326\n",
            "Average iter time = 115.78427787678582 (s)\n",
            "-----------------------------\n",
            "ETA = 18802.281327295357 (s)\n",
            "ETA = 18682.63693917717 (s)\n",
            "ETA = 18571.6525285186 (s)\n",
            "ETA = 18455.307187662856 (s)\n",
            "ETA = 18348.40931351025 (s)\n",
            "ETA = 18231.53078814665 (s)\n",
            "ETA = 18110.786365127344 (s)\n",
            "ETA = 17987.94634485731 (s)\n",
            "ETA = 17871.566502587844 (s)\n",
            "ETA = 17747.2970116606 (s)\n",
            "saving model\n",
            "-----------------------------\n",
            "[1,   150] loss: 360.306\n",
            "dx loss = 133.4378662109375\n",
            "dy loss = 105.72872924804688\n",
            "theta loss = 104.77840423583984\n",
            "sx loss = 3.8758249282836914\n",
            "sy loss = 3.04215669631958\n",
            "Average iter time = 115.66733244260152 (s)\n",
            "-----------------------------\n",
            "ETA = 17626.617133150026 (s)\n",
            "ETA = 17508.471252283143 (s)\n",
            "ETA = 17300.418326502517 (s)\n",
            "ETA = 17150.55662999565 (s)\n",
            "ETA = 17003.291947037273 (s)\n",
            "ETA = 16857.34060993966 (s)\n",
            "ETA = 16720.045037664615 (s)\n",
            "ETA = 16576.08273927478 (s)\n",
            "ETA = 16432.102927463482 (s)\n",
            "ETA = 16292.622065378318 (s)\n",
            "ETA = 16146.997084450117 (s)\n",
            "ETA = 16006.228029240037 (s)\n",
            "-----------------------------\n",
            "[2,    10] loss: 345.433\n",
            "dx loss = 117.07087707519531\n",
            "dy loss = 138.90176391601562\n",
            "theta loss = 112.95911407470703\n",
            "sx loss = 3.0692391395568848\n",
            "sy loss = 2.847607135772705\n",
            "Average iter time = 112.99213224575843 (s)\n",
            "-----------------------------\n",
            "ETA = 15863.036113586277 (s)\n",
            "ETA = 15719.420714012525 (s)\n",
            "ETA = 15585.141889584387 (s)\n",
            "ETA = 15447.434044027465 (s)\n",
            "ETA = 15306.872470898352 (s)\n",
            "ETA = 15167.620408331006 (s)\n",
            "ETA = 15030.601267611142 (s)\n",
            "ETA = 14899.600851152445 (s)\n",
            "ETA = 14762.145950440143 (s)\n",
            "ETA = 14626.631457683156 (s)\n",
            "-----------------------------\n",
            "[2,    20] loss: 344.448\n",
            "dx loss = 113.69657897949219\n",
            "dy loss = 109.88748168945312\n",
            "theta loss = 96.94407653808594\n",
            "sx loss = 3.2286744117736816\n",
            "sy loss = 3.174365758895874\n",
            "Average iter time = 111.12835200026979 (s)\n",
            "-----------------------------\n",
            "ETA = 14490.09531952798 (s)\n",
            "ETA = 14354.932353406886 (s)\n",
            "ETA = 14216.706147353454 (s)\n",
            "ETA = 14081.29972517403 (s)\n",
            "ETA = 13951.528324320976 (s)\n",
            "ETA = 13819.65841319633 (s)\n",
            "ETA = 13688.618670454416 (s)\n",
            "ETA = 13557.42429140922 (s)\n",
            "ETA = 13427.1211847897 (s)\n",
            "ETA = 13299.066306476394 (s)\n",
            "saving model\n",
            "-----------------------------\n",
            "[2,    30] loss: 340.776\n",
            "dx loss = 121.86299133300781\n",
            "dy loss = 133.76329040527344\n",
            "theta loss = 110.91620635986328\n",
            "sx loss = 2.694305658340454\n",
            "sy loss = 2.756549835205078\n",
            "Average iter time = 109.40113180810279 (s)\n",
            "-----------------------------\n",
            "ETA = 13170.870675247388 (s)\n",
            "ETA = 13047.195579862802 (s)\n",
            "ETA = 12926.442032901205 (s)\n",
            "ETA = 12807.569743545293 (s)\n",
            "ETA = 12688.204226099255 (s)\n",
            "ETA = 12569.743514699254 (s)\n",
            "ETA = 12451.749595233774 (s)\n",
            "ETA = 12334.548569047261 (s)\n",
            "ETA = 12217.229548251511 (s)\n",
            "ETA = 12098.654732492836 (s)\n",
            "-----------------------------\n",
            "[2,    40] loss: 345.877\n",
            "dx loss = 118.15087890625\n",
            "dy loss = 125.27598571777344\n",
            "theta loss = 105.12406921386719\n",
            "sx loss = 3.262045383453369\n",
            "sy loss = 2.4049413204193115\n",
            "Average iter time = 108.52451661104958 (s)\n",
            "-----------------------------\n",
            "ETA = 11980.089249278535 (s)\n",
            "ETA = 11865.187689713399 (s)\n",
            "ETA = 11748.290660399809 (s)\n",
            "ETA = 11631.902335767276 (s)\n",
            "ETA = 11518.579039080163 (s)\n",
            "ETA = 11402.873270750935 (s)\n",
            "ETA = 11285.305585703842 (s)\n",
            "ETA = 11169.016257425536 (s)\n",
            "ETA = 11056.00337661652 (s)\n",
            "ETA = 10940.248183506972 (s)\n",
            "-----------------------------\n",
            "[2,    50] loss: 340.470\n",
            "dx loss = 118.60421752929688\n",
            "dy loss = 116.65995025634766\n",
            "theta loss = 98.23260498046875\n",
            "sx loss = 2.854611873626709\n",
            "sy loss = 2.668938159942627\n",
            "Average iter time = 107.83154244588154 (s)\n",
            "-----------------------------\n",
            "ETA = 10825.275966568415 (s)\n",
            "ETA = 10710.30184786365 (s)\n",
            "ETA = 10595.409883722552 (s)\n",
            "ETA = 10482.522946720172 (s)\n",
            "ETA = 10369.89718628928 (s)\n",
            "ETA = 10254.062613393788 (s)\n",
            "ETA = 10141.910707479361 (s)\n",
            "ETA = 10025.700415146122 (s)\n",
            "ETA = 9911.141970187744 (s)\n",
            "ETA = 9798.042595490178 (s)\n",
            "saving model\n",
            "-----------------------------\n",
            "[2,    60] loss: 340.511\n",
            "dx loss = 109.1935043334961\n",
            "dy loss = 116.67478942871094\n",
            "theta loss = 110.74573516845703\n",
            "sx loss = 3.228644371032715\n",
            "sy loss = 3.2209529876708984\n",
            "Average iter time = 107.22102066930735 (s)\n",
            "-----------------------------\n",
            "ETA = 9691.775093597342 (s)\n",
            "ETA = 9582.4603278022 (s)\n",
            "ETA = 9472.444187806519 (s)\n",
            "ETA = 9360.447731538048 (s)\n",
            "ETA = 9249.921585339018 (s)\n",
            "ETA = 9138.793120120956 (s)\n",
            "ETA = 9023.63584684801 (s)\n",
            "ETA = 8911.937347764379 (s)\n",
            "ETA = 8798.620912573875 (s)\n",
            "ETA = 8685.930144630878 (s)\n",
            "-----------------------------\n",
            "[2,    70] loss: 337.427\n",
            "dx loss = 121.11834716796875\n",
            "dy loss = 96.22868347167969\n",
            "theta loss = 87.28865814208984\n",
            "sx loss = 3.3493783473968506\n",
            "sy loss = 2.6719212532043457\n",
            "Average iter time = 106.63024516470797 (s)\n",
            "-----------------------------\n",
            "ETA = 8572.072072378736 (s)\n",
            "ETA = 8458.346322735244 (s)\n",
            "ETA = 8344.721475850143 (s)\n",
            "ETA = 8232.433533925365 (s)\n",
            "ETA = 8121.616556768759 (s)\n",
            "ETA = 8013.753104719461 (s)\n",
            "ETA = 7905.58910450609 (s)\n",
            "ETA = 7799.224429873953 (s)\n",
            "ETA = 7689.51648953361 (s)\n",
            "ETA = 7581.861627655709 (s)\n",
            "-----------------------------\n",
            "[2,    80] loss: 332.487\n",
            "dx loss = 122.33613586425781\n",
            "dy loss = 106.28787231445312\n",
            "theta loss = 101.27452087402344\n",
            "sx loss = 3.1575002670288086\n",
            "sy loss = 3.5739169120788574\n",
            "Average iter time = 106.15072008453566 (s)\n",
            "-----------------------------\n",
            "ETA = 7472.015547949965 (s)\n",
            "ETA = 7363.435489604098 (s)\n",
            "ETA = 7254.959542030899 (s)\n",
            "ETA = 7144.2255652689555 (s)\n",
            "ETA = 7035.821739028019 (s)\n",
            "ETA = 6926.4523198373045 (s)\n",
            "ETA = 6818.3215562049145 (s)\n",
            "ETA = 6709.995742655137 (s)\n",
            "ETA = 6599.756019439175 (s)\n",
            "ETA = 6490.512564366645 (s)\n",
            "saving model\n",
            "-----------------------------\n",
            "[2,    90] loss: 320.104\n",
            "dx loss = 106.31704711914062\n",
            "dy loss = 99.78882598876953\n",
            "theta loss = 93.15312194824219\n",
            "sx loss = 3.542412281036377\n",
            "sy loss = 2.8229751586914062\n",
            "Average iter time = 105.68217960862088 (s)\n",
            "-----------------------------\n",
            "ETA = 6382.212975442271 (s)\n",
            "ETA = 6274.6823912851605 (s)\n",
            "ETA = 6165.8342987888755 (s)\n",
            "ETA = 6057.223788073279 (s)\n",
            "ETA = 5948.446239663379 (s)\n",
            "ETA = 5841.877820868543 (s)\n",
            "ETA = 5733.4745420087875 (s)\n",
            "ETA = 5624.785192350891 (s)\n",
            "ETA = 5519.484775402233 (s)\n",
            "ETA = 5413.3445305940195 (s)\n",
            "-----------------------------\n",
            "[2,   100] loss: 336.999\n",
            "dx loss = 112.70083618164062\n",
            "dy loss = 117.58854675292969\n",
            "theta loss = 97.49861907958984\n",
            "sx loss = 3.2474799156188965\n",
            "sy loss = 3.0045745372772217\n",
            "Average iter time = 105.29351020616198 (s)\n",
            "-----------------------------\n",
            "ETA = 5305.805798554571 (s)\n",
            "ETA = 5198.42121480529 (s)\n",
            "ETA = 5091.602246564234 (s)\n",
            "ETA = 4985.992912350244 (s)\n",
            "ETA = 4878.895126367977 (s)\n",
            "ETA = 4770.629604963246 (s)\n",
            "ETA = 4663.8816946953275 (s)\n",
            "ETA = 4559.286862238968 (s)\n",
            "ETA = 4451.994468393077 (s)\n",
            "ETA = 4346.179956633512 (s)\n",
            "-----------------------------\n",
            "[2,   110] loss: 330.879\n",
            "dx loss = 101.47056579589844\n",
            "dy loss = 112.69004821777344\n",
            "theta loss = 92.2617416381836\n",
            "sx loss = 3.0345067977905273\n",
            "sy loss = 3.275501251220703\n",
            "Average iter time = 104.9681506884917 (s)\n",
            "-----------------------------\n",
            "ETA = 4239.7292172832 (s)\n",
            "ETA = 4132.652404468436 (s)\n",
            "ETA = 4025.4649025181475 (s)\n",
            "ETA = 3918.4037956409297 (s)\n",
            "ETA = 3811.9092664224395 (s)\n",
            "ETA = 3704.879772077116 (s)\n",
            "ETA = 3598.966192928157 (s)\n",
            "ETA = 3492.8986835747296 (s)\n",
            "ETA = 3388.3959550662585 (s)\n",
            "ETA = 3282.5389524627326 (s)\n",
            "saving model\n",
            "-----------------------------\n",
            "[2,   120] loss: 326.380\n",
            "dx loss = 106.47972106933594\n",
            "dy loss = 114.53411865234375\n",
            "theta loss = 93.32479095458984\n",
            "sx loss = 3.569016933441162\n",
            "sy loss = 2.8724966049194336\n",
            "Average iter time = 104.55487008305157 (s)\n",
            "-----------------------------\n",
            "ETA = 3177.487855304019 (s)\n",
            "ETA = 3071.385614157296 (s)\n",
            "ETA = 2965.722555025977 (s)\n",
            "ETA = 2859.698703463118 (s)\n",
            "ETA = 2753.6426785048907 (s)\n",
            "ETA = 2648.0272444207153 (s)\n",
            "ETA = 2542.4957510942068 (s)\n",
            "ETA = 2437.5868443784616 (s)\n",
            "ETA = 2332.286220011421 (s)\n",
            "ETA = 2226.9321561715965 (s)\n",
            "-----------------------------\n",
            "[2,   130] loss: 339.591\n",
            "dx loss = 113.05546569824219\n",
            "dy loss = 106.06622314453125\n",
            "theta loss = 104.85343933105469\n",
            "sx loss = 3.4020721912384033\n",
            "sy loss = 2.8169641494750977\n",
            "Average iter time = 104.04233592621823 (s)\n",
            "-----------------------------\n",
            "ETA = 2121.4882599778393 (s)\n",
            "ETA = 2016.163528334073 (s)\n",
            "ETA = 1911.199078481592 (s)\n",
            "ETA = 1807.2322604523679 (s)\n",
            "ETA = 1703.6739431667577 (s)\n",
            "ETA = 1600.046209313157 (s)\n",
            "ETA = 1496.740350296876 (s)\n",
            "ETA = 1393.2484271063706 (s)\n",
            "ETA = 1289.4957745102715 (s)\n",
            "ETA = 1185.6125230112489 (s)\n",
            "-----------------------------\n",
            "[2,   140] loss: 323.148\n",
            "dx loss = 92.21037292480469\n",
            "dy loss = 103.71105194091797\n",
            "theta loss = 93.91487121582031\n",
            "sx loss = 2.8688511848449707\n",
            "sy loss = 3.009477138519287\n",
            "Average iter time = 104.10272677548944 (s)\n",
            "-----------------------------\n",
            "ETA = 1081.6923962329986 (s)\n",
            "ETA = 978.1151438078656 (s)\n",
            "ETA = 874.1063293921476 (s)\n",
            "ETA = 770.2092223257457 (s)\n",
            "ETA = 666.0762113356409 (s)\n",
            "ETA = 561.9356660334149 (s)\n",
            "ETA = 457.8356667688279 (s)\n",
            "ETA = 353.56845319597517 (s)\n",
            "ETA = 249.35602159626782 (s)\n",
            "ETA = 145.06974290790302 (s)\n",
            "saving model\n",
            "-----------------------------\n",
            "[2,   150] loss: 322.853\n",
            "dx loss = 125.47767639160156\n",
            "dy loss = 98.75935363769531\n",
            "theta loss = 84.80867004394531\n",
            "sx loss = 3.8012094497680664\n",
            "sy loss = 2.7910099029541016\n",
            "Average iter time = 104.37177070402942 (s)\n",
            "-----------------------------\n",
            "ETA = 40.770222983686935 (s)\n",
            "ETA = -63.61600013280122 (s)\n",
            "ETA = -167.57227377273682 (s)\n",
            "Finished Training\n",
            "Training took: 31653.266034841537 s\n"
          ]
        }
      ]
    },
    {
      "cell_type": "code",
      "metadata": {
        "colab": {
          "base_uri": "https://localhost:8080/",
          "height": 312
        },
        "id": "9-kkUIQ7SXdn",
        "outputId": "7ee67a3c-4aab-4902-c625-e1310eb52299"
      },
      "source": [
        "plt.plot(iterations, losses)\n",
        "plt.xlabel('epochs')\n",
        "plt.ylabel('L1 loss')\n",
        "plt.title(\"Training loss\")"
      ],
      "execution_count": 17,
      "outputs": [
        {
          "output_type": "execute_result",
          "data": {
            "text/plain": [
              "Text(0.5, 1.0, 'Training loss')"
            ]
          },
          "metadata": {},
          "execution_count": 17
        },
        {
          "output_type": "display_data",
          "data": {
            "image/png": "[encoded data removed]",
            "text/plain": [
              "<Figure size 432x288 with 1 Axes>"
            ]
          },
          "metadata": {
            "needs_background": "light"
          }
        }
      ]
    },
    {
      "cell_type": "markdown",
      "metadata": {
        "id": "N85PftYLU7ry"
      },
      "source": [
        "## Saving the latest"
      ]
    },
    {
      "cell_type": "code",
      "metadata": {
        "id": "hSPoz8s0U6Wc"
      },
      "source": [
        "PATH = os.path.join(PATH_TO_MODELS, f'affineNet2.0.pth')\n",
        "torch.save(net.state_dict(), PATH)"
      ],
      "execution_count": 23,
      "outputs": []
    },
    {
      "cell_type": "markdown",
      "metadata": {
        "id": "P0wjyDdAEF-9"
      },
      "source": [
        "## Loading the model"
      ]
    },
    {
      "cell_type": "code",
      "metadata": {
        "colab": {
          "base_uri": "https://localhost:8080/"
        },
        "id": "1S__DsYFEE_j",
        "outputId": "618316bc-6462-42c5-939f-93635b17667b"
      },
      "source": [
        "PATH = os.path.join(PATH_TO_MODELS, f'affineNet3.0.pth')\n",
        "net = AffineNet(activation='PReLU')\n",
        "net.load_state_dict(torch.load(PATH))\n",
        "if torch.cuda.is_available():\n",
        "  print(f'GPU : {torch.cuda.get_device_name(0)}')\n",
        "  cuda0 = torch.device('cuda:0')\n",
        "  net.cuda()"
      ],
      "execution_count": 15,
      "outputs": [
        {
          "output_type": "stream",
          "name": "stdout",
          "text": [
            "Using PReLU activation\n",
            "GPU : Tesla P100-PCIE-16GB\n"
          ]
        }
      ]
    },
    {
      "cell_type": "markdown",
      "metadata": {
        "id": "1W3osEQh3eIQ"
      },
      "source": [
        "# Trainin again (last model is starting point)"
      ]
    },
    {
      "cell_type": "code",
      "metadata": {
        "colab": {
          "base_uri": "https://localhost:8080/"
        },
        "id": "h0WqoR4o1R3C",
        "outputId": "647bc674-4d8b-475b-bd0b-54fb2fcbcc1a"
      },
      "source": [
        "\n",
        "#Opimizer\n",
        "\n",
        "optimizer = optim.Adam(net.parameters(), lr=0.0001, betas=(0.9, 0.999))\n",
        "criterion = torch.nn.L1Loss(reduction='sum').to(cuda0)\n",
        "\n",
        "myI = 0\n",
        "channels = 2\n",
        "iterations = []\n",
        "losses = []\n",
        "\n",
        "maxEpoch = 2\n",
        "maxIter = (len(affine_dataset)/batch_size)*maxEpoch\n",
        "print(f'maxIter = {maxIter}')\n",
        "start_time = time.time()\n",
        "\n",
        "for epoch in range(maxEpoch):  # loop over the dataset multiple times\n",
        "\n",
        "    running_loss = 0.0\n",
        "    for i, data in enumerate(trainloader):\n",
        "\n",
        "        # batch_time_start = time.time()\n",
        "\n",
        "        batch_imgs, batch_imgs_t, labels = data\n",
        "\n",
        "        optimizer.zero_grad()\n",
        "\n",
        "        # forward + backward + optimize\n",
        "        batch_imgs = batch_imgs.to(device=cuda0, dtype=torch.float) #Convert to torch cuda float\n",
        "        batch_imgs_t = batch_imgs_t.to(device=cuda0, dtype=torch.float)\n",
        "        # inputs = inputs.to(device=cuda0, dtype=torch.float) #Convert to torch cuda float\n",
        "        labels = labels.to(device=cuda0, dtype=torch.float)\n",
        "\n",
        "        outputs = net(batch_imgs, batch_imgs_t)\n",
        "\n",
        "        # outputs = outputs.reshape((5))\n",
        "        loss_dx = criterion(outputs[:, 0], labels[:, 0])\n",
        "        loss_dy = criterion(outputs[:, 1], labels[:, 1])\n",
        "        loss_theta = criterion(outputs[:, 2], labels[:, 2])\n",
        "        loss_sx = criterion(outputs[:, 3], labels[:, 3])\n",
        "        loss_sy = criterion(outputs[:, 4], labels[:, 4])\n",
        "\n",
        "        loss = criterion(outputs, labels)\n",
        "        loss.backward()\n",
        "        optimizer.step()\n",
        "\n",
        "        # print statistics\n",
        "        running_loss += loss.item()\n",
        "        # print(f'epoch = {epoch}, minibatch = {i}, loss = {loss.item()}')\n",
        "        myI += 1\n",
        "        \n",
        "        if i % 30 == 29:\n",
        "          print('saving model')\n",
        "          PATH = os.path.join(PATH_TO_MODELS, f'm_{epoch}_{running_loss/10}.pth')\n",
        "          torch.save(net.state_dict(), PATH)\n",
        "\n",
        "        if i % 10 == 9:    # print every 10 mini-batches\n",
        "            print('-----------------------------')\n",
        "            print('[%d, %5d] loss: %.3f' %\n",
        "                  (epoch + 1, i + 1, running_loss / 10))\n",
        "            print(f'dx loss = {loss_dx.item()}')\n",
        "            print(f'dy loss = {loss_dy.item()}')\n",
        "            print(f'theta loss = {loss_theta.item()}')\n",
        "            print(f'sx loss = {loss_sx.item()}')\n",
        "            print(f'sy loss = {loss_sy.item()}')\n",
        "            avg_iter_time = (time.time()-start_time)/myI\n",
        "            print(f'Average iter time = {avg_iter_time} (s)')\n",
        "            # print(f'ETA = {avg_iter_time*(maxIter - myI)} (s)')\n",
        "            print('-----------------------------')\n",
        "            iterations.append(myI)\n",
        "            losses.append(running_loss/10)\n",
        "            running_loss = 0.0\n",
        "\n",
        "        avg_iter_time = (time.time()-start_time)/myI\n",
        "        print(f'ETA = {avg_iter_time*(maxIter - myI)} (s)')\n",
        "        # batch_time_stop = time.time()\n",
        "\n",
        "stop_time = time.time()\n",
        "print('Finished Training')\n",
        "print(f'Training took: {stop_time-start_time} s')\n",
        "# print(\"--- %s seconds ---\" % (time.time() - start_time))"
      ],
      "execution_count": 50,
      "outputs": [
        {
          "output_type": "stream",
          "name": "stdout",
          "text": [
            "maxIter = 302.390625\n",
            "ETA = 30628.2328934893 (s)\n",
            "ETA = 29327.555221226066 (s)\n",
            "ETA = 28166.84535852447 (s)\n",
            "ETA = 27475.718394846655 (s)\n",
            "ETA = 27033.97925094366 (s)\n",
            "ETA = 26750.724398449063 (s)\n",
            "ETA = 26454.67369472608 (s)\n",
            "ETA = 26601.605280127376 (s)\n",
            "ETA = 26327.455393799893 (s)\n",
            "-----------------------------\n",
            "[1,    10] loss: 364.735\n",
            "dx loss = 112.0427474975586\n",
            "dy loss = 114.13622283935547\n",
            "theta loss = 106.49256896972656\n",
            "sx loss = 5.565598487854004\n",
            "sy loss = 2.778876304626465\n",
            "Average iter time = 90.08231821060181 (s)\n",
            "-----------------------------\n",
            "ETA = 26339.22689852342 (s)\n",
            "ETA = 26203.806009611282 (s)\n",
            "ETA = 26017.345123034902 (s)\n",
            "ETA = 25921.0470283553 (s)\n",
            "ETA = 25786.138991554402 (s)\n",
            "ETA = 25725.84827625081 (s)\n",
            "ETA = 25867.553045670036 (s)\n",
            "ETA = 25688.730218518966 (s)\n",
            "ETA = 25495.846969249968 (s)\n",
            "ETA = 25440.637700836323 (s)\n",
            "-----------------------------\n",
            "[1,    20] loss: 321.091\n",
            "dx loss = 91.673828125\n",
            "dy loss = 103.70885467529297\n",
            "theta loss = 87.10516357421875\n",
            "sx loss = 3.425389289855957\n",
            "sy loss = 2.31831955909729\n",
            "Average iter time = 89.61052612066268 (s)\n",
            "-----------------------------\n",
            "ETA = 25305.17294908296 (s)\n",
            "ETA = 25307.050353317918 (s)\n",
            "ETA = 25157.468352085827 (s)\n",
            "ETA = 24985.0249896469 (s)\n",
            "ETA = 24874.59464817727 (s)\n",
            "ETA = 24769.235497267546 (s)\n",
            "ETA = 24632.67281481122 (s)\n",
            "ETA = 24512.20102292589 (s)\n",
            "ETA = 24406.549787665186 (s)\n",
            "ETA = 24277.759471280435 (s)\n",
            "saving model\n",
            "-----------------------------\n",
            "[1,    30] loss: 312.432\n",
            "dx loss = 110.34776306152344\n",
            "dy loss = 106.942138671875\n",
            "theta loss = 95.22820281982422\n",
            "sx loss = 2.923597574234009\n",
            "sy loss = 3.257709503173828\n",
            "Average iter time = 89.33794731299082 (s)\n",
            "-----------------------------\n",
            "ETA = 24334.819700954857 (s)\n",
            "ETA = 24333.71510859579 (s)\n",
            "ETA = 24327.836374674807 (s)\n",
            "ETA = 24247.21993951601 (s)\n",
            "ETA = 24119.18361591526 (s)\n",
            "ETA = 24002.50204187515 (s)\n",
            "ETA = 23899.45598769778 (s)\n",
            "ETA = 23790.1396081949 (s)\n",
            "ETA = 23678.77999605356 (s)\n",
            "ETA = 23595.993299272483 (s)\n",
            "-----------------------------\n",
            "[1,    40] loss: 322.469\n",
            "dx loss = 111.98804473876953\n",
            "dy loss = 108.15155029296875\n",
            "theta loss = 99.14356994628906\n",
            "sx loss = 2.9029407501220703\n",
            "sy loss = 2.6544361114501953\n",
            "Average iter time = 89.46408931612969 (s)\n",
            "-----------------------------\n",
            "ETA = 23474.538490571642 (s)\n",
            "ETA = 23357.623509013614 (s)\n",
            "ETA = 23254.692379917415 (s)\n",
            "ETA = 23141.961720336316 (s)\n",
            "ETA = 23024.74045235977 (s)\n",
            "ETA = 22900.34177806427 (s)\n",
            "ETA = 22791.457665076236 (s)\n",
            "ETA = 22707.61662777315 (s)\n",
            "ETA = 22631.6079242758 (s)\n",
            "ETA = 22534.75651809558 (s)\n",
            "-----------------------------\n",
            "[1,    50] loss: 312.117\n",
            "dx loss = 99.18408203125\n",
            "dy loss = 96.97245025634766\n",
            "theta loss = 102.80330657958984\n",
            "sx loss = 2.444477081298828\n",
            "sy loss = 2.727344512939453\n",
            "Average iter time = 88.88390261173248 (s)\n",
            "-----------------------------\n",
            "ETA = 22433.463919155598 (s)\n",
            "ETA = 22362.11140548306 (s)\n",
            "ETA = 22292.159385259194 (s)\n",
            "ETA = 22188.403867592366 (s)\n",
            "ETA = 22112.864738053537 (s)\n",
            "ETA = 22038.600826376743 (s)\n",
            "ETA = 21928.84805241713 (s)\n",
            "ETA = 21820.74398394674 (s)\n",
            "ETA = 21707.911842398025 (s)\n",
            "ETA = 21607.923509169876 (s)\n",
            "saving model\n",
            "-----------------------------\n",
            "[1,    60] loss: 323.678\n",
            "dx loss = 108.10202026367188\n",
            "dy loss = 110.12077331542969\n",
            "theta loss = 98.49284362792969\n",
            "sx loss = 2.4264535903930664\n",
            "sy loss = 2.2524402141571045\n",
            "Average iter time = 88.83918821016947 (s)\n",
            "-----------------------------\n",
            "ETA = 21533.787960366346 (s)\n",
            "ETA = 21457.844313937196 (s)\n",
            "ETA = 21385.607770974595 (s)\n",
            "ETA = 21297.51939318223 (s)\n",
            "ETA = 21211.429329616076 (s)\n",
            "ETA = 21124.17919310383 (s)\n",
            "ETA = 21053.204050271688 (s)\n",
            "ETA = 20970.272593048416 (s)\n",
            "ETA = 20921.514541496137 (s)\n",
            "ETA = 20838.43481613825 (s)\n",
            "-----------------------------\n",
            "[1,    70] loss: 316.687\n",
            "dx loss = 107.20882415771484\n",
            "dy loss = 103.92317199707031\n",
            "theta loss = 100.06694793701172\n",
            "sx loss = 2.8013248443603516\n",
            "sy loss = 2.2180700302124023\n",
            "Average iter time = 89.34462610653469 (s)\n",
            "-----------------------------\n",
            "ETA = 20762.853673048263 (s)\n",
            "ETA = 20734.927897711506 (s)\n",
            "ETA = 20692.013209576253 (s)\n",
            "ETA = 20630.81390879354 (s)\n",
            "ETA = 20580.491208073054 (s)\n",
            "ETA = 20527.487682673484 (s)\n",
            "ETA = 20466.43284902849 (s)\n",
            "ETA = 20420.081132415733 (s)\n",
            "ETA = 20368.99375907217 (s)\n",
            "ETA = 20321.152767696713 (s)\n",
            "-----------------------------\n",
            "[1,    80] loss: 309.260\n",
            "dx loss = 107.08877563476562\n",
            "dy loss = 105.71044921875\n",
            "theta loss = 100.93367004394531\n",
            "sx loss = 2.090182065963745\n",
            "sy loss = 2.6072499752044678\n",
            "Average iter time = 91.10997803807258 (s)\n",
            "-----------------------------\n",
            "ETA = 20262.005102120012 (s)\n",
            "ETA = 20224.324757812614 (s)\n",
            "ETA = 20159.438325963096 (s)\n",
            "ETA = 20100.00186781639 (s)\n",
            "ETA = 20037.661181293162 (s)\n",
            "ETA = 19974.94455297471 (s)\n",
            "ETA = 19903.161668847857 (s)\n",
            "ETA = 19826.890513374758 (s)\n",
            "ETA = 19764.78700455892 (s)\n",
            "ETA = 19683.499439643172 (s)\n",
            "saving model\n",
            "-----------------------------\n",
            "[1,    90] loss: 312.085\n",
            "dx loss = 105.49315643310547\n",
            "dy loss = 103.42221069335938\n",
            "theta loss = 96.32655334472656\n",
            "sx loss = 2.5584709644317627\n",
            "sy loss = 2.4185385704040527\n",
            "Average iter time = 92.39584730201297 (s)\n",
            "-----------------------------\n",
            "ETA = 19624.014299588154 (s)\n",
            "ETA = 19564.00475840123 (s)\n",
            "ETA = 19492.763662019785 (s)\n",
            "ETA = 19441.283103149264 (s)\n",
            "ETA = 19367.132025081544 (s)\n",
            "ETA = 19280.501387916975 (s)\n",
            "ETA = 19199.757801398402 (s)\n",
            "ETA = 19130.88572173485 (s)\n",
            "ETA = 19044.71486843883 (s)\n",
            "ETA = 18964.419554481792 (s)\n",
            "-----------------------------\n",
            "[1,   100] loss: 304.143\n",
            "dx loss = 109.24625396728516\n",
            "dy loss = 98.59843444824219\n",
            "theta loss = 88.8162841796875\n",
            "sx loss = 2.3406262397766113\n",
            "sy loss = 2.6890616416931152\n",
            "Average iter time = 93.29812128543854 (s)\n",
            "-----------------------------\n",
            "ETA = 18882.665126539396 (s)\n",
            "ETA = 18795.074215465032 (s)\n",
            "ETA = 18724.011388741543 (s)\n",
            "ETA = 18635.775226385125 (s)\n",
            "ETA = 18549.70398755418 (s)\n",
            "ETA = 18477.60293231319 (s)\n",
            "ETA = 18420.340404895574 (s)\n",
            "ETA = 18346.086678009517 (s)\n",
            "ETA = 18264.791530115323 (s)\n",
            "ETA = 18177.292614329162 (s)\n",
            "-----------------------------\n",
            "[1,   110] loss: 310.976\n",
            "dx loss = 97.66581726074219\n",
            "dy loss = 98.39412689208984\n",
            "theta loss = 95.80159759521484\n",
            "sx loss = 2.461106777191162\n",
            "sy loss = 2.470022678375244\n",
            "Average iter time = 94.18023347421126 (s)\n",
            "-----------------------------\n",
            "ETA = 18119.394027452916 (s)\n",
            "ETA = 18041.739427999266 (s)\n",
            "ETA = 17948.191990416297 (s)\n",
            "ETA = 17852.193194704738 (s)\n",
            "ETA = 17759.68913182626 (s)\n",
            "ETA = 17669.13045046349 (s)\n",
            "ETA = 17580.68964198511 (s)\n",
            "ETA = 17491.792321632594 (s)\n",
            "ETA = 17411.90424373648 (s)\n",
            "ETA = 17306.91427193823 (s)\n",
            "saving model\n",
            "-----------------------------\n",
            "[1,   120] loss: 306.939\n",
            "dx loss = 120.41835021972656\n",
            "dy loss = 120.6717529296875\n",
            "theta loss = 101.78355407714844\n",
            "sx loss = 2.8214945793151855\n",
            "sy loss = 2.221914768218994\n",
            "Average iter time = 94.47633350292841 (s)\n",
            "-----------------------------\n",
            "ETA = 17231.59757981077 (s)\n",
            "ETA = 17137.49759580386 (s)\n",
            "ETA = 17053.619069884546 (s)\n",
            "ETA = 16971.395537993165 (s)\n",
            "ETA = 16886.02191989223 (s)\n",
            "ETA = 16797.682828754663 (s)\n",
            "ETA = 16705.47440644345 (s)\n",
            "ETA = 16608.164852971255 (s)\n",
            "ETA = 16509.062291629787 (s)\n",
            "ETA = 16417.43074102674 (s)\n",
            "-----------------------------\n",
            "[1,   130] loss: 305.388\n",
            "dx loss = 108.367431640625\n",
            "dy loss = 100.57752990722656\n",
            "theta loss = 89.52490234375\n",
            "sx loss = 2.575721502304077\n",
            "sy loss = 2.4861598014831543\n",
            "Average iter time = 94.67381429122044 (s)\n",
            "-----------------------------\n",
            "ETA = 16320.8780515753 (s)\n",
            "ETA = 16223.762388310473 (s)\n",
            "ETA = 16122.43505609984 (s)\n",
            "ETA = 16028.286739553276 (s)\n",
            "ETA = 15933.913560490082 (s)\n",
            "ETA = 15836.793099878976 (s)\n",
            "ETA = 15736.074773755692 (s)\n",
            "ETA = 15642.715869412288 (s)\n",
            "ETA = 15547.413032255825 (s)\n",
            "ETA = 15448.805556686715 (s)\n",
            "-----------------------------\n",
            "[1,   140] loss: 306.419\n",
            "dx loss = 89.36163330078125\n",
            "dy loss = 98.27595520019531\n",
            "theta loss = 90.40628051757812\n",
            "sx loss = 2.3442330360412598\n",
            "sy loss = 2.748447895050049\n",
            "Average iter time = 94.54786855663572 (s)\n",
            "-----------------------------\n",
            "ETA = 15353.687532042526 (s)\n",
            "ETA = 15253.484114278821 (s)\n",
            "ETA = 15156.175476148015 (s)\n",
            "ETA = 15062.286511035674 (s)\n",
            "ETA = 14971.077183302104 (s)\n",
            "ETA = 14874.04607490165 (s)\n",
            "ETA = 14789.559020734712 (s)\n",
            "ETA = 14694.007970075292 (s)\n",
            "ETA = 14607.12479356412 (s)\n",
            "ETA = 14510.809062060069 (s)\n",
            "saving model\n",
            "-----------------------------\n",
            "[1,   150] loss: 293.857\n",
            "dx loss = 102.3970947265625\n",
            "dy loss = 92.74037170410156\n",
            "theta loss = 98.29605102539062\n",
            "sx loss = 2.694904327392578\n",
            "sy loss = 2.394395112991333\n",
            "Average iter time = 94.60465329011281 (s)\n",
            "-----------------------------\n",
            "ETA = 14416.862268463747 (s)\n",
            "ETA = 14321.636561149102 (s)\n",
            "ETA = 14152.219844136485 (s)\n",
            "ETA = 14047.477038790708 (s)\n",
            "ETA = 13941.925704825186 (s)\n",
            "ETA = 13844.335798268716 (s)\n",
            "ETA = 13741.905244423793 (s)\n",
            "ETA = 13635.715355377904 (s)\n",
            "ETA = 13525.23588981451 (s)\n",
            "ETA = 13423.127640555489 (s)\n",
            "ETA = 13321.944076145954 (s)\n",
            "ETA = 13215.227849505218 (s)\n",
            "-----------------------------\n",
            "[2,    10] loss: 297.550\n",
            "dx loss = 94.47335815429688\n",
            "dy loss = 99.50318908691406\n",
            "theta loss = 94.24711608886719\n",
            "sx loss = 2.1778926849365234\n",
            "sy loss = 2.117230176925659\n",
            "Average iter time = 93.37956927440784 (s)\n",
            "-----------------------------\n",
            "ETA = 13109.616112500014 (s)\n",
            "ETA = 13007.00968808274 (s)\n",
            "ETA = 12909.65790302236 (s)\n",
            "ETA = 12807.416720505465 (s)\n",
            "ETA = 12711.07716809424 (s)\n",
            "ETA = 12610.24844637319 (s)\n",
            "ETA = 12511.047564886976 (s)\n",
            "ETA = 12408.561235053145 (s)\n",
            "ETA = 12306.195088370123 (s)\n",
            "ETA = 12208.575495189873 (s)\n",
            "-----------------------------\n",
            "[2,    20] loss: 294.863\n",
            "dx loss = 107.69972229003906\n",
            "dy loss = 94.85476684570312\n",
            "theta loss = 100.70474243164062\n",
            "sx loss = 2.1413962841033936\n",
            "sy loss = 1.9274353981018066\n",
            "Average iter time = 92.86685881642408 (s)\n",
            "-----------------------------\n",
            "ETA = 12108.967781295934 (s)\n",
            "ETA = 12007.03240557674 (s)\n",
            "ETA = 11903.105030227389 (s)\n",
            "ETA = 11804.989063274583 (s)\n",
            "ETA = 11706.51050159788 (s)\n",
            "ETA = 11606.798398373176 (s)\n",
            "ETA = 11507.804008141955 (s)\n",
            "ETA = 11406.941651328629 (s)\n",
            "ETA = 11312.507912007286 (s)\n",
            "ETA = 11212.90086388767 (s)\n",
            "saving model\n",
            "-----------------------------\n",
            "[2,    30] loss: 296.762\n",
            "dx loss = 81.93379974365234\n",
            "dy loss = 98.13749694824219\n",
            "theta loss = 95.75711059570312\n",
            "sx loss = 2.329602003097534\n",
            "sy loss = 2.1412789821624756\n",
            "Average iter time = 92.35759531272636 (s)\n",
            "-----------------------------\n",
            "ETA = 11118.988661204496 (s)\n",
            "ETA = 11030.46014736776 (s)\n",
            "ETA = 10939.975092680983 (s)\n",
            "ETA = 10847.447699520133 (s)\n",
            "ETA = 10763.277612995056 (s)\n",
            "ETA = 10668.301425041023 (s)\n",
            "ETA = 10576.018034161227 (s)\n",
            "ETA = 10484.22326110463 (s)\n",
            "ETA = 10399.086252282972 (s)\n",
            "ETA = 10306.144494222506 (s)\n",
            "-----------------------------\n",
            "[2,    40] loss: 297.981\n",
            "dx loss = 95.82038879394531\n",
            "dy loss = 96.15049743652344\n",
            "theta loss = 106.35263061523438\n",
            "sx loss = 2.184170722961426\n",
            "sy loss = 2.2228851318359375\n",
            "Average iter time = 92.51269335548083 (s)\n",
            "-----------------------------\n",
            "ETA = 10212.534070102265 (s)\n",
            "ETA = 10119.042119582044 (s)\n",
            "ETA = 10023.31699876157 (s)\n",
            "ETA = 9930.58703461983 (s)\n",
            "ETA = 9835.791385541917 (s)\n",
            "ETA = 9742.391821331898 (s)\n",
            "ETA = 9648.304061968895 (s)\n",
            "ETA = 9555.450642627144 (s)\n",
            "ETA = 9463.977256000824 (s)\n",
            "ETA = 9369.325478509569 (s)\n",
            "-----------------------------\n",
            "[2,    50] loss: 293.756\n",
            "dx loss = 96.7144775390625\n",
            "dy loss = 110.91893005371094\n",
            "theta loss = 96.0059814453125\n",
            "sx loss = 2.1307802200317383\n",
            "sy loss = 2.302213668823242\n",
            "Average iter time = 92.40043538277692 (s)\n",
            "-----------------------------\n",
            "ETA = 9276.137469842624 (s)\n",
            "ETA = 9185.847739431238 (s)\n",
            "ETA = 9093.617490213035 (s)\n",
            "ETA = 9004.165151196936 (s)\n",
            "ETA = 8916.078419518413 (s)\n",
            "ETA = 8828.592771742817 (s)\n",
            "ETA = 8740.734375923998 (s)\n",
            "ETA = 8648.817164146123 (s)\n",
            "ETA = 8562.674284353905 (s)\n",
            "ETA = 8473.107035745183 (s)\n",
            "saving model\n",
            "-----------------------------\n",
            "[2,    60] loss: 290.377\n",
            "dx loss = 99.0507583618164\n",
            "dy loss = 105.50006103515625\n",
            "theta loss = 108.83770751953125\n",
            "sx loss = 2.437084197998047\n",
            "sy loss = 2.6377573013305664\n",
            "Average iter time = 92.76835703399946 (s)\n",
            "-----------------------------\n",
            "ETA = 8385.390057667897 (s)\n",
            "ETA = 8296.736384028385 (s)\n",
            "ETA = 8204.546109737063 (s)\n",
            "ETA = 8111.440647029946 (s)\n",
            "ETA = 8018.421720973682 (s)\n",
            "ETA = 7925.289471581973 (s)\n",
            "ETA = 7833.789622490746 (s)\n",
            "ETA = 7743.792487937293 (s)\n",
            "ETA = 7653.142439903285 (s)\n",
            "ETA = 7559.185069312692 (s)\n",
            "-----------------------------\n",
            "[2,    70] loss: 299.353\n",
            "dx loss = 90.6041259765625\n",
            "dy loss = 88.27720642089844\n",
            "theta loss = 94.81663513183594\n",
            "sx loss = 2.1198067665100098\n",
            "sy loss = 2.271991729736328\n",
            "Average iter time = 92.86686954197583 (s)\n",
            "-----------------------------\n",
            "ETA = 7465.625709051367 (s)\n",
            "ETA = 7372.393686154966 (s)\n",
            "ETA = 7279.99246719591 (s)\n",
            "ETA = 7186.816104108691 (s)\n",
            "ETA = 7097.383147684215 (s)\n",
            "ETA = 7004.493343596252 (s)\n",
            "ETA = 6913.259971250142 (s)\n",
            "ETA = 6822.592196048705 (s)\n",
            "ETA = 6729.888705487939 (s)\n",
            "ETA = 6637.09378730346 (s)\n",
            "-----------------------------\n",
            "[2,    80] loss: 287.808\n",
            "dx loss = 91.44093322753906\n",
            "dy loss = 98.53266906738281\n",
            "theta loss = 89.77459716796875\n",
            "sx loss = 2.173412322998047\n",
            "sy loss = 2.220057964324951\n",
            "Average iter time = 92.96447920799255 (s)\n",
            "-----------------------------\n",
            "ETA = 6543.82780141157 (s)\n",
            "ETA = 6453.427074536009 (s)\n",
            "ETA = 6361.748340568195 (s)\n",
            "ETA = 6269.192234643185 (s)\n",
            "ETA = 6175.893867424042 (s)\n",
            "ETA = 6084.651686487176 (s)\n",
            "ETA = 5992.241319036815 (s)\n",
            "ETA = 5900.604786126636 (s)\n",
            "ETA = 5808.190270469524 (s)\n",
            "ETA = 5714.571753565454 (s)\n",
            "saving model\n",
            "-----------------------------\n",
            "[2,    90] loss: 284.667\n",
            "dx loss = 97.97816467285156\n",
            "dy loss = 94.40543365478516\n",
            "theta loss = 90.88175964355469\n",
            "sx loss = 2.486297845840454\n",
            "sy loss = 2.330793857574463\n",
            "Average iter time = 93.14430017510722 (s)\n",
            "-----------------------------\n",
            "ETA = 5625.042512579321 (s)\n",
            "ETA = 5533.522698179853 (s)\n",
            "ETA = 5441.620936459022 (s)\n",
            "ETA = 5349.817519729098 (s)\n",
            "ETA = 5257.250911689704 (s)\n",
            "ETA = 5165.681890585131 (s)\n",
            "ETA = 5073.031053873049 (s)\n",
            "ETA = 4980.616158473653 (s)\n",
            "ETA = 4888.274559406742 (s)\n",
            "ETA = 4796.236634734781 (s)\n",
            "-----------------------------\n",
            "[2,   100] loss: 292.992\n",
            "dx loss = 103.6663818359375\n",
            "dy loss = 105.835693359375\n",
            "theta loss = 101.46711730957031\n",
            "sx loss = 1.9690890312194824\n",
            "sy loss = 2.0085091590881348\n",
            "Average iter time = 93.36869544736923 (s)\n",
            "-----------------------------\n",
            "ETA = 4704.906923604375 (s)\n",
            "ETA = 4612.5155964363885 (s)\n",
            "ETA = 4520.9090835649195 (s)\n",
            "ETA = 4428.140588756257 (s)\n",
            "ETA = 4336.516907685538 (s)\n",
            "ETA = 4244.826527389151 (s)\n",
            "ETA = 4152.267525110135 (s)\n",
            "ETA = 4059.521839199365 (s)\n",
            "ETA = 3967.3775654436163 (s)\n",
            "ETA = 3874.260716581824 (s)\n",
            "-----------------------------\n",
            "[2,   110] loss: 286.099\n",
            "dx loss = 102.29617309570312\n",
            "dy loss = 94.96377563476562\n",
            "theta loss = 95.3006591796875\n",
            "sx loss = 2.039261817932129\n",
            "sy loss = 2.08100962638855\n",
            "Average iter time = 93.61586892877827 (s)\n",
            "-----------------------------\n",
            "ETA = 3781.2034598107357 (s)\n",
            "ETA = 3688.7887088056127 (s)\n",
            "ETA = 3595.963591636074 (s)\n",
            "ETA = 3503.288446035981 (s)\n",
            "ETA = 3411.035003579369 (s)\n",
            "ETA = 3317.8158332269345 (s)\n",
            "ETA = 3225.0119157264485 (s)\n",
            "ETA = 3132.178060369587 (s)\n",
            "ETA = 3039.909653327821 (s)\n",
            "ETA = 2946.6943671093272 (s)\n",
            "saving model\n",
            "-----------------------------\n",
            "[2,   120] loss: 282.113\n",
            "dx loss = 78.81912231445312\n",
            "dy loss = 100.41960144042969\n",
            "theta loss = 90.68099975585938\n",
            "sx loss = 1.9271135330200195\n",
            "sy loss = 1.8930704593658447\n",
            "Average iter time = 93.9067190210609 (s)\n",
            "-----------------------------\n",
            "ETA = 2853.8838854932005 (s)\n",
            "ETA = 2761.654420040507 (s)\n",
            "ETA = 2668.3663456547106 (s)\n",
            "ETA = 2574.895613384924 (s)\n",
            "ETA = 2481.2728673852575 (s)\n",
            "ETA = 2387.490460872717 (s)\n",
            "ETA = 2294.0792179579894 (s)\n",
            "ETA = 2200.346590149747 (s)\n",
            "ETA = 2106.735663959783 (s)\n",
            "ETA = 2012.8881635466903 (s)\n",
            "-----------------------------\n",
            "[2,   130] loss: 281.627\n",
            "dx loss = 80.73358154296875\n",
            "dy loss = 85.52606964111328\n",
            "theta loss = 82.65676879882812\n",
            "sx loss = 2.261427402496338\n",
            "sy loss = 2.1034653186798096\n",
            "Average iter time = 94.12999959955825 (s)\n",
            "-----------------------------\n",
            "ETA = 1919.3695255844516 (s)\n",
            "ETA = 1825.9242235209545 (s)\n",
            "ETA = 1731.9423908943731 (s)\n",
            "ETA = 1638.3687236867454 (s)\n",
            "ETA = 1544.4393368416133 (s)\n",
            "ETA = 1450.3421311882628 (s)\n",
            "ETA = 1356.107463937641 (s)\n",
            "ETA = 1262.2191387368787 (s)\n",
            "ETA = 1168.2390357108336 (s)\n",
            "ETA = 1073.9864212089055 (s)\n",
            "-----------------------------\n",
            "[2,   140] loss: 289.688\n",
            "dx loss = 86.5699234008789\n",
            "dy loss = 102.73646545410156\n",
            "theta loss = 98.05654907226562\n",
            "sx loss = 2.414613723754883\n",
            "sy loss = 1.8963959217071533\n",
            "Average iter time = 94.28716975777117 (s)\n",
            "-----------------------------\n",
            "ETA = 979.7026240872857 (s)\n",
            "ETA = 885.6091012914916 (s)\n",
            "ETA = 791.3661114874163 (s)\n",
            "ETA = 697.0908828306249 (s)\n",
            "ETA = 602.9752760649835 (s)\n",
            "ETA = 508.7167048407248 (s)\n",
            "ETA = 414.3829586720657 (s)\n",
            "ETA = 320.0525188125969 (s)\n",
            "ETA = 225.76198290333153 (s)\n",
            "ETA = 131.3384564711505 (s)\n",
            "saving model\n",
            "-----------------------------\n",
            "[2,   150] loss: 279.432\n",
            "dx loss = 97.82160186767578\n",
            "dy loss = 88.62366485595703\n",
            "theta loss = 95.65782165527344\n",
            "sx loss = 2.3955769538879395\n",
            "sy loss = 2.2745747566223145\n",
            "Average iter time = 94.4703117814285 (s)\n",
            "-----------------------------\n",
            "ETA = 36.90246558680341 (s)\n",
            "ETA = -57.58108193475274 (s)\n",
            "ETA = -151.67386756409695 (s)\n",
            "Finished Training\n",
            "Training took: 28650.164414405823 s\n"
          ]
        }
      ]
    },
    {
      "cell_type": "markdown",
      "metadata": {
        "id": "ua3_WMYz3wTN"
      },
      "source": [
        "## Training loss plot"
      ]
    },
    {
      "cell_type": "code",
      "metadata": {
        "colab": {
          "base_uri": "https://localhost:8080/",
          "height": 313
        },
        "id": "W-HhazmH3vQh",
        "outputId": "ae26ff82-0eb2-4143-9093-690fcc21e7d8"
      },
      "source": [
        "plt.plot(iterations, losses)\n",
        "plt.xlabel('epochs')\n",
        "plt.ylabel('L1 loss')\n",
        "plt.title(\"Training loss\")"
      ],
      "execution_count": 51,
      "outputs": [
        {
          "output_type": "execute_result",
          "data": {
            "text/plain": [
              "Text(0.5, 1.0, 'Training loss')"
            ]
          },
          "metadata": {},
          "execution_count": 51
        },
        {
          "output_type": "display_data",
          "data": {
            "image/png": "[encoded data removed]",
            "text/plain": [
              "<Figure size 432x288 with 1 Axes>"
            ]
          },
          "metadata": {
            "needs_background": "light"
          }
        }
      ]
    },
    {
      "cell_type": "markdown",
      "metadata": {
        "id": "0OeHIh0O32h2"
      },
      "source": [
        "## Save latest model"
      ]
    },
    {
      "cell_type": "code",
      "metadata": {
        "id": "_3zPC4Wn30Ir"
      },
      "source": [
        "PATH = os.path.join(PATH_TO_MODELS, f'affineNet3.0.pth')\n",
        "torch.save(net.state_dict(), PATH)"
      ],
      "execution_count": 58,
      "outputs": []
    },
    {
      "cell_type": "markdown",
      "metadata": {
        "id": "ajTR4mIIjYYy"
      },
      "source": [
        "# Testing"
      ]
    },
    {
      "cell_type": "code",
      "metadata": {
        "id": "9_uhmiuajXka"
      },
      "source": [
        "TEST_IMGS_ROT_O = '/content/SMD_V3/SMD_V3_TESTER_ROT/input/original'\n",
        "TEST_IMGS_ROT_T = '/content/SMD_V3/SMD_V3_TESTER_ROT/input/transformed'\n",
        "TEST_IMGS_ROT_L = '/content/SMD_V3/SMD_V3_TESTER_ROT/labels'\n",
        "\n",
        "TEST_IMGS_SCAL_O = '/content/SMD_V3/SMD_V3_TESTER_SCAL/input/original'\n",
        "TEST_IMGS_SCAL_T = '/content/SMD_V3/SMD_V3_TESTER_SCAL/input/transformed'\n",
        "TEST_IMGS_SCAL_L = '/content/SMD_V3/SMD_V3_TESTER_SCAL/labels'\n",
        "\n",
        "TEST_IMGS_TRANS_O = '/content/SMD_V3/SMD_V3_TESTER_TRANS/input/original'\n",
        "TEST_IMGS_TRANS_T = '/content/SMD_V3/SMD_V3_TESTER_TRANS/input/transformed'\n",
        "TEST_IMGS_TRANS_L = '/content/SMD_V3/SMD_V3_TESTER_TRANS/labels'\n",
        "\n",
        "TEST_IMGS_O = '/content/SMD_V3/SMD_V3_TESTER_COMB/input/original'\n",
        "TEST_IMGS_T = '/content/SMD_V3/SMD_V3_TESTER_COMB/input/transformed'\n",
        "TEST_IMGS_L = '/content/SMD_V3/SMD_V3_TESTER_COMB/labels'"
      ],
      "execution_count": 17,
      "outputs": []
    },
    {
      "cell_type": "markdown",
      "metadata": {
        "id": "CkkoiKvJnmFy"
      },
      "source": [
        "## Loading test data"
      ]
    },
    {
      "cell_type": "code",
      "metadata": {
        "id": "spcLm-O7tdky"
      },
      "source": [
        "class AddGaussianNoise(object):\n",
        "    def __init__(self, mean=0., std=1.):\n",
        "        self.std = std\n",
        "        self.mean = mean\n",
        "        \n",
        "    def __call__(self, tensor):\n",
        "        return tensor + torch.randn(tensor.size()) * self.std + self.mean\n",
        "    \n",
        "    def __repr__(self):\n",
        "        return self.__class__.__name__ + '(mean={0}, std={1})'.format(self.mean, self.std)\n",
        "\n",
        "#w gaussian noise\n",
        "transform = transforms.Compose([\n",
        "                    transforms.ToPILImage(),\n",
        "                    transforms.Grayscale(1),\n",
        "                    transforms.Resize([IMG_WIDTH, IMG_HEIGHT]),\n",
        "                    transforms.ColorJitter(brightness=(0.3,1), contrast=(0.3,1)),\n",
        "                    transforms.ToTensor(),\n",
        "                    AddGaussianNoise(0.,0.2),\n",
        "                    transforms.Normalize(0.5, 0.5)])\n",
        "#w/o Gaussian noise\n",
        "# transform = transforms.Compose([\n",
        "#                     transforms.ToPILImage(),\n",
        "#                     transforms.Grayscale(1),\n",
        "#                     transforms.Resize([IMG_WIDTH, IMG_HEIGHT]),\n",
        "#                     transforms.ColorJitter(brightness=(0.3,1), contrast=(0.3,1)),\n",
        "#                     transforms.ToTensor(),\n",
        "#                     transforms.Normalize(0.5, 0.5)])"
      ],
      "execution_count": null,
      "outputs": []
    },
    {
      "cell_type": "code",
      "metadata": {
        "colab": {
          "base_uri": "https://localhost:8080/"
        },
        "id": "kmnujQemnkP8",
        "outputId": "a2efe2aa-3513-4641-a201-7beed8e38546"
      },
      "source": [
        "batch_size = 4\n",
        "rot_test_dataset = AffineDataset(TEST_IMGS_ROT_O, TEST_IMGS_ROT_T, TEST_IMGS_ROT_L, transform=transform, norm_out=True)\n",
        "scal_test_dataset = AffineDataset(TEST_IMGS_SCAL_O, TEST_IMGS_SCAL_T, TEST_IMGS_SCAL_L, transform=transform, norm_out=True)\n",
        "trans_test_dataset = AffineDataset(TEST_IMGS_TRANS_O, TEST_IMGS_TRANS_T, TEST_IMGS_TRANS_L, transform=transform, norm_out=True)\n",
        "test_dataset = AffineDataset(TEST_IMGS_O, TEST_IMGS_T, TEST_IMGS_L, transform=transform, norm_out=True)\n",
        "\n",
        "print(f'Rot test dataset size: {len(rot_test_dataset)}')\n",
        "print(f'Scal test dataset size: {len(scal_test_dataset)}')\n",
        "print(f'Trans test dataset size: {len(trans_test_dataset)}')\n",
        "\n",
        "testloader_rot = DataLoader(rot_test_dataset, batch_size=batch_size,\n",
        "                        shuffle=True, num_workers=0)\n",
        "testloader_scal = DataLoader(scal_test_dataset, batch_size=batch_size,\n",
        "                        shuffle=True, num_workers=0)\n",
        "testloader_trans = DataLoader(trans_test_dataset, batch_size=batch_size,\n",
        "                        shuffle=True, num_workers=0)\n",
        "testloader = DataLoader(test_dataset, batch_size=batch_size,\n",
        "                        shuffle=True, num_workers=0)"
      ],
      "execution_count": 18,
      "outputs": [
        {
          "output_type": "stream",
          "name": "stdout",
          "text": [
            "Rot test dataset size: 483\n",
            "Scal test dataset size: 487\n",
            "Trans test dataset size: 480\n"
          ]
        }
      ]
    },
    {
      "cell_type": "markdown",
      "metadata": {
        "id": "os8CWgtLr0TC"
      },
      "source": [
        "## Visualization"
      ]
    },
    {
      "cell_type": "code",
      "metadata": {
        "colab": {
          "base_uri": "https://localhost:8080/",
          "height": 1000
        },
        "id": "qGJmTpS3rn4O",
        "outputId": "2f79eeb9-29a9-491e-87a9-0b90efd87381"
      },
      "source": [
        "dataiter = iter(testloader_rot)\n",
        "images, images_t,  labels = dataiter.next()\n",
        "plotGrayScale(torchvision.utils.make_grid(images), \"Originals\")\n",
        "plt.show()\n",
        "plotGrayScale(torchvision.utils.make_grid(images_t), \"Rotated\")\n",
        "plt.show()\n",
        "print(f'Transform parameters (ROT)')\n",
        "for label in labels:\n",
        "  print(label)\n",
        "\n",
        "dataiter = iter(testloader_scal)\n",
        "images, images_t,  labels = dataiter.next()\n",
        "# print(labels)\n",
        "plotGrayScale(torchvision.utils.make_grid(images), \"Originals\")\n",
        "plt.show()\n",
        "plotGrayScale(torchvision.utils.make_grid(images_t), \"Scaled\")\n",
        "plt.show()\n",
        "print(f'Transform parameters (SCAL)')\n",
        "for label in labels:\n",
        "  print(label)\n",
        "\n",
        "dataiter = iter(testloader_trans)\n",
        "images, images_t,  labels = dataiter.next()\n",
        "# print(labels)\n",
        "plotGrayScale(torchvision.utils.make_grid(images), \"Originals\")\n",
        "plt.show()\n",
        "plotGrayScale(torchvision.utils.make_grid(images_t), \"Translated\")\n",
        "plt.show()\n",
        "print(f'Transform parameters (TRANS)')\n",
        "for label in labels:\n",
        "  print(label)"
      ],
      "execution_count": null,
      "outputs": [
        {
          "name": "stderr",
          "output_type": "stream",
          "text": [
            "Clipping input data to the valid range for imshow with RGB data ([0..1] for floats or [0..255] for integers).\n"
          ]
        },
        {
          "data": {
            "image/png": "[encoded data removed]",
            "text/plain": [
              "<Figure size 432x288 with 1 Axes>"
            ]
          },
          "metadata": {},
          "output_type": "display_data"
        },
        {
          "name": "stderr",
          "output_type": "stream",
          "text": [
            "Clipping input data to the valid range for imshow with RGB data ([0..1] for floats or [0..255] for integers).\n"
          ]
        },
        {
          "data": {
            "image/png": "[encoded data removed]",
            "text/plain": [
              "<Figure size 432x288 with 1 Axes>"
            ]
          },
          "metadata": {},
          "output_type": "display_data"
        },
        {
          "name": "stdout",
          "output_type": "stream",
          "text": [
            "Transform parameters (ROT)\n",
            "tensor([  0.0000,   0.0000, -17.3879,   1.0000,   1.0000], dtype=torch.float64)\n",
            "tensor([  0.0000,   0.0000, -17.4705,   1.0000,   1.0000], dtype=torch.float64)\n",
            "tensor([ 0.0000,  0.0000, -2.3253,  1.0000,  1.0000], dtype=torch.float64)\n",
            "tensor([  0.0000,   0.0000, -12.9314,   1.0000,   1.0000], dtype=torch.float64)\n"
          ]
        },
        {
          "name": "stderr",
          "output_type": "stream",
          "text": [
            "Clipping input data to the valid range for imshow with RGB data ([0..1] for floats or [0..255] for integers).\n"
          ]
        },
        {
          "data": {
            "image/png": "[encoded data removed]",
            "text/plain": [
              "<Figure size 432x288 with 1 Axes>"
            ]
          },
          "metadata": {},
          "output_type": "display_data"
        },
        {
          "name": "stderr",
          "output_type": "stream",
          "text": [
            "Clipping input data to the valid range for imshow with RGB data ([0..1] for floats or [0..255] for integers).\n"
          ]
        },
        {
          "data": {
            "image/png": "[encoded data removed]",
            "text/plain": [
              "<Figure size 432x288 with 1 Axes>"
            ]
          },
          "metadata": {},
          "output_type": "display_data"
        },
        {
          "name": "stdout",
          "output_type": "stream",
          "text": [
            "Transform parameters (SCAL)\n",
            "tensor([0.0000, 0.0000, 0.0000, 0.5981, 0.5981], dtype=torch.float64)\n",
            "tensor([0.0000, 0.0000, 0.0000, 0.6818, 0.6818], dtype=torch.float64)\n",
            "tensor([0.0000, 0.0000, 0.0000, 1.2509, 1.2509], dtype=torch.float64)\n",
            "tensor([0.0000, 0.0000, 0.0000, 1.9452, 1.9452], dtype=torch.float64)\n"
          ]
        },
        {
          "name": "stderr",
          "output_type": "stream",
          "text": [
            "Clipping input data to the valid range for imshow with RGB data ([0..1] for floats or [0..255] for integers).\n"
          ]
        },
        {
          "data": {
            "image/png": "[encoded data removed]",
            "text/plain": [
              "<Figure size 432x288 with 1 Axes>"
            ]
          },
          "metadata": {},
          "output_type": "display_data"
        },
        {
          "name": "stderr",
          "output_type": "stream",
          "text": [
            "Clipping input data to the valid range for imshow with RGB data ([0..1] for floats or [0..255] for integers).\n"
          ]
        },
        {
          "data": {
            "image/png": "[encoded data removed]",
            "text/plain": [
              "<Figure size 432x288 with 1 Axes>"
            ]
          },
          "metadata": {},
          "output_type": "display_data"
        },
        {
          "name": "stdout",
          "output_type": "stream",
          "text": [
            "Transform parameters (TRANS)\n",
            "tensor([ 54.9371, 114.4009,   0.0000,   1.0000,   1.0000], dtype=torch.float64)\n",
            "tensor([-62.1512,  92.3918,   0.0000,   1.0000,   1.0000], dtype=torch.float64)\n",
            "tensor([-60.4504,  15.1579,   0.0000,   1.0000,   1.0000], dtype=torch.float64)\n",
            "tensor([35.2046,  3.6176,  0.0000,  1.0000,  1.0000], dtype=torch.float64)\n"
          ]
        }
      ]
    },
    {
      "cell_type": "markdown",
      "metadata": {
        "id": "-MjjasvSvgi2"
      },
      "source": [
        "# Test Performance with Gaussian noise"
      ]
    },
    {
      "cell_type": "code",
      "metadata": {
        "id": "E9yMuOQi2uA8"
      },
      "source": [
        "def testModel(dataloader):\n",
        "  running_loss = 0.0\n",
        "  avg_infer_time = 0.0\n",
        "  criterion = torch.nn.L1Loss(reduction='sum').to(cuda0)\n",
        "\n",
        "  for i, data in enumerate(dataloader):\n",
        "\n",
        "      batch_imgs, batch_imgs_t, labels = data\n",
        "\n",
        "        # forward \n",
        "      batch_imgs = batch_imgs.to(device=cuda0, dtype=torch.float) #Convert to torch cuda float\n",
        "      batch_imgs_t = batch_imgs_t.to(device=cuda0, dtype=torch.float)\n",
        "      labels = labels.to(device=cuda0, dtype=torch.float)\n",
        "      infer_start = time.time()\n",
        "      outputs = net(batch_imgs, batch_imgs_t)\n",
        "      infer_end = time.time()\n",
        "      loss = criterion(outputs, labels)\n",
        "      running_loss += loss.item()\n",
        "      avg_infer_time += ((infer_end-infer_start)/batch_size)\n",
        "      if i % 20 == 19:\n",
        "        print(f'Average Test loss = {running_loss/i}')\n",
        "        print(f'Average Infer time = {avg_infer_time/i}')\n",
        "        print('----------------------------------------')\n",
        "\n",
        "  return (running_loss/i), (avg_infer_time/i)"
      ],
      "execution_count": 15,
      "outputs": []
    },
    {
      "cell_type": "markdown",
      "metadata": {
        "id": "PKj8M-9G1WK8"
      },
      "source": [
        "## Rotated only"
      ]
    },
    {
      "cell_type": "code",
      "metadata": {
        "colab": {
          "base_uri": "https://localhost:8080/",
          "height": 565
        },
        "id": "I1w4BGaGvfzI",
        "outputId": "b008231b-6282-4eec-cbb2-f179f7c5230b"
      },
      "source": [
        "loss, infertime = testModel(testloader_rot)\n",
        "print(f'Average Rot Test loss = {loss}')\n",
        "print(f'Average Infer time = {infertime}')"
      ],
      "execution_count": 29,
      "outputs": [
        {
          "output_type": "stream",
          "name": "stdout",
          "text": [
            "Average Test loss = 7.2611956345407584\n",
            "Average Infer time = 0.0008866630102458753\n",
            "----------------------------------------\n",
            "Average Test loss = 7.211859727517153\n",
            "Average Infer time = 0.0008826240515097594\n",
            "----------------------------------------\n"
          ]
        },
        {
          "output_type": "error",
          "ename": "KeyboardInterrupt",
          "evalue": "ignored",
          "traceback": [
            "\u001b[0;31m---------------------------------------------------------------------------\u001b[0m",
            "\u001b[0;31mRuntimeError\u001b[0m                              Traceback (most recent call last)",
            "\u001b[0;32m/usr/local/lib/python3.7/dist-packages/torch/utils/data/dataloader.py\u001b[0m in \u001b[0;36m__next__\u001b[0;34m(self)\u001b[0m\n\u001b[1;32m    520\u001b[0m                 \u001b[0mself\u001b[0m\u001b[0;34m.\u001b[0m\u001b[0m_reset\u001b[0m\u001b[0;34m(\u001b[0m\u001b[0;34m)\u001b[0m\u001b[0;34m\u001b[0m\u001b[0;34m\u001b[0m\u001b[0m\n\u001b[0;32m--> 521\u001b[0;31m             \u001b[0mdata\u001b[0m \u001b[0;34m=\u001b[0m \u001b[0mself\u001b[0m\u001b[0;34m.\u001b[0m\u001b[0m_next_data\u001b[0m\u001b[0;34m(\u001b[0m\u001b[0;34m)\u001b[0m\u001b[0;34m\u001b[0m\u001b[0;34m\u001b[0m\u001b[0m\n\u001b[0m\u001b[1;32m    522\u001b[0m             \u001b[0mself\u001b[0m\u001b[0;34m.\u001b[0m\u001b[0m_num_yielded\u001b[0m \u001b[0;34m+=\u001b[0m \u001b[0;36m1\u001b[0m\u001b[0;34m\u001b[0m\u001b[0;34m\u001b[0m\u001b[0m\n",
            "\u001b[0;32m/usr/local/lib/python3.7/dist-packages/torch/utils/data/dataloader.py\u001b[0m in \u001b[0;36m_next_data\u001b[0;34m(self)\u001b[0m\n\u001b[1;32m    560\u001b[0m         \u001b[0mindex\u001b[0m \u001b[0;34m=\u001b[0m \u001b[0mself\u001b[0m\u001b[0;34m.\u001b[0m\u001b[0m_next_index\u001b[0m\u001b[0;34m(\u001b[0m\u001b[0;34m)\u001b[0m  \u001b[0;31m# may raise StopIteration\u001b[0m\u001b[0;34m\u001b[0m\u001b[0;34m\u001b[0m\u001b[0m\n\u001b[0;32m--> 561\u001b[0;31m         \u001b[0mdata\u001b[0m \u001b[0;34m=\u001b[0m \u001b[0mself\u001b[0m\u001b[0;34m.\u001b[0m\u001b[0m_dataset_fetcher\u001b[0m\u001b[0;34m.\u001b[0m\u001b[0mfetch\u001b[0m\u001b[0;34m(\u001b[0m\u001b[0mindex\u001b[0m\u001b[0;34m)\u001b[0m  \u001b[0;31m# may raise StopIteration\u001b[0m\u001b[0;34m\u001b[0m\u001b[0;34m\u001b[0m\u001b[0m\n\u001b[0m\u001b[1;32m    562\u001b[0m         \u001b[0;32mif\u001b[0m \u001b[0mself\u001b[0m\u001b[0;34m.\u001b[0m\u001b[0m_pin_memory\u001b[0m\u001b[0;34m:\u001b[0m\u001b[0;34m\u001b[0m\u001b[0;34m\u001b[0m\u001b[0m\n",
            "\u001b[0;32m/usr/local/lib/python3.7/dist-packages/torch/utils/data/_utils/fetch.py\u001b[0m in \u001b[0;36mfetch\u001b[0;34m(self, possibly_batched_index)\u001b[0m\n\u001b[1;32m     48\u001b[0m         \u001b[0;32mif\u001b[0m \u001b[0mself\u001b[0m\u001b[0;34m.\u001b[0m\u001b[0mauto_collation\u001b[0m\u001b[0;34m:\u001b[0m\u001b[0;34m\u001b[0m\u001b[0;34m\u001b[0m\u001b[0m\n\u001b[0;32m---> 49\u001b[0;31m             \u001b[0mdata\u001b[0m \u001b[0;34m=\u001b[0m \u001b[0;34m[\u001b[0m\u001b[0mself\u001b[0m\u001b[0;34m.\u001b[0m\u001b[0mdataset\u001b[0m\u001b[0;34m[\u001b[0m\u001b[0midx\u001b[0m\u001b[0;34m]\u001b[0m \u001b[0;32mfor\u001b[0m \u001b[0midx\u001b[0m \u001b[0;32min\u001b[0m \u001b[0mpossibly_batched_index\u001b[0m\u001b[0;34m]\u001b[0m\u001b[0;34m\u001b[0m\u001b[0;34m\u001b[0m\u001b[0m\n\u001b[0m\u001b[1;32m     50\u001b[0m         \u001b[0;32melse\u001b[0m\u001b[0;34m:\u001b[0m\u001b[0;34m\u001b[0m\u001b[0;34m\u001b[0m\u001b[0m\n",
            "\u001b[0;32m/usr/local/lib/python3.7/dist-packages/torch/utils/data/_utils/fetch.py\u001b[0m in \u001b[0;36m<listcomp>\u001b[0;34m(.0)\u001b[0m\n\u001b[1;32m     48\u001b[0m         \u001b[0;32mif\u001b[0m \u001b[0mself\u001b[0m\u001b[0;34m.\u001b[0m\u001b[0mauto_collation\u001b[0m\u001b[0;34m:\u001b[0m\u001b[0;34m\u001b[0m\u001b[0;34m\u001b[0m\u001b[0m\n\u001b[0;32m---> 49\u001b[0;31m             \u001b[0mdata\u001b[0m \u001b[0;34m=\u001b[0m \u001b[0;34m[\u001b[0m\u001b[0mself\u001b[0m\u001b[0;34m.\u001b[0m\u001b[0mdataset\u001b[0m\u001b[0;34m[\u001b[0m\u001b[0midx\u001b[0m\u001b[0;34m]\u001b[0m \u001b[0;32mfor\u001b[0m \u001b[0midx\u001b[0m \u001b[0;32min\u001b[0m \u001b[0mpossibly_batched_index\u001b[0m\u001b[0;34m]\u001b[0m\u001b[0;34m\u001b[0m\u001b[0;34m\u001b[0m\u001b[0m\n\u001b[0m\u001b[1;32m     50\u001b[0m         \u001b[0;32melse\u001b[0m\u001b[0;34m:\u001b[0m\u001b[0;34m\u001b[0m\u001b[0;34m\u001b[0m\u001b[0m\n",
            "\u001b[0;32m<ipython-input-9-8e99fb44c6e5>\u001b[0m in \u001b[0;36m__getitem__\u001b[0;34m(self, idx)\u001b[0m\n\u001b[1;32m     22\u001b[0m       \u001b[0mimg_t_path\u001b[0m \u001b[0;34m=\u001b[0m \u001b[0mos\u001b[0m\u001b[0;34m.\u001b[0m\u001b[0mpath\u001b[0m\u001b[0;34m.\u001b[0m\u001b[0mjoin\u001b[0m\u001b[0;34m(\u001b[0m\u001b[0mself\u001b[0m\u001b[0;34m.\u001b[0m\u001b[0mimg_t_dir\u001b[0m\u001b[0;34m,\u001b[0m \u001b[0mfilename\u001b[0m\u001b[0;34m+\u001b[0m\u001b[0;34m'.png'\u001b[0m\u001b[0;34m)\u001b[0m\u001b[0;34m\u001b[0m\u001b[0;34m\u001b[0m\u001b[0m\n\u001b[0;32m---> 23\u001b[0;31m       \u001b[0mimage\u001b[0m \u001b[0;34m=\u001b[0m \u001b[0mread_image\u001b[0m\u001b[0;34m(\u001b[0m\u001b[0mimg_path\u001b[0m\u001b[0;34m)\u001b[0m\u001b[0;34m\u001b[0m\u001b[0;34m\u001b[0m\u001b[0m\n\u001b[0m\u001b[1;32m     24\u001b[0m       \u001b[0mimage_t\u001b[0m \u001b[0;34m=\u001b[0m \u001b[0mread_image\u001b[0m\u001b[0;34m(\u001b[0m\u001b[0mimg_t_path\u001b[0m\u001b[0;34m)\u001b[0m\u001b[0;34m\u001b[0m\u001b[0;34m\u001b[0m\u001b[0m\n",
            "\u001b[0;32m/usr/local/lib/python3.7/dist-packages/torchvision/io/image.py\u001b[0m in \u001b[0;36mread_image\u001b[0;34m(path, mode)\u001b[0m\n\u001b[1;32m    221\u001b[0m     \"\"\"\n\u001b[0;32m--> 222\u001b[0;31m     \u001b[0mdata\u001b[0m \u001b[0;34m=\u001b[0m \u001b[0mread_file\u001b[0m\u001b[0;34m(\u001b[0m\u001b[0mpath\u001b[0m\u001b[0;34m)\u001b[0m\u001b[0;34m\u001b[0m\u001b[0;34m\u001b[0m\u001b[0m\n\u001b[0m\u001b[1;32m    223\u001b[0m     \u001b[0;32mreturn\u001b[0m \u001b[0mdecode_image\u001b[0m\u001b[0;34m(\u001b[0m\u001b[0mdata\u001b[0m\u001b[0;34m,\u001b[0m \u001b[0mmode\u001b[0m\u001b[0;34m)\u001b[0m\u001b[0;34m\u001b[0m\u001b[0;34m\u001b[0m\u001b[0m\n",
            "\u001b[0;32m/usr/local/lib/python3.7/dist-packages/torchvision/io/image.py\u001b[0m in \u001b[0;36mread_file\u001b[0;34m(path)\u001b[0m\n\u001b[1;32m     41\u001b[0m     \"\"\"\n\u001b[0;32m---> 42\u001b[0;31m     \u001b[0mdata\u001b[0m \u001b[0;34m=\u001b[0m \u001b[0mtorch\u001b[0m\u001b[0;34m.\u001b[0m\u001b[0mops\u001b[0m\u001b[0;34m.\u001b[0m\u001b[0mimage\u001b[0m\u001b[0;34m.\u001b[0m\u001b[0mread_file\u001b[0m\u001b[0;34m(\u001b[0m\u001b[0mpath\u001b[0m\u001b[0;34m)\u001b[0m\u001b[0;34m\u001b[0m\u001b[0;34m\u001b[0m\u001b[0m\n\u001b[0m\u001b[1;32m     43\u001b[0m     \u001b[0;32mreturn\u001b[0m \u001b[0mdata\u001b[0m\u001b[0;34m\u001b[0m\u001b[0;34m\u001b[0m\u001b[0m\n",
            "\u001b[0;31mRuntimeError\u001b[0m: [Errno 125] Operation canceled: '/content/SMD_V3/SMD_V3_TESTER_ROT/input/original/87_6_sided_convex_polygon.png'",
            "\nDuring handling of the above exception, another exception occurred:\n",
            "\u001b[0;31mKeyboardInterrupt\u001b[0m                         Traceback (most recent call last)",
            "\u001b[0;32m<ipython-input-29-318979ab0a0f>\u001b[0m in \u001b[0;36m<module>\u001b[0;34m()\u001b[0m\n\u001b[0;32m----> 1\u001b[0;31m \u001b[0mloss\u001b[0m\u001b[0;34m,\u001b[0m \u001b[0minfertime\u001b[0m \u001b[0;34m=\u001b[0m \u001b[0mtestModel\u001b[0m\u001b[0;34m(\u001b[0m\u001b[0mtestloader_rot\u001b[0m\u001b[0;34m)\u001b[0m\u001b[0;34m\u001b[0m\u001b[0;34m\u001b[0m\u001b[0m\n\u001b[0m\u001b[1;32m      2\u001b[0m \u001b[0mprint\u001b[0m\u001b[0;34m(\u001b[0m\u001b[0;34mf'Average Rot Test loss = {loss}'\u001b[0m\u001b[0;34m)\u001b[0m\u001b[0;34m\u001b[0m\u001b[0;34m\u001b[0m\u001b[0m\n\u001b[1;32m      3\u001b[0m \u001b[0mprint\u001b[0m\u001b[0;34m(\u001b[0m\u001b[0;34mf'Average Infer time = {infertime}'\u001b[0m\u001b[0;34m)\u001b[0m\u001b[0;34m\u001b[0m\u001b[0;34m\u001b[0m\u001b[0m\n",
            "\u001b[0;32m<ipython-input-28-9591d19a0213>\u001b[0m in \u001b[0;36mtestModel\u001b[0;34m(dataloader)\u001b[0m\n\u001b[1;32m      4\u001b[0m   \u001b[0mcriterion\u001b[0m \u001b[0;34m=\u001b[0m \u001b[0mtorch\u001b[0m\u001b[0;34m.\u001b[0m\u001b[0mnn\u001b[0m\u001b[0;34m.\u001b[0m\u001b[0mL1Loss\u001b[0m\u001b[0;34m(\u001b[0m\u001b[0mreduction\u001b[0m\u001b[0;34m=\u001b[0m\u001b[0;34m'sum'\u001b[0m\u001b[0;34m)\u001b[0m\u001b[0;34m.\u001b[0m\u001b[0mto\u001b[0m\u001b[0;34m(\u001b[0m\u001b[0mcuda0\u001b[0m\u001b[0;34m)\u001b[0m\u001b[0;34m\u001b[0m\u001b[0;34m\u001b[0m\u001b[0m\n\u001b[1;32m      5\u001b[0m \u001b[0;34m\u001b[0m\u001b[0m\n\u001b[0;32m----> 6\u001b[0;31m   \u001b[0;32mfor\u001b[0m \u001b[0mi\u001b[0m\u001b[0;34m,\u001b[0m \u001b[0mdata\u001b[0m \u001b[0;32min\u001b[0m \u001b[0menumerate\u001b[0m\u001b[0;34m(\u001b[0m\u001b[0mdataloader\u001b[0m\u001b[0;34m)\u001b[0m\u001b[0;34m:\u001b[0m\u001b[0;34m\u001b[0m\u001b[0;34m\u001b[0m\u001b[0m\n\u001b[0m\u001b[1;32m      7\u001b[0m \u001b[0;34m\u001b[0m\u001b[0m\n\u001b[1;32m      8\u001b[0m       \u001b[0mbatch_imgs\u001b[0m\u001b[0;34m,\u001b[0m \u001b[0mbatch_imgs_t\u001b[0m\u001b[0;34m,\u001b[0m \u001b[0mlabels\u001b[0m \u001b[0;34m=\u001b[0m \u001b[0mdata\u001b[0m\u001b[0;34m\u001b[0m\u001b[0;34m\u001b[0m\u001b[0m\n",
            "\u001b[0;32m/usr/local/lib/python3.7/dist-packages/torch/utils/data/dataloader.py\u001b[0m in \u001b[0;36m__next__\u001b[0;34m(self)\u001b[0m\n\u001b[1;32m    519\u001b[0m             \u001b[0;32mif\u001b[0m \u001b[0mself\u001b[0m\u001b[0;34m.\u001b[0m\u001b[0m_sampler_iter\u001b[0m \u001b[0;32mis\u001b[0m \u001b[0;32mNone\u001b[0m\u001b[0;34m:\u001b[0m\u001b[0;34m\u001b[0m\u001b[0;34m\u001b[0m\u001b[0m\n\u001b[1;32m    520\u001b[0m                 \u001b[0mself\u001b[0m\u001b[0;34m.\u001b[0m\u001b[0m_reset\u001b[0m\u001b[0;34m(\u001b[0m\u001b[0;34m)\u001b[0m\u001b[0;34m\u001b[0m\u001b[0;34m\u001b[0m\u001b[0m\n\u001b[0;32m--> 521\u001b[0;31m             \u001b[0mdata\u001b[0m \u001b[0;34m=\u001b[0m \u001b[0mself\u001b[0m\u001b[0;34m.\u001b[0m\u001b[0m_next_data\u001b[0m\u001b[0;34m(\u001b[0m\u001b[0;34m)\u001b[0m\u001b[0;34m\u001b[0m\u001b[0;34m\u001b[0m\u001b[0m\n\u001b[0m\u001b[1;32m    522\u001b[0m             \u001b[0mself\u001b[0m\u001b[0;34m.\u001b[0m\u001b[0m_num_yielded\u001b[0m \u001b[0;34m+=\u001b[0m \u001b[0;36m1\u001b[0m\u001b[0;34m\u001b[0m\u001b[0;34m\u001b[0m\u001b[0m\n\u001b[1;32m    523\u001b[0m             \u001b[0;32mif\u001b[0m \u001b[0mself\u001b[0m\u001b[0;34m.\u001b[0m\u001b[0m_dataset_kind\u001b[0m \u001b[0;34m==\u001b[0m \u001b[0m_DatasetKind\u001b[0m\u001b[0;34m.\u001b[0m\u001b[0mIterable\u001b[0m \u001b[0;32mand\u001b[0m\u001b[0;31m \u001b[0m\u001b[0;31m\\\u001b[0m\u001b[0;34m\u001b[0m\u001b[0;34m\u001b[0m\u001b[0m\n",
            "\u001b[0;31mKeyboardInterrupt\u001b[0m: "
          ]
        }
      ]
    },
    {
      "cell_type": "markdown",
      "metadata": {
        "id": "99AF5bto1aRl"
      },
      "source": [
        "## Scaling only"
      ]
    },
    {
      "cell_type": "code",
      "metadata": {
        "colab": {
          "base_uri": "https://localhost:8080/"
        },
        "id": "katSg91s1MZh",
        "outputId": "038b915a-e63e-4ce5-95f3-acf11dbaf63f"
      },
      "source": [
        "  loss, infertime = testModel(testloader_scal)\n",
        "  print(f'Average scaling test loss = {loss}')\n",
        "  print(f'Average Infer time = {infertime}')"
      ],
      "execution_count": null,
      "outputs": [
        {
          "output_type": "stream",
          "name": "stdout",
          "text": [
            "Average Test loss = 3.6791887220583464\n",
            "Average Infer time = 0.0009767726847999974\n",
            "----------------------------------------\n",
            "Average Test loss = 3.510168873346769\n",
            "Average Infer time = 0.0007412617023174579\n",
            "----------------------------------------\n"
          ]
        }
      ]
    },
    {
      "cell_type": "markdown",
      "metadata": {
        "id": "ySBTsf4540Xd"
      },
      "source": [
        "## Translation only"
      ]
    },
    {
      "cell_type": "code",
      "metadata": {
        "colab": {
          "base_uri": "https://localhost:8080/",
          "height": 583
        },
        "id": "Rtf5UlvU4zLE",
        "outputId": "dcaf5a8c-f898-4836-a43a-c320a6e11e42"
      },
      "source": [
        "loss, infertime = testModel(testloader_trans)\n",
        "print(f'Average translation test loss = {loss}')\n",
        "print(f'Average Infer time = {infertime}')"
      ],
      "execution_count": 18,
      "outputs": [
        {
          "output_type": "stream",
          "name": "stdout",
          "text": [
            "Average Test loss = 7.077142539777253\n",
            "Average Infer time = 0.0010463689502916839\n",
            "----------------------------------------\n",
            "Average Test loss = 7.30209538875482\n",
            "Average Infer time = 0.0007771513400933681\n",
            "----------------------------------------\n"
          ]
        },
        {
          "output_type": "error",
          "ename": "KeyboardInterrupt",
          "evalue": "ignored",
          "traceback": [
            "\u001b[0;31m---------------------------------------------------------------------------\u001b[0m",
            "\u001b[0;31mOSError\u001b[0m                                   Traceback (most recent call last)",
            "\u001b[0;32m/usr/local/lib/python3.7/dist-packages/numpy/lib/npyio.py\u001b[0m in \u001b[0;36mload\u001b[0;34m(file, mmap_mode, allow_pickle, fix_imports, encoding)\u001b[0m\n\u001b[1;32m    422\u001b[0m         \u001b[0mN\u001b[0m \u001b[0;34m=\u001b[0m \u001b[0mlen\u001b[0m\u001b[0;34m(\u001b[0m\u001b[0mformat\u001b[0m\u001b[0;34m.\u001b[0m\u001b[0mMAGIC_PREFIX\u001b[0m\u001b[0;34m)\u001b[0m\u001b[0;34m\u001b[0m\u001b[0;34m\u001b[0m\u001b[0m\n\u001b[0;32m--> 423\u001b[0;31m         \u001b[0mmagic\u001b[0m \u001b[0;34m=\u001b[0m \u001b[0mfid\u001b[0m\u001b[0;34m.\u001b[0m\u001b[0mread\u001b[0m\u001b[0;34m(\u001b[0m\u001b[0mN\u001b[0m\u001b[0;34m)\u001b[0m\u001b[0;34m\u001b[0m\u001b[0;34m\u001b[0m\u001b[0m\n\u001b[0m\u001b[1;32m    424\u001b[0m         \u001b[0;31m# If the file size is less than N, we need to make sure not\u001b[0m\u001b[0;34m\u001b[0m\u001b[0;34m\u001b[0m\u001b[0;34m\u001b[0m\u001b[0m\n",
            "\u001b[0;31mOSError\u001b[0m: [Errno 125] Operation canceled",
            "\nDuring handling of the above exception, another exception occurred:\n",
            "\u001b[0;31mKeyboardInterrupt\u001b[0m                         Traceback (most recent call last)",
            "\u001b[0;32m<ipython-input-18-0cac72d3cdd8>\u001b[0m in \u001b[0;36m<module>\u001b[0;34m()\u001b[0m\n\u001b[0;32m----> 1\u001b[0;31m \u001b[0mloss\u001b[0m\u001b[0;34m,\u001b[0m \u001b[0minfertime\u001b[0m \u001b[0;34m=\u001b[0m \u001b[0mtestModel\u001b[0m\u001b[0;34m(\u001b[0m\u001b[0mtestloader_trans\u001b[0m\u001b[0;34m)\u001b[0m\u001b[0;34m\u001b[0m\u001b[0;34m\u001b[0m\u001b[0m\n\u001b[0m\u001b[1;32m      2\u001b[0m \u001b[0mprint\u001b[0m\u001b[0;34m(\u001b[0m\u001b[0;34mf'Average translation test loss = {loss}'\u001b[0m\u001b[0;34m)\u001b[0m\u001b[0;34m\u001b[0m\u001b[0;34m\u001b[0m\u001b[0m\n\u001b[1;32m      3\u001b[0m \u001b[0mprint\u001b[0m\u001b[0;34m(\u001b[0m\u001b[0;34mf'Average Infer time = {infertime}'\u001b[0m\u001b[0;34m)\u001b[0m\u001b[0;34m\u001b[0m\u001b[0;34m\u001b[0m\u001b[0m\n",
            "\u001b[0;32m<ipython-input-15-9591d19a0213>\u001b[0m in \u001b[0;36mtestModel\u001b[0;34m(dataloader)\u001b[0m\n\u001b[1;32m      4\u001b[0m   \u001b[0mcriterion\u001b[0m \u001b[0;34m=\u001b[0m \u001b[0mtorch\u001b[0m\u001b[0;34m.\u001b[0m\u001b[0mnn\u001b[0m\u001b[0;34m.\u001b[0m\u001b[0mL1Loss\u001b[0m\u001b[0;34m(\u001b[0m\u001b[0mreduction\u001b[0m\u001b[0;34m=\u001b[0m\u001b[0;34m'sum'\u001b[0m\u001b[0;34m)\u001b[0m\u001b[0;34m.\u001b[0m\u001b[0mto\u001b[0m\u001b[0;34m(\u001b[0m\u001b[0mcuda0\u001b[0m\u001b[0;34m)\u001b[0m\u001b[0;34m\u001b[0m\u001b[0;34m\u001b[0m\u001b[0m\n\u001b[1;32m      5\u001b[0m \u001b[0;34m\u001b[0m\u001b[0m\n\u001b[0;32m----> 6\u001b[0;31m   \u001b[0;32mfor\u001b[0m \u001b[0mi\u001b[0m\u001b[0;34m,\u001b[0m \u001b[0mdata\u001b[0m \u001b[0;32min\u001b[0m \u001b[0menumerate\u001b[0m\u001b[0;34m(\u001b[0m\u001b[0mdataloader\u001b[0m\u001b[0;34m)\u001b[0m\u001b[0;34m:\u001b[0m\u001b[0;34m\u001b[0m\u001b[0;34m\u001b[0m\u001b[0m\n\u001b[0m\u001b[1;32m      7\u001b[0m \u001b[0;34m\u001b[0m\u001b[0m\n\u001b[1;32m      8\u001b[0m       \u001b[0mbatch_imgs\u001b[0m\u001b[0;34m,\u001b[0m \u001b[0mbatch_imgs_t\u001b[0m\u001b[0;34m,\u001b[0m \u001b[0mlabels\u001b[0m \u001b[0;34m=\u001b[0m \u001b[0mdata\u001b[0m\u001b[0;34m\u001b[0m\u001b[0;34m\u001b[0m\u001b[0m\n",
            "\u001b[0;32m/usr/local/lib/python3.7/dist-packages/torch/utils/data/dataloader.py\u001b[0m in \u001b[0;36m__next__\u001b[0;34m(self)\u001b[0m\n\u001b[1;32m    519\u001b[0m             \u001b[0;32mif\u001b[0m \u001b[0mself\u001b[0m\u001b[0;34m.\u001b[0m\u001b[0m_sampler_iter\u001b[0m \u001b[0;32mis\u001b[0m \u001b[0;32mNone\u001b[0m\u001b[0;34m:\u001b[0m\u001b[0;34m\u001b[0m\u001b[0;34m\u001b[0m\u001b[0m\n\u001b[1;32m    520\u001b[0m                 \u001b[0mself\u001b[0m\u001b[0;34m.\u001b[0m\u001b[0m_reset\u001b[0m\u001b[0;34m(\u001b[0m\u001b[0;34m)\u001b[0m\u001b[0;34m\u001b[0m\u001b[0;34m\u001b[0m\u001b[0m\n\u001b[0;32m--> 521\u001b[0;31m             \u001b[0mdata\u001b[0m \u001b[0;34m=\u001b[0m \u001b[0mself\u001b[0m\u001b[0;34m.\u001b[0m\u001b[0m_next_data\u001b[0m\u001b[0;34m(\u001b[0m\u001b[0;34m)\u001b[0m\u001b[0;34m\u001b[0m\u001b[0;34m\u001b[0m\u001b[0m\n\u001b[0m\u001b[1;32m    522\u001b[0m             \u001b[0mself\u001b[0m\u001b[0;34m.\u001b[0m\u001b[0m_num_yielded\u001b[0m \u001b[0;34m+=\u001b[0m \u001b[0;36m1\u001b[0m\u001b[0;34m\u001b[0m\u001b[0;34m\u001b[0m\u001b[0m\n\u001b[1;32m    523\u001b[0m             \u001b[0;32mif\u001b[0m \u001b[0mself\u001b[0m\u001b[0;34m.\u001b[0m\u001b[0m_dataset_kind\u001b[0m \u001b[0;34m==\u001b[0m \u001b[0m_DatasetKind\u001b[0m\u001b[0;34m.\u001b[0m\u001b[0mIterable\u001b[0m \u001b[0;32mand\u001b[0m\u001b[0;31m \u001b[0m\u001b[0;31m\\\u001b[0m\u001b[0;34m\u001b[0m\u001b[0;34m\u001b[0m\u001b[0m\n",
            "\u001b[0;32m/usr/local/lib/python3.7/dist-packages/torch/utils/data/dataloader.py\u001b[0m in \u001b[0;36m_next_data\u001b[0;34m(self)\u001b[0m\n\u001b[1;32m    559\u001b[0m     \u001b[0;32mdef\u001b[0m \u001b[0m_next_data\u001b[0m\u001b[0;34m(\u001b[0m\u001b[0mself\u001b[0m\u001b[0;34m)\u001b[0m\u001b[0;34m:\u001b[0m\u001b[0;34m\u001b[0m\u001b[0;34m\u001b[0m\u001b[0m\n\u001b[1;32m    560\u001b[0m         \u001b[0mindex\u001b[0m \u001b[0;34m=\u001b[0m \u001b[0mself\u001b[0m\u001b[0;34m.\u001b[0m\u001b[0m_next_index\u001b[0m\u001b[0;34m(\u001b[0m\u001b[0;34m)\u001b[0m  \u001b[0;31m# may raise StopIteration\u001b[0m\u001b[0;34m\u001b[0m\u001b[0;34m\u001b[0m\u001b[0m\n\u001b[0;32m--> 561\u001b[0;31m         \u001b[0mdata\u001b[0m \u001b[0;34m=\u001b[0m \u001b[0mself\u001b[0m\u001b[0;34m.\u001b[0m\u001b[0m_dataset_fetcher\u001b[0m\u001b[0;34m.\u001b[0m\u001b[0mfetch\u001b[0m\u001b[0;34m(\u001b[0m\u001b[0mindex\u001b[0m\u001b[0;34m)\u001b[0m  \u001b[0;31m# may raise StopIteration\u001b[0m\u001b[0;34m\u001b[0m\u001b[0;34m\u001b[0m\u001b[0m\n\u001b[0m\u001b[1;32m    562\u001b[0m         \u001b[0;32mif\u001b[0m \u001b[0mself\u001b[0m\u001b[0;34m.\u001b[0m\u001b[0m_pin_memory\u001b[0m\u001b[0;34m:\u001b[0m\u001b[0;34m\u001b[0m\u001b[0;34m\u001b[0m\u001b[0m\n\u001b[1;32m    563\u001b[0m             \u001b[0mdata\u001b[0m \u001b[0;34m=\u001b[0m \u001b[0m_utils\u001b[0m\u001b[0;34m.\u001b[0m\u001b[0mpin_memory\u001b[0m\u001b[0;34m.\u001b[0m\u001b[0mpin_memory\u001b[0m\u001b[0;34m(\u001b[0m\u001b[0mdata\u001b[0m\u001b[0;34m)\u001b[0m\u001b[0;34m\u001b[0m\u001b[0;34m\u001b[0m\u001b[0m\n",
            "\u001b[0;32m/usr/local/lib/python3.7/dist-packages/torch/utils/data/_utils/fetch.py\u001b[0m in \u001b[0;36mfetch\u001b[0;34m(self, possibly_batched_index)\u001b[0m\n\u001b[1;32m     47\u001b[0m     \u001b[0;32mdef\u001b[0m \u001b[0mfetch\u001b[0m\u001b[0;34m(\u001b[0m\u001b[0mself\u001b[0m\u001b[0;34m,\u001b[0m \u001b[0mpossibly_batched_index\u001b[0m\u001b[0;34m)\u001b[0m\u001b[0;34m:\u001b[0m\u001b[0;34m\u001b[0m\u001b[0;34m\u001b[0m\u001b[0m\n\u001b[1;32m     48\u001b[0m         \u001b[0;32mif\u001b[0m \u001b[0mself\u001b[0m\u001b[0;34m.\u001b[0m\u001b[0mauto_collation\u001b[0m\u001b[0;34m:\u001b[0m\u001b[0;34m\u001b[0m\u001b[0;34m\u001b[0m\u001b[0m\n\u001b[0;32m---> 49\u001b[0;31m             \u001b[0mdata\u001b[0m \u001b[0;34m=\u001b[0m \u001b[0;34m[\u001b[0m\u001b[0mself\u001b[0m\u001b[0;34m.\u001b[0m\u001b[0mdataset\u001b[0m\u001b[0;34m[\u001b[0m\u001b[0midx\u001b[0m\u001b[0;34m]\u001b[0m \u001b[0;32mfor\u001b[0m \u001b[0midx\u001b[0m \u001b[0;32min\u001b[0m \u001b[0mpossibly_batched_index\u001b[0m\u001b[0;34m]\u001b[0m\u001b[0;34m\u001b[0m\u001b[0;34m\u001b[0m\u001b[0m\n\u001b[0m\u001b[1;32m     50\u001b[0m         \u001b[0;32melse\u001b[0m\u001b[0;34m:\u001b[0m\u001b[0;34m\u001b[0m\u001b[0;34m\u001b[0m\u001b[0m\n\u001b[1;32m     51\u001b[0m             \u001b[0mdata\u001b[0m \u001b[0;34m=\u001b[0m \u001b[0mself\u001b[0m\u001b[0;34m.\u001b[0m\u001b[0mdataset\u001b[0m\u001b[0;34m[\u001b[0m\u001b[0mpossibly_batched_index\u001b[0m\u001b[0;34m]\u001b[0m\u001b[0;34m\u001b[0m\u001b[0;34m\u001b[0m\u001b[0m\n",
            "\u001b[0;32m/usr/local/lib/python3.7/dist-packages/torch/utils/data/_utils/fetch.py\u001b[0m in \u001b[0;36m<listcomp>\u001b[0;34m(.0)\u001b[0m\n\u001b[1;32m     47\u001b[0m     \u001b[0;32mdef\u001b[0m \u001b[0mfetch\u001b[0m\u001b[0;34m(\u001b[0m\u001b[0mself\u001b[0m\u001b[0;34m,\u001b[0m \u001b[0mpossibly_batched_index\u001b[0m\u001b[0;34m)\u001b[0m\u001b[0;34m:\u001b[0m\u001b[0;34m\u001b[0m\u001b[0;34m\u001b[0m\u001b[0m\n\u001b[1;32m     48\u001b[0m         \u001b[0;32mif\u001b[0m \u001b[0mself\u001b[0m\u001b[0;34m.\u001b[0m\u001b[0mauto_collation\u001b[0m\u001b[0;34m:\u001b[0m\u001b[0;34m\u001b[0m\u001b[0;34m\u001b[0m\u001b[0m\n\u001b[0;32m---> 49\u001b[0;31m             \u001b[0mdata\u001b[0m \u001b[0;34m=\u001b[0m \u001b[0;34m[\u001b[0m\u001b[0mself\u001b[0m\u001b[0;34m.\u001b[0m\u001b[0mdataset\u001b[0m\u001b[0;34m[\u001b[0m\u001b[0midx\u001b[0m\u001b[0;34m]\u001b[0m \u001b[0;32mfor\u001b[0m \u001b[0midx\u001b[0m \u001b[0;32min\u001b[0m \u001b[0mpossibly_batched_index\u001b[0m\u001b[0;34m]\u001b[0m\u001b[0;34m\u001b[0m\u001b[0;34m\u001b[0m\u001b[0m\n\u001b[0m\u001b[1;32m     50\u001b[0m         \u001b[0;32melse\u001b[0m\u001b[0;34m:\u001b[0m\u001b[0;34m\u001b[0m\u001b[0;34m\u001b[0m\u001b[0m\n\u001b[1;32m     51\u001b[0m             \u001b[0mdata\u001b[0m \u001b[0;34m=\u001b[0m \u001b[0mself\u001b[0m\u001b[0;34m.\u001b[0m\u001b[0mdataset\u001b[0m\u001b[0;34m[\u001b[0m\u001b[0mpossibly_batched_index\u001b[0m\u001b[0;34m]\u001b[0m\u001b[0;34m\u001b[0m\u001b[0;34m\u001b[0m\u001b[0m\n",
            "\u001b[0;32m<ipython-input-10-8e99fb44c6e5>\u001b[0m in \u001b[0;36m__getitem__\u001b[0;34m(self, idx)\u001b[0m\n\u001b[1;32m     37\u001b[0m       \u001b[0;31m# labelname = label_segments[0]+'_'+label_segments[1]+'_'+label_segments[2]+'_'+label_segments[3]\u001b[0m\u001b[0;34m\u001b[0m\u001b[0;34m\u001b[0m\u001b[0;34m\u001b[0m\u001b[0m\n\u001b[1;32m     38\u001b[0m       \u001b[0mlabel_path\u001b[0m \u001b[0;34m=\u001b[0m \u001b[0mos\u001b[0m\u001b[0;34m.\u001b[0m\u001b[0mpath\u001b[0m\u001b[0;34m.\u001b[0m\u001b[0mjoin\u001b[0m\u001b[0;34m(\u001b[0m\u001b[0mself\u001b[0m\u001b[0;34m.\u001b[0m\u001b[0mannotations_dir\u001b[0m\u001b[0;34m,\u001b[0m \u001b[0mlabelname\u001b[0m\u001b[0;34m+\u001b[0m\u001b[0;34m'.npy'\u001b[0m\u001b[0;34m)\u001b[0m\u001b[0;34m\u001b[0m\u001b[0;34m\u001b[0m\u001b[0m\n\u001b[0;32m---> 39\u001b[0;31m       \u001b[0mlabel\u001b[0m \u001b[0;34m=\u001b[0m \u001b[0mnp\u001b[0m\u001b[0;34m.\u001b[0m\u001b[0mload\u001b[0m\u001b[0;34m(\u001b[0m\u001b[0mlabel_path\u001b[0m\u001b[0;34m)\u001b[0m\u001b[0;34m\u001b[0m\u001b[0;34m\u001b[0m\u001b[0m\n\u001b[0m\u001b[1;32m     40\u001b[0m       \u001b[0;32mif\u001b[0m \u001b[0mself\u001b[0m\u001b[0;34m.\u001b[0m\u001b[0mnorm_out\u001b[0m\u001b[0;34m:\u001b[0m\u001b[0;34m\u001b[0m\u001b[0;34m\u001b[0m\u001b[0m\n\u001b[1;32m     41\u001b[0m         \u001b[0;31m#Normalize label\u001b[0m\u001b[0;34m\u001b[0m\u001b[0;34m\u001b[0m\u001b[0;34m\u001b[0m\u001b[0m\n",
            "\u001b[0;32m/usr/local/lib/python3.7/dist-packages/numpy/lib/npyio.py\u001b[0m in \u001b[0;36mload\u001b[0;34m(file, mmap_mode, allow_pickle, fix_imports, encoding)\u001b[0m\n\u001b[1;32m    421\u001b[0m         \u001b[0m_ZIP_SUFFIX\u001b[0m \u001b[0;34m=\u001b[0m \u001b[0;34mb'PK\\x05\\x06'\u001b[0m \u001b[0;31m# empty zip files start with this\u001b[0m\u001b[0;34m\u001b[0m\u001b[0;34m\u001b[0m\u001b[0m\n\u001b[1;32m    422\u001b[0m         \u001b[0mN\u001b[0m \u001b[0;34m=\u001b[0m \u001b[0mlen\u001b[0m\u001b[0;34m(\u001b[0m\u001b[0mformat\u001b[0m\u001b[0;34m.\u001b[0m\u001b[0mMAGIC_PREFIX\u001b[0m\u001b[0;34m)\u001b[0m\u001b[0;34m\u001b[0m\u001b[0;34m\u001b[0m\u001b[0m\n\u001b[0;32m--> 423\u001b[0;31m         \u001b[0mmagic\u001b[0m \u001b[0;34m=\u001b[0m \u001b[0mfid\u001b[0m\u001b[0;34m.\u001b[0m\u001b[0mread\u001b[0m\u001b[0;34m(\u001b[0m\u001b[0mN\u001b[0m\u001b[0;34m)\u001b[0m\u001b[0;34m\u001b[0m\u001b[0;34m\u001b[0m\u001b[0m\n\u001b[0m\u001b[1;32m    424\u001b[0m         \u001b[0;31m# If the file size is less than N, we need to make sure not\u001b[0m\u001b[0;34m\u001b[0m\u001b[0;34m\u001b[0m\u001b[0;34m\u001b[0m\u001b[0m\n\u001b[1;32m    425\u001b[0m         \u001b[0;31m# to seek past the beginning of the file\u001b[0m\u001b[0;34m\u001b[0m\u001b[0;34m\u001b[0m\u001b[0;34m\u001b[0m\u001b[0m\n",
            "\u001b[0;31mKeyboardInterrupt\u001b[0m: "
          ]
        }
      ]
    },
    {
      "cell_type": "markdown",
      "metadata": {
        "id": "WYtuJQOiC7t2"
      },
      "source": [
        "## Pred Vs. True"
      ]
    },
    {
      "cell_type": "code",
      "metadata": {
        "colab": {
          "base_uri": "https://localhost:8080/",
          "height": 528
        },
        "id": "fQxBknpg533J",
        "outputId": "c467735b-2ad9-4c29-bcd2-495a43a484d7"
      },
      "source": [
        "# def unnormalize(x):\n",
        "#   return (x*(2*256.0) - 256.0)\n",
        "\n",
        "def unnormalize(x, x1 = -10.0, y1 = -256.0, x2 = 10.0, y2 = 256.0):\n",
        "  return y1+((y2-y1)/(x2-x1))*(x-x1)\n",
        "\n",
        "dataiter = iter(testloader)\n",
        "images, images_t,  labels = dataiter.next()\n",
        "\n",
        "plotGrayScale(torchvision.utils.make_grid(images), \"Originals\")\n",
        "plt.show()\n",
        "plotGrayScale(torchvision.utils.make_grid(images_t), \"Transformed\")\n",
        "plt.show()\n",
        "print(f'Transform parameters (COMB)')\n",
        "\n",
        "images = images.to(device=cuda0, dtype=torch.float) #Convert to torch cuda float\n",
        "images_t = images_t.to(device=cuda0, dtype=torch.float)\n",
        "# labels = labels.to(device=cuda0, dtype=torch.float)\n",
        "#Inference\n",
        "outputs = net(images, images_t)\n",
        "\n",
        "#Unnormalize\n",
        "outputs = unnormalize(outputs)\n",
        "labels = unnormalize(labels)\n",
        "\n",
        "labels = labels.to(device=cuda0, dtype=torch.float)\n",
        "criterion = torch.nn.L1Loss(reduction='sum').to(cuda0)\n",
        "print(f'Loss = {criterion(outputs, labels)}')\n",
        "\n",
        "for label, output in zip (labels, outputs):\n",
        "  print(f'True = {label}')\n",
        "  print(f'Pred = {output}')\n"
      ],
      "execution_count": 60,
      "outputs": [
        {
          "output_type": "display_data",
          "data": {
            "image/png": "[encoded data removed]",
            "text/plain": [
              "<Figure size 432x288 with 1 Axes>"
            ]
          },
          "metadata": {
            "needs_background": "light"
          }
        },
        {
          "output_type": "display_data",
          "data": {
            "image/png": "[encoded data removed]",
            "text/plain": [
              "<Figure size 432x288 with 1 Axes>"
            ]
          },
          "metadata": {
            "needs_background": "light"
          }
        },
        {
          "output_type": "stream",
          "name": "stdout",
          "text": [
            "Transform parameters (COMB)\n",
            "Loss = 219.666748046875\n",
            "True = tensor([ -8.6213, -19.5570, -17.3438,   1.5287,   1.5287], device='cuda:0')\n",
            "Pred = tensor([-23.2999, -31.2451,  -9.9829,   0.9668,   1.1246], device='cuda:0',\n",
            "       grad_fn=<UnbindBackward0>)\n",
            "True = tensor([-47.7991, 116.0339,  43.8518,   0.7114,   0.7114], device='cuda:0')\n",
            "Pred = tensor([-32.6467, 113.6403,  11.1930,   0.8107,   0.6217], device='cuda:0',\n",
            "       grad_fn=<UnbindBackward0>)\n",
            "True = tensor([127.2337,  85.2221, -26.4265,   0.8993,   0.8993], device='cuda:0')\n",
            "Pred = tensor([ 91.3105, 106.6569,   4.6732,   1.5803,   2.1639], device='cuda:0',\n",
            "       grad_fn=<UnbindBackward0>)\n",
            "True = tensor([-54.6476,  25.1280, -19.0928,   1.7952,   1.7952], device='cuda:0')\n",
            "Pred = tensor([-54.1240,   4.4315,   2.7099,   1.3423,   1.0949], device='cuda:0',\n",
            "       grad_fn=<UnbindBackward0>)\n"
          ]
        }
      ]
    },
    {
      "cell_type": "code",
      "metadata": {
        "colab": {
          "base_uri": "https://localhost:8080/",
          "height": 528
        },
        "id": "OlYsAR_REGTc",
        "outputId": "5a4e5e72-7a29-4c0d-b874-d5a11b958804"
      },
      "source": [
        "# def unnormalize(x):\n",
        "#   return (x*(2*256.0) - 256.0)\n",
        "\n",
        "def unnormalize(x, x1 = -10.0, y1 = -256.0, x2 = 10.0, y2 = 256.0):\n",
        "  return y1+((y2-y1)/(x2-x1))*(x-x1)\n",
        "\n",
        "dataiter = iter(testloader)\n",
        "images, images_t,  labels = dataiter.next()\n",
        "\n",
        "plotGrayScale(torchvision.utils.make_grid(images), \"Originals\")\n",
        "plt.show()\n",
        "plotGrayScale(torchvision.utils.make_grid(images_t), \"Transformed\")\n",
        "plt.show()\n",
        "print(f'Transform parameters (COMB)')\n",
        "\n",
        "images = images.to(device=cuda0, dtype=torch.float) #Convert to torch cuda float\n",
        "images_t = images_t.to(device=cuda0, dtype=torch.float)\n",
        "# labels = labels.to(device=cuda0, dtype=torch.float)\n",
        "#Inference\n",
        "outputs = net(images, images_t)\n",
        "\n",
        "#Unnormalize\n",
        "outputs = unnormalize(outputs)\n",
        "labels = unnormalize(labels)\n",
        "\n",
        "labels = labels.to(device=cuda0, dtype=torch.float)\n",
        "criterion = torch.nn.L1Loss(reduction='sum').to(cuda0)\n",
        "print(f'Loss = {criterion(outputs, labels)}')\n",
        "\n",
        "for label, output in zip (labels, outputs):\n",
        "  print(f'True = {label}')\n",
        "  print(f'Pred = {output}')"
      ],
      "execution_count": 21,
      "outputs": [
        {
          "output_type": "display_data",
          "data": {
            "image/png": "[encoded data removed]",
            "text/plain": [
              "<Figure size 432x288 with 1 Axes>"
            ]
          },
          "metadata": {
            "needs_background": "light"
          }
        },
        {
          "output_type": "display_data",
          "data": {
            "image/png": "[encoded data removed]",
            "text/plain": [
              "<Figure size 432x288 with 1 Axes>"
            ]
          },
          "metadata": {
            "needs_background": "light"
          }
        },
        {
          "output_type": "stream",
          "name": "stdout",
          "text": [
            "Transform parameters (COMB)\n",
            "Loss = 233.12258911132812\n",
            "True = tensor([-16.1131,  -6.8840,   4.4153,   1.3139,   1.3139], device='cuda:0')\n",
            "Pred = tensor([-11.3854,  45.5279,   8.7282,   1.3303,   0.8763], device='cuda:0',\n",
            "       grad_fn=<UnbindBackward0>)\n",
            "True = tensor([-35.7398,  41.9610,  17.8294,   0.5960,   0.5960], device='cuda:0')\n",
            "Pred = tensor([-21.1481,  40.5418,   1.1711,   1.0123,   0.9307], device='cuda:0',\n",
            "       grad_fn=<UnbindBackward0>)\n",
            "True = tensor([118.7991, -86.5326,  36.5279,   1.6464,   1.6464], device='cuda:0')\n",
            "Pred = tensor([ 102.6894, -148.9716,   17.1516,    1.8988,    0.4898],\n",
            "       device='cuda:0', grad_fn=<UnbindBackward0>)\n",
            "True = tensor([ 50.9297, -35.2209, -33.6083,   0.8135,   0.8135], device='cuda:0')\n",
            "Pred = tensor([ 49.3335, -31.5686,  -0.9882,   1.1293,   1.0909], device='cuda:0',\n",
            "       grad_fn=<UnbindBackward0>)\n"
          ]
        }
      ]
    },
    {
      "cell_type": "code",
      "metadata": {
        "colab": {
          "base_uri": "https://localhost:8080/",
          "height": 545
        },
        "id": "HQ_C7lxJEeLt",
        "outputId": "e9bea114-4641-4cc5-b5fe-63fa8783c559"
      },
      "source": [
        "# def unnormalize(x):\n",
        "#   return (x*(2*256.0) - 256.0)\n",
        "\n",
        "def unnormalize(x, x1 = -10.0, y1 = -256.0, x2 = 10.0, y2 = 256.0):\n",
        "  return y1+((y2-y1)/(x2-x1))*(x-x1)\n",
        "\n",
        "dataiter = iter(testloader)\n",
        "images, images_t,  labels = dataiter.next()\n",
        "\n",
        "plotGrayScale(torchvision.utils.make_grid(images), \"Originals\")\n",
        "plt.show()\n",
        "plotGrayScale(torchvision.utils.make_grid(images_t), \"Transformed\")\n",
        "plt.show()\n",
        "print(f'Transform parameters (COMB)')\n",
        "\n",
        "images = images.to(device=cuda0, dtype=torch.float) #Convert to torch cuda float\n",
        "images_t = images_t.to(device=cuda0, dtype=torch.float)\n",
        "# labels = labels.to(device=cuda0, dtype=torch.float)\n",
        "#Inference\n",
        "outputs = net(images, images_t)\n",
        "\n",
        "#Unnormalize\n",
        "outputs = unnormalize(outputs)\n",
        "labels = unnormalize(labels)\n",
        "\n",
        "labels = labels.to(device=cuda0, dtype=torch.float)\n",
        "criterion = torch.nn.L1Loss(reduction='sum').to(cuda0)\n",
        "print(f'Loss = {criterion(outputs, labels)}')\n",
        "\n",
        "for label, output in zip (labels, outputs):\n",
        "  print(f'True = {label}')\n",
        "  print(f'Pred = {output}')"
      ],
      "execution_count": 23,
      "outputs": [
        {
          "output_type": "display_data",
          "data": {
            "image/png": "[encoded data removed]",
            "text/plain": [
              "<Figure size 432x288 with 1 Axes>"
            ]
          },
          "metadata": {
            "needs_background": "light"
          }
        },
        {
          "output_type": "display_data",
          "data": {
            "image/png": "[encoded data removed]",
            "text/plain": [
              "<Figure size 432x288 with 1 Axes>"
            ]
          },
          "metadata": {
            "needs_background": "light"
          }
        },
        {
          "output_type": "stream",
          "name": "stdout",
          "text": [
            "Transform parameters (COMB)\n",
            "Loss = 199.52175903320312\n",
            "True = tensor([ 50.6144, 109.9786, -14.1510,   1.8599,   1.8599], device='cuda:0')\n",
            "Pred = tensor([ 19.3897, 113.9544,   6.0359,   1.1176,   1.4070], device='cuda:0',\n",
            "       grad_fn=<UnbindBackward0>)\n",
            "True = tensor([-103.8923,   -8.0686,   32.1030,    1.1318,    1.1318],\n",
            "       device='cuda:0')\n",
            "Pred = tensor([-88.5992,  10.5769,   0.4674,   1.3966,   0.9447], device='cuda:0',\n",
            "       grad_fn=<UnbindBackward0>)\n",
            "True = tensor([  0.7487, -79.5043,   8.0918,   1.2833,   1.2833], device='cuda:0')\n",
            "Pred = tensor([-18.4645, -71.3351, -14.7997,   1.5790,   1.2126], device='cuda:0',\n",
            "       grad_fn=<UnbindBackward0>)\n",
            "True = tensor([ 5.5122, 55.2659,  0.7854,  0.6794,  0.6794], device='cuda:0')\n",
            "Pred = tensor([ 8.7467, 38.5009, -4.6319,  0.9980,  1.2166], device='cuda:0',\n",
            "       grad_fn=<UnbindBackward0>)\n"
          ]
        }
      ]
    },
    {
      "cell_type": "code",
      "metadata": {
        "colab": {
          "base_uri": "https://localhost:8080/",
          "height": 565
        },
        "id": "TWdMGXfNE27s",
        "outputId": "93ba02b9-6b35-4f77-9f7d-e5db47a88bbb"
      },
      "source": [
        "# def unnormalize(x):\n",
        "#   return (x*(2*256.0) - 256.0)\n",
        "\n",
        "def unnormalize(x, x1 = -10.0, y1 = -256.0, x2 = 10.0, y2 = 256.0):\n",
        "  return y1+((y2-y1)/(x2-x1))*(x-x1)\n",
        "\n",
        "dataiter = iter(testloader)\n",
        "images, images_t,  labels = dataiter.next()\n",
        "\n",
        "plotGrayScale(torchvision.utils.make_grid(images), \"Originals\")\n",
        "plt.show()\n",
        "plotGrayScale(torchvision.utils.make_grid(images_t), \"Transformed\")\n",
        "plt.show()\n",
        "print(f'Transform parameters (COMB)')\n",
        "\n",
        "images = images.to(device=cuda0, dtype=torch.float) #Convert to torch cuda float\n",
        "images_t = images_t.to(device=cuda0, dtype=torch.float)\n",
        "# labels = labels.to(device=cuda0, dtype=torch.float)\n",
        "#Inference\n",
        "outputs = net(images, images_t)\n",
        "\n",
        "#Unnormalize\n",
        "outputs = unnormalize(outputs)\n",
        "labels = unnormalize(labels)\n",
        "\n",
        "labels = labels.to(device=cuda0, dtype=torch.float)\n",
        "criterion = torch.nn.L1Loss(reduction='sum').to(cuda0)\n",
        "print(f'Loss = {criterion(outputs, labels)}')\n",
        "\n",
        "for label, output in zip (labels, outputs):\n",
        "  print(f'True = {label}')\n",
        "  print(f'Pred = {output}')"
      ],
      "execution_count": 24,
      "outputs": [
        {
          "output_type": "display_data",
          "data": {
            "image/png": "[encoded data removed]",
            "text/plain": [
              "<Figure size 432x288 with 1 Axes>"
            ]
          },
          "metadata": {
            "needs_background": "light"
          }
        },
        {
          "output_type": "display_data",
          "data": {
            "image/png": "[encoded data removed]",
            "text/plain": [
              "<Figure size 432x288 with 1 Axes>"
            ]
          },
          "metadata": {
            "needs_background": "light"
          }
        },
        {
          "output_type": "stream",
          "name": "stdout",
          "text": [
            "Transform parameters (COMB)\n",
            "Loss = 165.32635498046875\n",
            "True = tensor([  20.1776, -108.7789,   17.9128,    0.7302,    0.7302],\n",
            "       device='cuda:0')\n",
            "Pred = tensor([  2.4170, -92.7646,  -3.0063,   0.9521,   1.2301], device='cuda:0',\n",
            "       grad_fn=<UnbindBackward0>)\n",
            "True = tensor([-39.8946,  20.1329,  -6.5403,   1.8602,   1.8602], device='cuda:0')\n",
            "Pred = tensor([-64.4527,  20.7924,   3.5362,   1.2607,   1.2434], device='cuda:0',\n",
            "       grad_fn=<UnbindBackward0>)\n",
            "True = tensor([64.1619, 66.0837, 12.7090,  0.5150,  0.5150], device='cuda:0')\n",
            "Pred = tensor([37.2704, 76.2449,  5.3932,  0.8057,  1.1728], device='cuda:0',\n",
            "       grad_fn=<UnbindBackward0>)\n",
            "True = tensor([133.1293, -32.6360,  -5.0397,   1.3464,   1.3464], device='cuda:0')\n",
            "Pred = tensor([123.2027, -42.5953,   0.8855,   2.4895,   2.4751], device='cuda:0',\n",
            "       grad_fn=<UnbindBackward0>)\n"
          ]
        }
      ]
    },
    {
      "cell_type": "code",
      "metadata": {
        "colab": {
          "base_uri": "https://localhost:8080/",
          "height": 548
        },
        "id": "vLSdo0yRFOCf",
        "outputId": "741166f0-a5f8-42b6-a843-839e247f8328"
      },
      "source": [
        "# def unnormalize(x):\n",
        "#   return (x*(2*256.0) - 256.0)\n",
        "\n",
        "def unnormalize(x, x1 = -10.0, y1 = -256.0, x2 = 10.0, y2 = 256.0):\n",
        "  return y1+((y2-y1)/(x2-x1))*(x-x1)\n",
        "\n",
        "dataiter = iter(testloader)\n",
        "images, images_t,  labels = dataiter.next()\n",
        "\n",
        "plotGrayScale(torchvision.utils.make_grid(images), \"Originals\")\n",
        "plt.show()\n",
        "plotGrayScale(torchvision.utils.make_grid(images_t), \"Transformed\")\n",
        "plt.show()\n",
        "print(f'Transform parameters (COMB)')\n",
        "\n",
        "images = images.to(device=cuda0, dtype=torch.float) #Convert to torch cuda float\n",
        "images_t = images_t.to(device=cuda0, dtype=torch.float)\n",
        "# labels = labels.to(device=cuda0, dtype=torch.float)\n",
        "#Inference\n",
        "outputs = net(images, images_t)\n",
        "\n",
        "#Unnormalize\n",
        "outputs = unnormalize(outputs)\n",
        "labels = unnormalize(labels)\n",
        "\n",
        "labels = labels.to(device=cuda0, dtype=torch.float)\n",
        "criterion = torch.nn.L1Loss(reduction='sum').to(cuda0)\n",
        "print(f'Loss = {criterion(outputs, labels)}')\n",
        "\n",
        "for label, output in zip (labels, outputs):\n",
        "  print(f'True = {label}')\n",
        "  print(f'Pred = {output}')\n",
        "  "
      ],
      "execution_count": 26,
      "outputs": [
        {
          "output_type": "display_data",
          "data": {
            "image/png": "[encoded data removed]",
            "text/plain": [
              "<Figure size 432x288 with 1 Axes>"
            ]
          },
          "metadata": {
            "needs_background": "light"
          }
        },
        {
          "output_type": "display_data",
          "data": {
            "image/png": "[encoded data removed]",
            "text/plain": [
              "<Figure size 432x288 with 1 Axes>"
            ]
          },
          "metadata": {
            "needs_background": "light"
          }
        },
        {
          "output_type": "stream",
          "name": "stdout",
          "text": [
            "Transform parameters (COMB)\n",
            "Loss = 103.69886779785156\n",
            "True = tensor([-22.3327,  76.7089,  19.0879,   1.1080,   1.1080], device='cuda:0')\n",
            "Pred = tensor([-20.3708,  64.3033,  12.7321,   1.7176,   1.4083], device='cuda:0',\n",
            "       grad_fn=<UnbindBackward0>)\n",
            "True = tensor([ 21.8458, -68.7361,   2.8097,   1.2038,   1.2038], device='cuda:0')\n",
            "Pred = tensor([ 18.6714, -80.3208,  -0.5460,   1.5595,   1.0395], device='cuda:0',\n",
            "       grad_fn=<UnbindBackward0>)\n",
            "True = tensor([-17.5877, -84.6005, -11.7343,   0.9395,   0.9395], device='cuda:0')\n",
            "Pred = tensor([-18.1083, -85.2915,  10.0865,   1.3206,   0.7599], device='cuda:0',\n",
            "       grad_fn=<UnbindBackward0>)\n",
            "True = tensor([ 13.4003, -41.6188,   2.7347,   1.5817,   1.5817], device='cuda:0')\n",
            "Pred = tensor([  5.4490, -12.4533,   4.9491,   2.0750,   1.5953], device='cuda:0',\n",
            "       grad_fn=<UnbindBackward0>)\n"
          ]
        }
      ]
    },
    {
      "cell_type": "code",
      "metadata": {
        "colab": {
          "base_uri": "https://localhost:8080/",
          "height": 565
        },
        "id": "oeRvrKyZJXjJ",
        "outputId": "24de4302-34d7-471f-863a-711a2a7a63b4"
      },
      "source": [
        "def unnormalize(x, x1 = -10.0, y1 = -256.0, x2 = 10.0, y2 = 256.0):\n",
        "  return y1+((y2-y1)/(x2-x1))*(x-x1)\n",
        "\n",
        "dataiter = iter(testloader)\n",
        "images, images_t,  labels = dataiter.next()\n",
        "\n",
        "plotGrayScale(torchvision.utils.make_grid(images), \"Originals\")\n",
        "plt.show()\n",
        "plotGrayScale(torchvision.utils.make_grid(images_t), \"Transformed\")\n",
        "plt.show()\n",
        "print(f'Transform parameters (COMB)')\n",
        "\n",
        "images = images.to(device=cuda0, dtype=torch.float) #Convert to torch cuda float\n",
        "images_t = images_t.to(device=cuda0, dtype=torch.float)\n",
        "# labels = labels.to(device=cuda0, dtype=torch.float)\n",
        "#Inference\n",
        "outputs = net(images, images_t)\n",
        "\n",
        "#Unnormalize\n",
        "outputs = unnormalize(outputs)\n",
        "labels = unnormalize(labels)\n",
        "\n",
        "labels = labels.to(device=cuda0, dtype=torch.float)\n",
        "criterion = torch.nn.L1Loss(reduction='sum').to(cuda0)\n",
        "print(f'Loss = {criterion(outputs, labels)}')\n",
        "\n",
        "for label, output in zip (labels, outputs):\n",
        "  print(f'True = {label}')\n",
        "  print(f'Pred = {output}')\n",
        "  "
      ],
      "execution_count": 32,
      "outputs": [
        {
          "output_type": "display_data",
          "data": {
            "image/png": "[encoded data removed]",
            "text/plain": [
              "<Figure size 432x288 with 1 Axes>"
            ]
          },
          "metadata": {
            "needs_background": "light"
          }
        },
        {
          "output_type": "display_data",
          "data": {
            "image/png": "[encoded data removed]",
            "text/plain": [
              "<Figure size 432x288 with 1 Axes>"
            ]
          },
          "metadata": {
            "needs_background": "light"
          }
        },
        {
          "output_type": "stream",
          "name": "stdout",
          "text": [
            "Transform parameters (COMB)\n",
            "Loss = 112.7411117553711\n",
            "True = tensor([-59.5556,  41.6092,  -1.5095,   0.8285,   0.8285], device='cuda:0')\n",
            "Pred = tensor([-52.3512,  37.0609,   8.1613,   0.8038,   0.9354], device='cuda:0',\n",
            "       grad_fn=<UnbindBackward0>)\n",
            "True = tensor([  45.1904, -102.4470,    2.2196,    1.7031,    1.7031],\n",
            "       device='cuda:0')\n",
            "Pred = tensor([ 42.3098, -97.6172,  20.9597,   0.7912,   0.9899], device='cuda:0',\n",
            "       grad_fn=<UnbindBackward0>)\n",
            "True = tensor([ 54.9780, -56.0050,  26.9371,   1.4517,   1.4517], device='cuda:0')\n",
            "Pred = tensor([ 54.0228, -55.0046,  23.3636,   2.0327,   2.0663], device='cuda:0',\n",
            "       grad_fn=<UnbindBackward0>)\n",
            "True = tensor([106.8904, -64.0767, -16.9476,   1.6830,   1.6830], device='cuda:0')\n",
            "Pred = tensor([ 86.9176, -50.6665,   5.5228,   1.7828,   1.2506], device='cuda:0',\n",
            "       grad_fn=<UnbindBackward0>)\n"
          ]
        }
      ]
    },
    {
      "cell_type": "code",
      "metadata": {
        "colab": {
          "base_uri": "https://localhost:8080/"
        },
        "id": "OyCnKcOU_sEm",
        "outputId": "c25008d9-8e49-45d8-dd30-9652e2268fd9"
      },
      "source": [
        "print(unnormalize(0.5011))\n",
        "print(unnormalize(0.4542))"
      ],
      "execution_count": 61,
      "outputs": [
        {
          "output_type": "stream",
          "name": "stdout",
          "text": [
            "12.828159999999968\n",
            "11.627520000000004\n"
          ]
        }
      ]
    },
    {
      "cell_type": "markdown",
      "metadata": {
        "id": "U_gILK6eCBB8"
      },
      "source": [
        "# Test Perf without gaussian noise"
      ]
    },
    {
      "cell_type": "code",
      "metadata": {
        "colab": {
          "base_uri": "https://localhost:8080/"
        },
        "id": "hUrIrcd4CAVN",
        "outputId": "8684bee1-74df-4188-bdbf-ca4413d90268"
      },
      "source": [
        "#w/o Gaussian noise\n",
        "transform = transforms.Compose([\n",
        "                    transforms.ToPILImage(),\n",
        "                    transforms.Grayscale(1),\n",
        "                    transforms.Resize([IMG_WIDTH, IMG_HEIGHT]),\n",
        "                    transforms.ColorJitter(brightness=(0.3,1), contrast=(0.3,1)),\n",
        "                    transforms.ToTensor(),\n",
        "                    transforms.Normalize(0.5, 0.5)])\n",
        "batch_size = 4\n",
        "rot_test_dataset = AffineDataset(TEST_IMGS_ROT_O, TEST_IMGS_ROT_T, TEST_IMGS_ROT_L, transform=transform, norm_out=True)\n",
        "scal_test_dataset = AffineDataset(TEST_IMGS_SCAL_O, TEST_IMGS_SCAL_T, TEST_IMGS_SCAL_L, transform=transform, norm_out=True)\n",
        "trans_test_dataset = AffineDataset(TEST_IMGS_TRANS_O, TEST_IMGS_TRANS_T, TEST_IMGS_TRANS_L, transform=transform, norm_out=True)\n",
        "test_dataset = AffineDataset(TEST_IMGS_O, TEST_IMGS_T, TEST_IMGS_L, transform=transform, norm_out=True)\n",
        "\n",
        "print(f'Rot test dataset size: {len(rot_test_dataset)}')\n",
        "print(f'Scal test dataset size: {len(scal_test_dataset)}')\n",
        "print(f'Trans test dataset size: {len(trans_test_dataset)}')\n",
        "print(f'Combined test dataset size: {len(test_dataset)}')\n",
        "\n",
        "testloader_rot = DataLoader(rot_test_dataset, batch_size=batch_size,\n",
        "                        shuffle=True, num_workers=0)\n",
        "testloader_scal = DataLoader(scal_test_dataset, batch_size=batch_size,\n",
        "                        shuffle=True, num_workers=0)\n",
        "testloader_trans = DataLoader(trans_test_dataset, batch_size=batch_size,\n",
        "                        shuffle=True, num_workers=0)\n",
        "\n",
        "testloader = DataLoader(test_dataset, batch_size=batch_size,\n",
        "                        shuffle=True, num_workers=0)"
      ],
      "execution_count": null,
      "outputs": [
        {
          "name": "stdout",
          "output_type": "stream",
          "text": [
            "Rot test dataset size: 483\n",
            "Scal test dataset size: 487\n",
            "Trans test dataset size: 480\n",
            "Combined test dataset size: 10416\n"
          ]
        }
      ]
    },
    {
      "cell_type": "markdown",
      "metadata": {
        "id": "IVSz-1wTCtPY"
      },
      "source": [
        "## Visualization"
      ]
    },
    {
      "cell_type": "code",
      "metadata": {
        "colab": {
          "base_uri": "https://localhost:8080/",
          "height": 1000
        },
        "id": "LluJhh57CseK",
        "outputId": "bfc7957f-e21d-4e26-cd2c-aa72a3b60905"
      },
      "source": [
        "dataiter = iter(testloader_rot)\n",
        "images, images_t,  labels = dataiter.next()\n",
        "plotGrayScale(torchvision.utils.make_grid(images), \"Originals\")\n",
        "plt.show()\n",
        "plotGrayScale(torchvision.utils.make_grid(images_t), \"Rotated\")\n",
        "plt.show()\n",
        "print(f'Transform parameters (ROT)')\n",
        "for label in labels:\n",
        "  print(label)\n",
        "\n",
        "dataiter = iter(testloader_scal)\n",
        "images, images_t,  labels = dataiter.next()\n",
        "# print(labels)\n",
        "plotGrayScale(torchvision.utils.make_grid(images), \"Originals\")\n",
        "plt.show()\n",
        "plotGrayScale(torchvision.utils.make_grid(images_t), \"Scaled\")\n",
        "plt.show()\n",
        "print(f'Transform parameters (SCAL)')\n",
        "for label in labels:\n",
        "  print(label)\n",
        "\n",
        "dataiter = iter(testloader_trans)\n",
        "images, images_t,  labels = dataiter.next()\n",
        "# print(labels)\n",
        "plotGrayScale(torchvision.utils.make_grid(images), \"Originals\")\n",
        "plt.show()\n",
        "plotGrayScale(torchvision.utils.make_grid(images_t), \"Translated\")\n",
        "plt.show()\n",
        "print(f'Transform parameters (TRANS)')\n",
        "for label in labels:\n",
        "  print(label)"
      ],
      "execution_count": null,
      "outputs": [
        {
          "data": {
            "image/png": "[encoded data removed]",
            "text/plain": [
              "<Figure size 432x288 with 1 Axes>"
            ]
          },
          "metadata": {},
          "output_type": "display_data"
        },
        {
          "data": {
            "image/png": "[encoded data removed]",
            "text/plain": [
              "<Figure size 432x288 with 1 Axes>"
            ]
          },
          "metadata": {},
          "output_type": "display_data"
        },
        {
          "name": "stdout",
          "output_type": "stream",
          "text": [
            "Transform parameters (ROT)\n",
            "tensor([0.5000, 0.5000, 0.5162, 0.5020, 0.5020], dtype=torch.float64)\n",
            "tensor([0.5000, 0.5000, 0.5151, 0.5020, 0.5020], dtype=torch.float64)\n",
            "tensor([0.5000, 0.5000, 0.4427, 0.5020, 0.5020], dtype=torch.float64)\n",
            "tensor([0.5000, 0.5000, 0.4464, 0.5020, 0.5020], dtype=torch.float64)\n"
          ]
        },
        {
          "data": {
            "image/png": "[encoded data removed]",
            "text/plain": [
              "<Figure size 432x288 with 1 Axes>"
            ]
          },
          "metadata": {},
          "output_type": "display_data"
        },
        {
          "data": {
            "image/png": "[encoded data removed]",
            "text/plain": [
              "<Figure size 432x288 with 1 Axes>"
            ]
          },
          "metadata": {},
          "output_type": "display_data"
        },
        {
          "name": "stdout",
          "output_type": "stream",
          "text": [
            "Transform parameters (SCAL)\n",
            "tensor([0.5000, 0.5000, 0.5000, 0.5030, 0.5030], dtype=torch.float64)\n",
            "tensor([0.5000, 0.5000, 0.5000, 0.5011, 0.5011], dtype=torch.float64)\n",
            "tensor([0.5000, 0.5000, 0.5000, 0.5031, 0.5031], dtype=torch.float64)\n",
            "tensor([0.5000, 0.5000, 0.5000, 0.5024, 0.5024], dtype=torch.float64)\n"
          ]
        },
        {
          "data": {
            "image/png": "[encoded data removed]",
            "text/plain": [
              "<Figure size 432x288 with 1 Axes>"
            ]
          },
          "metadata": {},
          "output_type": "display_data"
        },
        {
          "data": {
            "image/png": "[encoded data removed]",
            "text/plain": [
              "<Figure size 432x288 with 1 Axes>"
            ]
          },
          "metadata": {},
          "output_type": "display_data"
        },
        {
          "name": "stdout",
          "output_type": "stream",
          "text": [
            "Transform parameters (TRANS)\n",
            "tensor([0.6466, 0.6454, 0.5000, 0.5020, 0.5020], dtype=torch.float64)\n",
            "tensor([0.4269, 0.5710, 0.5000, 0.5020, 0.5020], dtype=torch.float64)\n",
            "tensor([0.7111, 0.7847, 0.5000, 0.5020, 0.5020], dtype=torch.float64)\n",
            "tensor([0.5777, 0.4034, 0.5000, 0.5020, 0.5020], dtype=torch.float64)\n"
          ]
        }
      ]
    },
    {
      "cell_type": "code",
      "metadata": {
        "colab": {
          "base_uri": "https://localhost:8080/",
          "height": 363
        },
        "id": "utikU-bjKcu_",
        "outputId": "06a06949-b9ba-4885-afed-e42e2d3ac9ee"
      },
      "source": [
        "#Combined\n",
        "dataiter = iter(testloader)\n",
        "images, images_t,  labels = dataiter.next()\n",
        "# print(labels)\n",
        "plotGrayScale(torchvision.utils.make_grid(images), \"Originals\")\n",
        "plt.show()\n",
        "plotGrayScale(torchvision.utils.make_grid(images_t), \"transfromed\")\n",
        "plt.show()\n",
        "print(f'Transform parameters (SCAL)')\n",
        "for label in labels:\n",
        "  print(label)"
      ],
      "execution_count": null,
      "outputs": [
        {
          "data": {
            "image/png": "[encoded data removed]",
            "text/plain": [
              "<Figure size 432x288 with 1 Axes>"
            ]
          },
          "metadata": {},
          "output_type": "display_data"
        },
        {
          "data": {
            "image/png": "[encoded data removed]",
            "text/plain": [
              "<Figure size 432x288 with 1 Axes>"
            ]
          },
          "metadata": {},
          "output_type": "display_data"
        },
        {
          "name": "stdout",
          "output_type": "stream",
          "text": [
            "Transform parameters (SCAL)\n",
            "tensor([0.6420, 0.7486, 0.5836, 0.5026, 0.5026], dtype=torch.float64)\n",
            "tensor([0.6177, 0.3475, 0.5643, 0.5039, 0.5039], dtype=torch.float64)\n",
            "tensor([0.5520, 0.4406, 0.4731, 0.5013, 0.5013], dtype=torch.float64)\n",
            "tensor([0.7299, 0.1910, 0.5493, 0.5017, 0.5017], dtype=torch.float64)\n"
          ]
        }
      ]
    },
    {
      "cell_type": "markdown",
      "metadata": {
        "id": "M4xeyyEBKq9u"
      },
      "source": [
        "## Combined"
      ]
    },
    {
      "cell_type": "code",
      "metadata": {
        "colab": {
          "base_uri": "https://localhost:8080/"
        },
        "id": "KU0ppKV6KqDz",
        "outputId": "d462ab43-41d7-4788-d36d-8b52b9c48deb"
      },
      "source": [
        "loss, infertime = testModel(testloader)\n",
        "print(f'Average scaling test loss = {loss}')\n",
        "print(f'Average Infer time = {infertime}')"
      ],
      "execution_count": null,
      "outputs": [
        {
          "output_type": "stream",
          "name": "stdout",
          "text": [
            "Average Test loss = 10.304847340834769\n",
            "Average Infer time = 0.000559163720984208\n",
            "----------------------------------------\n",
            "Average Test loss = 9.495931808765118\n",
            "Average Infer time = 0.0005348752706478804\n",
            "----------------------------------------\n",
            "Average Test loss = 9.403114132961985\n",
            "Average Infer time = 0.0005366327398914402\n",
            "----------------------------------------\n",
            "Average Test loss = 9.31670341008826\n",
            "Average Infer time = 0.0005368409277517585\n",
            "----------------------------------------\n",
            "Average Test loss = 9.447300251084144\n",
            "Average Infer time = 0.000534227400115042\n",
            "----------------------------------------\n",
            "Average Test loss = 9.387257760312377\n",
            "Average Infer time = 0.0005290152645912491\n",
            "----------------------------------------\n",
            "Average Test loss = 9.19889801354717\n",
            "Average Infer time = 0.0005251945351525177\n",
            "----------------------------------------\n",
            "Average Test loss = 9.252872101165963\n",
            "Average Infer time = 0.0005238997111530424\n",
            "----------------------------------------\n",
            "Average Test loss = 9.236311121359885\n",
            "Average Infer time = 0.0005272190664067615\n",
            "----------------------------------------\n",
            "Average Test loss = 9.169901107423868\n",
            "Average Infer time = 0.0005262961339710945\n",
            "----------------------------------------\n",
            "Average Test loss = 9.170975815759947\n",
            "Average Infer time = 0.0005261631316790297\n",
            "----------------------------------------\n",
            "Average Test loss = 9.276221522726274\n",
            "Average Infer time = 0.0005250508316391182\n",
            "----------------------------------------\n",
            "Average Test loss = 9.294952946740228\n",
            "Average Infer time = 0.0005237248413351051\n",
            "----------------------------------------\n",
            "Average Test loss = 9.325438569523527\n",
            "Average Infer time = 0.0005236620544105448\n",
            "----------------------------------------\n",
            "Average Test loss = 9.376059602335545\n",
            "Average Infer time = 0.0005249614300935165\n",
            "----------------------------------------\n",
            "Average Test loss = 9.377057531410625\n",
            "Average Infer time = 0.0005248889654033983\n",
            "----------------------------------------\n",
            "Average Test loss = 9.353291740811327\n",
            "Average Infer time = 0.0005239775750489361\n",
            "----------------------------------------\n",
            "Average Test loss = 9.311444926726784\n",
            "Average Infer time = 0.0005236932162122806\n",
            "----------------------------------------\n",
            "Average Test loss = 9.29763565214454\n",
            "Average Infer time = 0.0005240069215719178\n",
            "----------------------------------------\n",
            "Average Test loss = 9.290011790760776\n",
            "Average Infer time = 0.0005238550647458337\n",
            "----------------------------------------\n",
            "Average Test loss = 9.24873695054885\n",
            "Average Infer time = 0.0005240828723497777\n",
            "----------------------------------------\n",
            "Average Test loss = 9.240337290361964\n",
            "Average Infer time = 0.0005241643323442115\n",
            "----------------------------------------\n",
            "Average Test loss = 9.245579021428926\n",
            "Average Infer time = 0.000525422475436674\n",
            "----------------------------------------\n",
            "Average Test loss = 9.237448346888597\n",
            "Average Infer time = 0.000524544392348829\n",
            "----------------------------------------\n",
            "Average Test loss = 9.236110476071467\n",
            "Average Infer time = 0.0005251029450334385\n",
            "----------------------------------------\n",
            "Average Test loss = 9.240769847509718\n",
            "Average Infer time = 0.0005247529761180252\n",
            "----------------------------------------\n",
            "Average Test loss = 9.25352583656948\n",
            "Average Infer time = 0.0005253419584157515\n",
            "----------------------------------------\n",
            "Average Test loss = 9.273502955496419\n",
            "Average Infer time = 0.0005253091694417282\n",
            "----------------------------------------\n",
            "Average Test loss = 9.283159979060935\n",
            "Average Infer time = 0.0005251547009627848\n",
            "----------------------------------------\n",
            "Average Test loss = 9.284543206974341\n",
            "Average Infer time = 0.0005263006547854619\n",
            "----------------------------------------\n",
            "Average Test loss = 9.303109413202437\n",
            "Average Infer time = 0.0005258639525134652\n",
            "----------------------------------------\n",
            "Average Test loss = 9.293241365787942\n",
            "Average Infer time = 0.000526017426325122\n",
            "----------------------------------------\n",
            "Average Test loss = 9.277518320879553\n",
            "Average Infer time = 0.0005265969969614865\n",
            "----------------------------------------\n",
            "Average Test loss = 9.284262814472632\n",
            "Average Infer time = 0.0005259015247642731\n",
            "----------------------------------------\n",
            "Average Test loss = 9.297294682187584\n",
            "Average Infer time = 0.0005255003002750686\n",
            "----------------------------------------\n",
            "Average Test loss = 9.318640579600327\n",
            "Average Infer time = 0.0005254149436950684\n",
            "----------------------------------------\n",
            "Average Test loss = 9.350846242194892\n",
            "Average Infer time = 0.0005251811224972282\n",
            "----------------------------------------\n",
            "Average Test loss = 9.34248028379498\n",
            "Average Infer time = 0.000525203382544838\n",
            "----------------------------------------\n",
            "Average Test loss = 9.334602897066206\n",
            "Average Infer time = 0.0005263800951574519\n",
            "----------------------------------------\n",
            "Average Test loss = 9.312802412035468\n",
            "Average Infer time = 0.0005260577637501741\n",
            "----------------------------------------\n",
            "Average Test loss = 9.325913800133598\n",
            "Average Infer time = 0.0005255988520434779\n",
            "----------------------------------------\n",
            "Average Test loss = 9.321971449437102\n",
            "Average Infer time = 0.0005256637344769556\n",
            "----------------------------------------\n",
            "Average Test loss = 9.337753329759982\n",
            "Average Infer time = 0.0005261864734334357\n",
            "----------------------------------------\n",
            "Average Test loss = 9.321766441050107\n",
            "Average Infer time = 0.0005264390721934105\n",
            "----------------------------------------\n",
            "Average Test loss = 9.322257798293542\n",
            "Average Infer time = 0.0005262744705191709\n",
            "----------------------------------------\n",
            "Average Test loss = 9.330528640124433\n",
            "Average Infer time = 0.0005259000826971575\n",
            "----------------------------------------\n",
            "Average Test loss = 9.318254584575486\n",
            "Average Infer time = 0.0005254165940899183\n",
            "----------------------------------------\n",
            "Average Test loss = 9.321042306977592\n",
            "Average Infer time = 0.0005254069259691288\n",
            "----------------------------------------\n",
            "Average Test loss = 9.329373136604161\n",
            "Average Infer time = 0.0005253115031521946\n",
            "----------------------------------------\n",
            "Average Test loss = 9.33434909623903\n",
            "Average Infer time = 0.000524795986152626\n",
            "----------------------------------------\n",
            "Average Test loss = 9.325617822978401\n",
            "Average Infer time = 0.0005241912059390861\n",
            "----------------------------------------\n",
            "Average Test loss = 9.346037284127787\n",
            "Average Infer time = 0.00052412561319331\n",
            "----------------------------------------\n",
            "Average Test loss = 9.368459802398826\n",
            "Average Infer time = 0.0005247779788556697\n",
            "----------------------------------------\n",
            "Average Test loss = 9.353581178840164\n",
            "Average Infer time = 0.0005249415314562128\n",
            "----------------------------------------\n",
            "Average Test loss = 9.348118144235793\n",
            "Average Infer time = 0.0005249102295692451\n",
            "----------------------------------------\n",
            "Average Test loss = 9.329803739092625\n",
            "Average Infer time = 0.0005246068453341323\n",
            "----------------------------------------\n",
            "Average Test loss = 9.327447304294441\n",
            "Average Infer time = 0.0005241775847611666\n",
            "----------------------------------------\n",
            "Average Test loss = 9.31904832775784\n",
            "Average Infer time = 0.0005239863350434587\n",
            "----------------------------------------\n",
            "Average Test loss = 9.33099131224214\n",
            "Average Infer time = 0.0005243294212755457\n",
            "----------------------------------------\n",
            "Average Test loss = 9.329455776946359\n",
            "Average Infer time = 0.0005245072032333514\n",
            "----------------------------------------\n",
            "Average Test loss = 9.344697466827594\n",
            "Average Infer time = 0.0005247087337816221\n",
            "----------------------------------------\n",
            "Average Test loss = 9.352260304805826\n",
            "Average Infer time = 0.0005246394098141773\n",
            "----------------------------------------\n",
            "Average Test loss = 9.339524224412356\n",
            "Average Infer time = 0.0005246432079409113\n",
            "----------------------------------------\n",
            "Average Test loss = 9.338071027521606\n",
            "Average Infer time = 0.0005249495241584211\n",
            "----------------------------------------\n",
            "Average Test loss = 9.33655391829669\n",
            "Average Infer time = 0.000525224566734966\n",
            "----------------------------------------\n",
            "Average Test loss = 9.340816125804679\n",
            "Average Infer time = 0.0005251400121872492\n",
            "----------------------------------------\n",
            "Average Test loss = 9.34667879935073\n",
            "Average Infer time = 0.0005253593453370964\n",
            "----------------------------------------\n",
            "Average Test loss = 9.343060782939919\n",
            "Average Infer time = 0.0005253130587871852\n",
            "----------------------------------------\n",
            "Average Test loss = 9.344779355531157\n",
            "Average Infer time = 0.00052525674717594\n",
            "----------------------------------------\n",
            "Average Test loss = 9.335666238963391\n",
            "Average Infer time = 0.0005251098054063754\n",
            "----------------------------------------\n",
            "Average Test loss = 9.335162343568916\n",
            "Average Infer time = 0.0005248105803201365\n",
            "----------------------------------------\n",
            "Average Test loss = 9.329947281413975\n",
            "Average Infer time = 0.000525314663747187\n",
            "----------------------------------------\n",
            "Average Test loss = 9.31267616698152\n",
            "Average Infer time = 0.000525655568340529\n",
            "----------------------------------------\n",
            "Average Test loss = 9.320096591423297\n",
            "Average Infer time = 0.0005253814135635922\n",
            "----------------------------------------\n",
            "Average Test loss = 9.323833282984758\n",
            "Average Infer time = 0.0005257963100379909\n",
            "----------------------------------------\n",
            "Average Test loss = 9.330296663958592\n",
            "Average Infer time = 0.0005259338454873723\n",
            "----------------------------------------\n",
            "Average Test loss = 9.336199933635173\n",
            "Average Infer time = 0.0005258323311263512\n",
            "----------------------------------------\n",
            "Average Test loss = 9.334373104641115\n",
            "Average Infer time = 0.0005255851170586958\n",
            "----------------------------------------\n",
            "Average Test loss = 9.32890060598749\n",
            "Average Infer time = 0.0005256979808239638\n",
            "----------------------------------------\n",
            "Average Test loss = 9.332551752201388\n",
            "Average Infer time = 0.0005255538348185412\n",
            "----------------------------------------\n",
            "Average Test loss = 9.338158463754354\n",
            "Average Infer time = 0.0005256261186440687\n",
            "----------------------------------------\n",
            "Average Test loss = 9.341757745841715\n",
            "Average Infer time = 0.0005256277239126284\n",
            "----------------------------------------\n",
            "Average Test loss = 9.337531615769453\n",
            "Average Infer time = 0.0005260183194662304\n",
            "----------------------------------------\n",
            "Average Test loss = 9.337490121831207\n",
            "Average Infer time = 0.0005261148633951229\n",
            "----------------------------------------\n",
            "Average Test loss = 9.336627918667762\n",
            "Average Infer time = 0.0005260019389372001\n",
            "----------------------------------------\n",
            "Average Test loss = 9.335823106516093\n",
            "Average Infer time = 0.0005257449363677429\n",
            "----------------------------------------\n",
            "Average Test loss = 9.334790864300631\n",
            "Average Infer time = 0.0005258066411536613\n",
            "----------------------------------------\n",
            "Average Test loss = 9.331380300321248\n",
            "Average Infer time = 0.0005257366190178954\n",
            "----------------------------------------\n",
            "Average Test loss = 9.334659700248936\n",
            "Average Infer time = 0.0005259442155182931\n",
            "----------------------------------------\n",
            "Average Test loss = 9.32559614687777\n",
            "Average Infer time = 0.0005258191884259769\n",
            "----------------------------------------\n",
            "Average Test loss = 9.335112134855878\n",
            "Average Infer time = 0.0005262120206517266\n",
            "----------------------------------------\n",
            "Average Test loss = 9.341215116424104\n",
            "Average Infer time = 0.0005263121248652846\n",
            "----------------------------------------\n",
            "Average Test loss = 9.341010095099726\n",
            "Average Infer time = 0.0005262300748860983\n",
            "----------------------------------------\n",
            "Average Test loss = 9.33537640744159\n",
            "Average Infer time = 0.0005262222868638701\n",
            "----------------------------------------\n",
            "Average Test loss = 9.343198752767353\n",
            "Average Infer time = 0.0005262768412967177\n",
            "----------------------------------------\n",
            "Average Test loss = 9.344730614373434\n",
            "Average Infer time = 0.0005263627476217599\n",
            "----------------------------------------\n",
            "Average Test loss = 9.344011873729208\n",
            "Average Infer time = 0.0005262197754689257\n",
            "----------------------------------------\n",
            "Average Test loss = 9.337941308359882\n",
            "Average Infer time = 0.0005262658692185157\n",
            "----------------------------------------\n",
            "Average Test loss = 9.327603180761468\n",
            "Average Infer time = 0.0005263325660863629\n",
            "----------------------------------------\n",
            "Average Test loss = 9.33118152200967\n",
            "Average Infer time = 0.000526316139684909\n",
            "----------------------------------------\n",
            "Average Test loss = 9.326176227821815\n",
            "Average Infer time = 0.0005262394598535289\n",
            "----------------------------------------\n"
          ]
        }
      ]
    },
    {
      "cell_type": "code",
      "metadata": {
        "colab": {
          "base_uri": "https://localhost:8080/"
        },
        "id": "QzrqXgd48MZH",
        "outputId": "58e753a9-1361-4bc0-cda0-f20b0cd9b738"
      },
      "source": [
        "import numpy as np\n",
        "\n",
        "a = np.array([10.304847340834769, 9.495931808765118, 9.403114132961985, 9.31670341008826, 9.447300251084144, 9.387257760312377, 9.19889801354717, 9.252872101165963, 9.236311121359885, 9.169901107423868, 9.170975815759947, 9.276221522726274, 9.294952946740228,  9.325438569523527, 9.376059602335545, 9.377057531410625, 9.326176227821815, 9.33118152200967, 9.327603180761468, 9.337941308359882, 9.344011873729208, 9.344730614373434, 9.343198752767353, 9.33537640744159, 9.341010095099726, 9.341215116424104, 9.335112134855878, 9.32559614687777, 9.334659700248936, 9.331380300321248, 9.335823106516093])\n",
        "np.mean(a)"
      ],
      "execution_count": 3,
      "outputs": [
        {
          "output_type": "execute_result",
          "data": {
            "text/plain": [
              "9.357059984633803"
            ]
          },
          "metadata": {},
          "execution_count": 3
        }
      ]
    },
    {
      "cell_type": "markdown",
      "metadata": {
        "id": "W_aRt5M7ISaj"
      },
      "source": [
        "## Scaling only"
      ]
    },
    {
      "cell_type": "code",
      "metadata": {
        "colab": {
          "base_uri": "https://localhost:8080/"
        },
        "id": "tt8K_tbyIRhL",
        "outputId": "573593e5-c82d-45e7-9cbd-87f226c08ef6"
      },
      "source": [
        "loss, infertime = testModel(testloader_scal)\n",
        "print(f'Average scaling test loss = {loss}')\n",
        "print(f'Average Infer time = {infertime}')"
      ],
      "execution_count": null,
      "outputs": [
        {
          "name": "stdout",
          "output_type": "stream",
          "text": [
            "Average Test loss = 0.5069076952181364\n",
            "Average Infer time = 0.0008630187887894479\n",
            "----------------------------------------\n",
            "Average Test loss = 0.5222799533452743\n",
            "Average Infer time = 0.0008005698521931967\n",
            "----------------------------------------\n",
            "Average Test loss = 0.5331670904563646\n",
            "Average Infer time = 0.0007832969649363373\n",
            "----------------------------------------\n",
            "Average Test loss = 0.5294019677970982\n",
            "Average Infer time = 0.0007911211327661442\n",
            "----------------------------------------\n",
            "Average Test loss = 0.5273912028230802\n",
            "Average Infer time = 0.0007823506991068522\n",
            "----------------------------------------\n",
            "Average Test loss = 0.5243832231068811\n",
            "Average Infer time = 0.0007745067612463687\n",
            "----------------------------------------\n",
            "Average scaling test loss = 0.5215392410755157\n",
            "Average Infer time = 0.0007757810521716914\n"
          ]
        }
      ]
    },
    {
      "cell_type": "markdown",
      "metadata": {
        "id": "ZTSaNXIFDC-2"
      },
      "source": [
        "## Pred Vs. True"
      ]
    },
    {
      "cell_type": "code",
      "metadata": {
        "colab": {
          "base_uri": "https://localhost:8080/",
          "height": 508
        },
        "id": "QLZP_gOXDB_p",
        "outputId": "01cad2c0-ed31-45ed-d31f-3f980fdce1a1"
      },
      "source": [
        "def unnormalize(x):\n",
        "  return (x*(2*256.0) - 256.0)\n",
        "\n",
        "net.cuda()\n",
        "dataiter = iter(testloader)\n",
        "images, images_t,  labels = dataiter.next()\n",
        "\n",
        "plotGrayScale(torchvision.utils.make_grid(images), \"Originals\")\n",
        "plt.show()\n",
        "plotGrayScale(torchvision.utils.make_grid(images_t), \"Translated\")\n",
        "plt.show()\n",
        "print(f'Transform parameters (COMB)')\n",
        "\n",
        "images = images.to(device=cuda0, dtype=torch.float) #Convert to torch cuda float\n",
        "images_t = images_t.to(device=cuda0, dtype=torch.float)\n",
        "# labels = labels.to(device=cuda0, dtype=torch.float)\n",
        "#Inference\n",
        "outputs = net(images, images_t)\n",
        "\n",
        "#Unnormalize\n",
        "# outputs = unnormalize(outputs)\n",
        "# labels = unnormalize(labels)\n",
        "\n",
        "for label, output in zip (labels, outputs):\n",
        "  print(f'True = {label}')\n",
        "  print(f'Pred = {output}')"
      ],
      "execution_count": null,
      "outputs": [
        {
          "data": {
            "image/png": "[encoded data removed]",
            "text/plain": [
              "<Figure size 432x288 with 1 Axes>"
            ]
          },
          "metadata": {},
          "output_type": "display_data"
        },
        {
          "data": {
            "image/png": "[encoded data removed]",
            "text/plain": [
              "<Figure size 432x288 with 1 Axes>"
            ]
          },
          "metadata": {},
          "output_type": "display_data"
        },
        {
          "name": "stdout",
          "output_type": "stream",
          "text": [
            "Transform parameters (COMB)\n",
            "True = tensor([0.6541, 0.6772, 0.5054, 0.5022, 0.5022], dtype=torch.float64)\n",
            "Pred = tensor([0.6067, 0.5756, 0.4357, 0.4406, 0.4481], device='cuda:0',\n",
            "       grad_fn=<UnbindBackward0>)\n",
            "True = tensor([0.5533, 0.5740, 0.4628, 0.5023, 0.5023], dtype=torch.float64)\n",
            "Pred = tensor([0.4838, 0.6044, 0.5035, 0.5123, 0.4961], device='cuda:0',\n",
            "       grad_fn=<UnbindBackward0>)\n",
            "True = tensor([0.5048, 0.2075, 0.5242, 0.5022, 0.5022], dtype=torch.float64)\n",
            "Pred = tensor([0.4350, 0.2171, 0.4624, 0.4655, 0.4708], device='cuda:0',\n",
            "       grad_fn=<UnbindBackward0>)\n",
            "True = tensor([0.3853, 0.3778, 0.5368, 0.5017, 0.5017], dtype=torch.float64)\n",
            "Pred = tensor([0.4043, 0.4199, 0.4712, 0.4767, 0.4716], device='cuda:0',\n",
            "       grad_fn=<UnbindBackward0>)\n"
          ]
        }
      ]
    },
    {
      "cell_type": "code",
      "metadata": {
        "colab": {
          "base_uri": "https://localhost:8080/"
        },
        "id": "kXwwYHd5XsIU",
        "outputId": "65b2e422-590e-49c9-8e5b-29f073981859"
      },
      "source": [
        "print(unnormalize(0.2075))\n",
        "print(unnormalize(0.2171))"
      ],
      "execution_count": null,
      "outputs": [
        {
          "name": "stdout",
          "output_type": "stream",
          "text": [
            "-149.76\n",
            "-144.84480000000002\n"
          ]
        }
      ]
    },
    {
      "cell_type": "markdown",
      "metadata": {
        "id": "62iNtXWOgAbg"
      },
      "source": [
        "## Using batchnorm"
      ]
    },
    {
      "cell_type": "code",
      "metadata": {
        "colab": {
          "base_uri": "https://localhost:8080/"
        },
        "id": "c7xmxFu6f_pA",
        "outputId": "674026ce-87f3-4dbd-8629-75444f953fcc"
      },
      "source": [
        "net = AffineNet(activation='PReLU', batchNorm=True)\n",
        "# net = AffineNet()\n",
        "\n",
        "print('---------- Network initialized -------------')\n",
        "num_params = 0\n",
        "for param in net.parameters():\n",
        "  num_params += param.numel()\n",
        "print('[Network] Total number of parameters : %.3f M' % (num_params / 1e6))\n",
        "print('-----------------------------------------------')\n",
        "\n",
        "if torch.cuda.is_available():\n",
        "  print(f'GPU : {torch.cuda.get_device_name(0)}')\n",
        "  cuda0 = torch.device('cuda:0')\n",
        "  net.cuda()"
      ],
      "execution_count": null,
      "outputs": [
        {
          "name": "stdout",
          "output_type": "stream",
          "text": [
            "Using PReLU activation\n",
            "Using BatchNorm2D\n",
            "---------- Network initialized -------------\n",
            "[Network] Total number of parameters : 282.080 M\n",
            "-----------------------------------------------\n",
            "GPU : Tesla P100-PCIE-16GB\n"
          ]
        }
      ]
    },
    {
      "cell_type": "code",
      "metadata": {
        "colab": {
          "base_uri": "https://localhost:8080/"
        },
        "id": "NFDXMPesF9fe",
        "outputId": "e98942f9-68ef-4dc8-fe10-30c1f63e36be"
      },
      "source": [
        "if torch.cuda.is_available():\n",
        "  print(f'GPU : {torch.cuda.get_device_name(0)}')\n",
        "  cuda0 = torch.device('cuda:0')\n",
        "  # net.cuda()"
      ],
      "execution_count": null,
      "outputs": [
        {
          "name": "stdout",
          "output_type": "stream",
          "text": [
            "GPU : Tesla P100-PCIE-16GB\n"
          ]
        }
      ]
    },
    {
      "cell_type": "code",
      "metadata": {
        "colab": {
          "base_uri": "https://localhost:8080/",
          "height": 1000
        },
        "id": "kynpAwnlg0Ta",
        "outputId": "1bbc3f89-852c-4f2a-e1db-41d16b501618"
      },
      "source": [
        "#Opimizer\n",
        "criterion = torch.nn.L1Loss(reduction='sum').to(cuda0)\n",
        "optimizer = optim.Adam(net.parameters(), lr=0.0001, betas=(0.9, 0.999))\n",
        "\n",
        "myI = 0\n",
        "channels = 2\n",
        "iterations = []\n",
        "losses = []\n",
        "\n",
        "start_time = time.time()\n",
        "\n",
        "for epoch in range(3):  # loop over the dataset multiple times\n",
        "\n",
        "    running_loss = 0.0\n",
        "    for i, data in enumerate(trainloader):\n",
        "      \n",
        "        batch_imgs, batch_imgs_t, labels = data\n",
        "\n",
        "        optimizer.zero_grad()\n",
        "\n",
        "        # forward + backward + optimize\n",
        "        batch_imgs = batch_imgs.to(device=cuda0, dtype=torch.float) #Convert to torch cuda float\n",
        "        batch_imgs_t = batch_imgs_t.to(device=cuda0, dtype=torch.float)\n",
        "        # inputs = inputs.to(device=cuda0, dtype=torch.float) #Convert to torch cuda float\n",
        "        labels = labels.to(device=cuda0, dtype=torch.float)\n",
        "\n",
        "        outputs = net(batch_imgs, batch_imgs_t)\n",
        "\n",
        "        # outputs = outputs.reshape((5))\n",
        "        loss_dx = criterion(outputs[:, 0], labels[:, 0])\n",
        "        loss_dy = criterion(outputs[:, 1], labels[:, 1])\n",
        "        loss_theta = criterion(outputs[:, 2], labels[:, 2])\n",
        "        loss_sx = criterion(outputs[:, 3], labels[:, 3])\n",
        "        loss_sy = criterion(outputs[:, 4], labels[:, 4])\n",
        "\n",
        "        loss = criterion(outputs, labels)\n",
        "        loss.backward()\n",
        "        optimizer.step()\n",
        "\n",
        "        # print statistics\n",
        "        running_loss += loss.item()\n",
        "        # print(f'epoch = {epoch}, minibatch = {i}, loss = {loss.item()}')\n",
        "        myI += 1\n",
        "        \n",
        "        if myI % 3000 == 2999:\n",
        "          print('saving model')\n",
        "          PATH = os.path.join(PATH_TO_MODELS, f'm_{epoch}_{running_loss/10}.pth')\n",
        "          torch.save(net.state_dict(), PATH)\n",
        "\n",
        "        if i % 10 == 9:    # print every 2000 mini-batches\n",
        "            print('[%d, %5d] loss: %.3f' %\n",
        "                  (epoch + 1, i + 1, running_loss / 10))\n",
        "            print(f'dx loss = {loss_dx.item()}')\n",
        "            print(f'dy loss = {loss_dy.item()}')\n",
        "            print(f'theta loss = {loss_theta.item()}')\n",
        "            print(f'sx loss = {loss_sx.item()}')\n",
        "            print(f'sy loss = {loss_sy.item()}')\n",
        "            print('-----------------------------')\n",
        "            iterations.append(myI)\n",
        "            losses.append(running_loss/10)\n",
        "            running_loss = 0.0\n",
        "\n",
        "stop_time = time.time()\n",
        "print('Finished Training')\n",
        "print(f'Training took: {stop_time-start_time} s')\n",
        "# print(\"--- %s seconds ---\" % (time.time() - start_time))\n",
        "\n",
        "plt.plot(iterations, losses)\n",
        "plt.xlabel('epochs')\n",
        "plt.ylabel('L1 loss')\n",
        "plt.title(\"Training loss\")\n",
        "plt.show()"
      ],
      "execution_count": null,
      "outputs": [
        {
          "name": "stdout",
          "output_type": "stream",
          "text": [
            "[1,    10] loss: 7.527\n",
            "dx loss = 0.9463471174240112\n",
            "dy loss = 1.0465543270111084\n",
            "theta loss = 1.5473659038543701\n",
            "sx loss = 2.824314594268799\n",
            "sy loss = 1.1946687698364258\n",
            "-----------------------------\n",
            "[1,    20] loss: 7.044\n",
            "dx loss = 1.3994134664535522\n",
            "dy loss = 1.271262764930725\n",
            "theta loss = 1.7402088642120361\n",
            "sx loss = 1.447272777557373\n",
            "sy loss = 2.2723114490509033\n",
            "-----------------------------\n",
            "[1,    30] loss: 7.238\n",
            "dx loss = 1.5829410552978516\n",
            "dy loss = 1.4397327899932861\n",
            "theta loss = 1.6489765644073486\n",
            "sx loss = 2.995530128479004\n",
            "sy loss = 1.3145532608032227\n",
            "-----------------------------\n",
            "[1,    40] loss: 7.154\n",
            "dx loss = 0.7554236054420471\n",
            "dy loss = 2.1483302116394043\n",
            "theta loss = 1.7239794731140137\n",
            "sx loss = 2.258431911468506\n",
            "sy loss = 1.0220704078674316\n",
            "-----------------------------\n",
            "[1,    50] loss: 6.137\n",
            "dx loss = 1.0246922969818115\n",
            "dy loss = 1.3034236431121826\n",
            "theta loss = 2.0586023330688477\n",
            "sx loss = 0.8864272236824036\n",
            "sy loss = 0.7144353985786438\n",
            "-----------------------------\n",
            "[1,    60] loss: 5.378\n",
            "dx loss = 1.2106800079345703\n",
            "dy loss = 1.3774762153625488\n",
            "theta loss = 0.4034382402896881\n",
            "sx loss = 0.5437488555908203\n",
            "sy loss = 0.9199377298355103\n",
            "-----------------------------\n",
            "[1,    70] loss: 5.362\n",
            "dx loss = 1.6473476886749268\n",
            "dy loss = 2.5266613960266113\n",
            "theta loss = 0.5057938098907471\n",
            "sx loss = 0.7233543395996094\n",
            "sy loss = 0.7526875734329224\n",
            "-----------------------------\n",
            "[2,    10] loss: 4.348\n",
            "dx loss = 0.7530493140220642\n",
            "dy loss = 0.5911698341369629\n",
            "theta loss = 0.9584991931915283\n",
            "sx loss = 1.1639357805252075\n",
            "sy loss = 0.1569625735282898\n",
            "-----------------------------\n",
            "[2,    20] loss: 3.848\n",
            "dx loss = 1.017287015914917\n",
            "dy loss = 0.9545748829841614\n",
            "theta loss = 0.17287033796310425\n",
            "sx loss = 1.3529126644134521\n",
            "sy loss = 0.6856751441955566\n",
            "-----------------------------\n",
            "[2,    30] loss: 4.302\n",
            "dx loss = 1.7177166938781738\n",
            "dy loss = 1.4464952945709229\n",
            "theta loss = 0.5138779878616333\n",
            "sx loss = 0.27614256739616394\n",
            "sy loss = 0.9316337704658508\n",
            "-----------------------------\n",
            "[2,    40] loss: 3.350\n",
            "dx loss = 0.9343985319137573\n",
            "dy loss = 0.22408166527748108\n",
            "theta loss = 0.7469371557235718\n",
            "sx loss = 0.4252215325832367\n",
            "sy loss = 0.45010727643966675\n",
            "-----------------------------\n",
            "[2,    50] loss: 2.898\n",
            "dx loss = 0.4845234155654907\n",
            "dy loss = 0.30971768498420715\n",
            "theta loss = 0.6849230527877808\n",
            "sx loss = 0.37028804421424866\n",
            "sy loss = 0.4210541546344757\n",
            "-----------------------------\n",
            "[2,    60] loss: 2.893\n",
            "dx loss = 0.38571497797966003\n",
            "dy loss = 0.5137335062026978\n",
            "theta loss = 0.4776898920536041\n",
            "sx loss = 0.2822348475456238\n",
            "sy loss = 0.4059411287307739\n",
            "-----------------------------\n",
            "[2,    70] loss: 2.926\n",
            "dx loss = 0.2619987428188324\n",
            "dy loss = 1.1743743419647217\n",
            "theta loss = 0.3061712682247162\n",
            "sx loss = 0.7251151204109192\n",
            "sy loss = 0.2676156163215637\n",
            "-----------------------------\n",
            "[3,    10] loss: 2.626\n",
            "dx loss = 0.23817801475524902\n",
            "dy loss = 0.37489160895347595\n",
            "theta loss = 0.5044378638267517\n",
            "sx loss = 0.520408034324646\n",
            "sy loss = 0.18544894456863403\n",
            "-----------------------------\n",
            "[3,    20] loss: 4.182\n",
            "dx loss = 0.722925066947937\n",
            "dy loss = 0.25346335768699646\n",
            "theta loss = 0.7266433835029602\n",
            "sx loss = 0.5365634560585022\n",
            "sy loss = 0.4175436496734619\n",
            "-----------------------------\n",
            "[3,    30] loss: 2.945\n",
            "dx loss = 0.6473113894462585\n",
            "dy loss = 0.3745232820510864\n",
            "theta loss = 0.7226191759109497\n",
            "sx loss = 0.7405295372009277\n",
            "sy loss = 0.4065483808517456\n",
            "-----------------------------\n",
            "[3,    40] loss: 2.356\n",
            "dx loss = 0.7506023645401001\n",
            "dy loss = 0.8882907032966614\n",
            "theta loss = 0.5874167084693909\n",
            "sx loss = 0.33123499155044556\n",
            "sy loss = 0.4174998104572296\n",
            "-----------------------------\n",
            "[3,    50] loss: 2.674\n",
            "dx loss = 0.6331344842910767\n",
            "dy loss = 0.6685771942138672\n",
            "theta loss = 0.3091568946838379\n",
            "sx loss = 0.401905357837677\n",
            "sy loss = 0.318724662065506\n",
            "-----------------------------\n",
            "[3,    60] loss: 2.364\n",
            "dx loss = 0.7008253335952759\n",
            "dy loss = 0.4511619806289673\n",
            "theta loss = 0.3768891990184784\n",
            "sx loss = 0.26900914311408997\n",
            "sy loss = 0.23354071378707886\n",
            "-----------------------------\n",
            "[3,    70] loss: 2.319\n",
            "dx loss = 1.4000952243804932\n",
            "dy loss = 0.36848846077919006\n",
            "theta loss = 0.2554287612438202\n",
            "sx loss = 0.42818713188171387\n",
            "sy loss = 0.40159186720848083\n",
            "-----------------------------\n",
            "Finished Training\n",
            "Training took: 311.2649121284485 s\n"
          ]
        },
        {
          "data": {
            "image/png": "[encoded data removed]",
            "text/plain": [
              "<Figure size 432x288 with 1 Axes>"
            ]
          },
          "metadata": {},
          "output_type": "display_data"
        }
      ]
    },
    {
      "cell_type": "markdown",
      "metadata": {
        "id": "a1l4DvaGhXfz"
      },
      "source": [
        "# Experiments with image size"
      ]
    },
    {
      "cell_type": "markdown",
      "metadata": {
        "id": "ip6Cm4LzkWXI"
      },
      "source": [
        "## 128 X 128"
      ]
    },
    {
      "cell_type": "code",
      "metadata": {
        "colab": {
          "base_uri": "https://localhost:8080/"
        },
        "id": "etAGt7T6hU_Z",
        "outputId": "6aac6c57-b7c9-4cee-adb2-b1b9430ac65e"
      },
      "source": [
        "# Experiments with image size\n",
        "transform = transforms.Compose([\n",
        "                    transforms.ToPILImage(),\n",
        "                    transforms.Grayscale(1),\n",
        "                    transforms.Resize([128, 128]), #Resize to 128x128\n",
        "                    transforms.ColorJitter(brightness=(0.3,1), contrast=(0.3,1)),\n",
        "                    transforms.ToTensor(),\n",
        "                    transforms.Normalize(0.5, 0.5)])\n",
        "\n",
        "affine_dataset = AffineDataset(PATH_TO_ORIGINAL_IMGS, PATH_TO_TRANSLATED_IMGS, PATH_TO_LABELS, transform=transform, norm_out=True)\n",
        "\n",
        "print(f'Dataset size: {len(affine_dataset)}')\n",
        "\n",
        "trainloader = DataLoader(affine_dataset, batch_size=batch_size,\n",
        "                        shuffle=True, num_workers=0)"
      ],
      "execution_count": null,
      "outputs": [
        {
          "name": "stdout",
          "output_type": "stream",
          "text": [
            "Dataset size: 300\n"
          ]
        }
      ]
    },
    {
      "cell_type": "markdown",
      "metadata": {
        "id": "gyAiE1kHk66f"
      },
      "source": [
        "## AffineNet128"
      ]
    },
    {
      "cell_type": "code",
      "metadata": {
        "id": "_xD_U3jAk0xF"
      },
      "source": [
        "class AffineNet128(nn.Module):\n",
        "  def __init__(self,num_classes=5,activation='ReLU', batchNorm=False):\n",
        "    super(AffineNet128,self).__init__()\n",
        "\n",
        "    if activation == 'ReLU':\n",
        "      print('Using ReLU activation')\n",
        "      self.activation = nn.ReLU(inplace=True)\n",
        "    elif activation == 'PReLU':\n",
        "      print('Using PReLU activation')\n",
        "      self.activation = nn.PReLU()\n",
        "\n",
        "    self.batchNorm = batchNorm\n",
        "\n",
        "    # self.activation = nn.PRelU()\n",
        "    if self.batchNorm:\n",
        "      print('Using BatchNorm2D')\n",
        "      self.feature_extraction = nn.Sequential(\n",
        "        nn.Conv2d(in_channels=1,out_channels=96,kernel_size=11,stride=4,padding=2,bias=False),\n",
        "        nn.BatchNorm2d(96),\n",
        "        self.activation,\n",
        "        nn.MaxPool2d(kernel_size=3,stride=2,padding=0),\n",
        "\n",
        "        nn.Conv2d(in_channels=96,out_channels=192,kernel_size=5,stride=1,padding=2,bias=False),\n",
        "        nn.BatchNorm2d(192),\n",
        "        self.activation,\n",
        "        nn.MaxPool2d(kernel_size=3,stride=2,padding=0),\n",
        "\n",
        "        nn.Conv2d(in_channels=192,out_channels=384,kernel_size=3,stride=1,padding=1,bias=False),\n",
        "        nn.BatchNorm2d(384),\n",
        "        self.activation,\n",
        "\n",
        "        nn.Conv2d(in_channels=384,out_channels=256,kernel_size=3,stride=1,padding=1,bias=False),\n",
        "        nn.BatchNorm2d(256),\n",
        "        self.activation,\n",
        "    \n",
        "        nn.Conv2d(in_channels=256,out_channels=256,kernel_size=3,stride=1,padding=1,bias=False),\n",
        "        nn.BatchNorm2d(256),\n",
        "        self.activation,\n",
        "        nn.MaxPool2d(kernel_size=3, stride=2, padding=0)\n",
        "      )\n",
        "    else:\n",
        "      self.feature_extraction = nn.Sequential(\n",
        "        nn.Conv2d(in_channels=1,out_channels=96,kernel_size=11,stride=4,padding=2,bias=False),\n",
        "        self.activation,\n",
        "        nn.MaxPool2d(kernel_size=3,stride=2,padding=0),\n",
        "\n",
        "        nn.Conv2d(in_channels=96,out_channels=192,kernel_size=5,stride=1,padding=2,bias=False),\n",
        "        self.activation,\n",
        "        nn.MaxPool2d(kernel_size=3,stride=2,padding=0),\n",
        "\n",
        "        nn.Conv2d(in_channels=192,out_channels=384,kernel_size=3,stride=1,padding=1,bias=False),\n",
        "        self.activation,\n",
        "\n",
        "        nn.Conv2d(in_channels=384,out_channels=256,kernel_size=3,stride=1,padding=1,bias=False),\n",
        "        self.activation,\n",
        "    \n",
        "        nn.Conv2d(in_channels=256,out_channels=256,kernel_size=3,stride=1,padding=1,bias=False),\n",
        "        self.activation,\n",
        "        nn.MaxPool2d(kernel_size=3, stride=2, padding=0)\n",
        "      )\n",
        "\n",
        "    self.classifier = nn.Sequential(\n",
        "      # nn.Dropout(p=0.5),\n",
        "      # nn.Linear(in_features=4608,out_features=9216),\n",
        "\n",
        "      # self.activation,\n",
        "      # nn.Dropout(p=0.5),\n",
        "      # nn.Linear(in_features=9216,out_features=4096),\n",
        "      # self.activation,\n",
        "\n",
        "      nn.Dropout(p=0.5),\n",
        "      nn.Linear(in_features=4608, out_features=2048),\n",
        "      self.activation,\n",
        "\n",
        "      nn.Dropout(p=0.5),\n",
        "      nn.Linear(in_features=2048, out_features=1024),\n",
        "      self.activation,\n",
        "      nn.Linear(in_features=1024, out_features=num_classes),\n",
        "    )\n",
        "  def forward(self, x1, x2):\n",
        "    x1 = self.feature_extraction(x1)\n",
        "    x2 = self.feature_extraction(x2)\n",
        "    x = torch.cat((x1, x2), 1)\n",
        "    # x = x.view(x.size(0),256*6*6)\n",
        "    x = x.view(x.size(0),-1)\n",
        "    x = self.classifier(x)\n",
        "    return x\n"
      ],
      "execution_count": null,
      "outputs": []
    },
    {
      "cell_type": "markdown",
      "metadata": {
        "id": "SLzD2jYElDSx"
      },
      "source": [
        "## Train"
      ]
    },
    {
      "cell_type": "code",
      "metadata": {
        "colab": {
          "base_uri": "https://localhost:8080/",
          "height": 1000
        },
        "id": "TTUJMCFIlBIZ",
        "outputId": "46238ef2-f9e0-4fa4-f4d4-ec990578ba86"
      },
      "source": [
        "net = AffineNet128(activation='PReLU')\n",
        "# net = AffineNet()\n",
        "\n",
        "print('---------- Network initialized -------------')\n",
        "num_params = 0\n",
        "for param in net.parameters():\n",
        "  num_params += param.numel()\n",
        "print('[Network] Total number of parameters : %.3f M' % (num_params / 1e6))\n",
        "print('-----------------------------------------------')\n",
        "\n",
        "if torch.cuda.is_available():\n",
        "  print(f'GPU : {torch.cuda.get_device_name(0)}')\n",
        "  cuda0 = torch.device('cuda:0')\n",
        "  net.cuda()\n",
        "\n",
        "\n",
        "#Opimizer\n",
        "criterion = torch.nn.L1Loss(reduction='sum').to(cuda0)\n",
        "optimizer = optim.Adam(net.parameters(), lr=0.0001, betas=(0.9, 0.999))\n",
        "\n",
        "myI = 0\n",
        "channels = 2\n",
        "iterations = []\n",
        "losses = []\n",
        "\n",
        "start_time = time.time()\n",
        "\n",
        "for epoch in range(3):  # loop over the dataset multiple times\n",
        "\n",
        "    running_loss = 0.0\n",
        "    for i, data in enumerate(trainloader):\n",
        "      \n",
        "        batch_imgs, batch_imgs_t, labels = data\n",
        "\n",
        "        optimizer.zero_grad()\n",
        "\n",
        "        # forward + backward + optimize\n",
        "        batch_imgs = batch_imgs.to(device=cuda0, dtype=torch.float) #Convert to torch cuda float\n",
        "        batch_imgs_t = batch_imgs_t.to(device=cuda0, dtype=torch.float)\n",
        "        # inputs = inputs.to(device=cuda0, dtype=torch.float) #Convert to torch cuda float\n",
        "        labels = labels.to(device=cuda0, dtype=torch.float)\n",
        "\n",
        "        outputs = net(batch_imgs, batch_imgs_t)\n",
        "\n",
        "        # outputs = outputs.reshape((5))\n",
        "        loss_dx = criterion(outputs[:, 0], labels[:, 0])\n",
        "        loss_dy = criterion(outputs[:, 1], labels[:, 1])\n",
        "        loss_theta = criterion(outputs[:, 2], labels[:, 2])\n",
        "        loss_sx = criterion(outputs[:, 3], labels[:, 3])\n",
        "        loss_sy = criterion(outputs[:, 4], labels[:, 4])\n",
        "\n",
        "        loss = criterion(outputs, labels)\n",
        "        loss.backward()\n",
        "        optimizer.step()\n",
        "\n",
        "        # print statistics\n",
        "        running_loss += loss.item()\n",
        "        # print(f'epoch = {epoch}, minibatch = {i}, loss = {loss.item()}')\n",
        "        myI += 1\n",
        "        \n",
        "        if myI % 3000 == 2999:\n",
        "          print('saving model')\n",
        "          PATH = os.path.join(PATH_TO_MODELS, f'm_{epoch}_{running_loss/10}.pth')\n",
        "          torch.save(net.state_dict(), PATH)\n",
        "\n",
        "        if i % 10 == 9:    # print every 2000 mini-batches\n",
        "            print('[%d, %5d] loss: %.3f' %\n",
        "                  (epoch + 1, i + 1, running_loss / 10))\n",
        "            print(f'dx loss = {loss_dx.item()}')\n",
        "            print(f'dy loss = {loss_dy.item()}')\n",
        "            print(f'theta loss = {loss_theta.item()}')\n",
        "            print(f'sx loss = {loss_sx.item()}')\n",
        "            print(f'sy loss = {loss_sy.item()}')\n",
        "            print('-----------------------------')\n",
        "            iterations.append(myI)\n",
        "            losses.append(running_loss/10)\n",
        "            running_loss = 0.0\n",
        "\n",
        "stop_time = time.time()\n",
        "print('Finished Training')\n",
        "print(f'Training took: {stop_time-start_time} s')\n",
        "# print(\"--- %s seconds ---\" % (time.time() - start_time))\n",
        "\n",
        "plt.plot(iterations, losses)\n",
        "plt.xlabel('epochs')\n",
        "plt.ylabel('L1 loss')\n",
        "plt.title(\"Training loss\")\n",
        "plt.show()"
      ],
      "execution_count": null,
      "outputs": [
        {
          "name": "stdout",
          "output_type": "stream",
          "text": [
            "Using PReLU activation\n",
            "---------- Network initialized -------------\n",
            "[Network] Total number of parameters : 14.153 M\n",
            "-----------------------------------------------\n",
            "GPU : Tesla P100-PCIE-16GB\n",
            "[1,    10] loss: 6.635\n",
            "dx loss = 1.3177403211593628\n",
            "dy loss = 0.7330067157745361\n",
            "theta loss = 0.5935567021369934\n",
            "sx loss = 0.7041733264923096\n",
            "sy loss = 0.6789344549179077\n",
            "-----------------------------\n",
            "[1,    20] loss: 3.051\n",
            "dx loss = 0.546937108039856\n",
            "dy loss = 0.7718102931976318\n",
            "theta loss = 0.38238728046417236\n",
            "sx loss = 0.5680621266365051\n",
            "sy loss = 0.5068135857582092\n",
            "-----------------------------\n",
            "[1,    30] loss: 2.705\n",
            "dx loss = 0.524549126625061\n",
            "dy loss = 0.30708378553390503\n",
            "theta loss = 0.4154329001903534\n",
            "sx loss = 0.41251569986343384\n",
            "sy loss = 0.44734400510787964\n",
            "-----------------------------\n",
            "[1,    40] loss: 3.527\n",
            "dx loss = 0.32750117778778076\n",
            "dy loss = 0.5335623621940613\n",
            "theta loss = 0.20472437143325806\n",
            "sx loss = 0.20484423637390137\n",
            "sy loss = 0.4600142240524292\n",
            "-----------------------------\n",
            "[1,    50] loss: 3.072\n",
            "dx loss = 0.8235500454902649\n",
            "dy loss = 0.9099889993667603\n",
            "theta loss = 0.41068193316459656\n",
            "sx loss = 0.34187984466552734\n",
            "sy loss = 0.4554923474788666\n",
            "-----------------------------\n",
            "[1,    60] loss: 3.139\n",
            "dx loss = 0.499566912651062\n",
            "dy loss = 0.586205244064331\n",
            "theta loss = 0.9085235595703125\n",
            "sx loss = 0.7218360900878906\n",
            "sy loss = 1.0065350532531738\n",
            "-----------------------------\n",
            "[1,    70] loss: 3.574\n",
            "dx loss = 0.5715649127960205\n",
            "dy loss = 0.7769430875778198\n",
            "theta loss = 0.38362255692481995\n",
            "sx loss = 0.3980441987514496\n",
            "sy loss = 0.4833372235298157\n",
            "-----------------------------\n",
            "[2,    10] loss: 3.406\n",
            "dx loss = 0.6540770530700684\n",
            "dy loss = 0.7841783761978149\n",
            "theta loss = 0.7151088714599609\n",
            "sx loss = 0.7976851463317871\n",
            "sy loss = 0.6763546466827393\n",
            "-----------------------------\n",
            "[2,    20] loss: 2.529\n",
            "dx loss = 0.6356300711631775\n",
            "dy loss = 0.6223472356796265\n",
            "theta loss = 0.3945147395133972\n",
            "sx loss = 0.5125095844268799\n",
            "sy loss = 0.42581096291542053\n",
            "-----------------------------\n",
            "[2,    30] loss: 2.888\n",
            "dx loss = 0.676658034324646\n",
            "dy loss = 0.4770278334617615\n",
            "theta loss = 0.36287879943847656\n",
            "sx loss = 0.38834577798843384\n",
            "sy loss = 0.36906978487968445\n",
            "-----------------------------\n",
            "[2,    40] loss: 2.916\n",
            "dx loss = 0.8692893981933594\n",
            "dy loss = 0.1793273389339447\n",
            "theta loss = 0.7410675287246704\n",
            "sx loss = 0.5135759115219116\n",
            "sy loss = 0.43614909052848816\n",
            "-----------------------------\n",
            "[2,    50] loss: 2.570\n",
            "dx loss = 0.9487767219543457\n",
            "dy loss = 0.3868008852005005\n",
            "theta loss = 0.4892977178096771\n",
            "sx loss = 0.37040653824806213\n",
            "sy loss = 0.37018415331840515\n",
            "-----------------------------\n",
            "[2,    60] loss: 2.342\n",
            "dx loss = 0.5415224432945251\n",
            "dy loss = 0.591582715511322\n",
            "theta loss = 0.38726910948753357\n",
            "sx loss = 0.5893429517745972\n",
            "sy loss = 0.4984939992427826\n",
            "-----------------------------\n",
            "[2,    70] loss: 2.030\n",
            "dx loss = 0.2728829085826874\n",
            "dy loss = 0.4732985198497772\n",
            "theta loss = 0.2468995451927185\n",
            "sx loss = 0.27012842893600464\n",
            "sy loss = 0.16121217608451843\n",
            "-----------------------------\n",
            "[3,    10] loss: 1.761\n",
            "dx loss = 0.43730100989341736\n",
            "dy loss = 0.49938222765922546\n",
            "theta loss = 0.5727943181991577\n",
            "sx loss = 0.44606709480285645\n",
            "sy loss = 0.480673611164093\n",
            "-----------------------------\n",
            "[3,    20] loss: 2.206\n",
            "dx loss = 0.6207118034362793\n",
            "dy loss = 0.32062023878097534\n",
            "theta loss = 0.16230249404907227\n",
            "sx loss = 0.24503710865974426\n",
            "sy loss = 0.19692078232765198\n",
            "-----------------------------\n",
            "[3,    30] loss: 1.832\n",
            "dx loss = 0.5074231624603271\n",
            "dy loss = 0.401488721370697\n",
            "theta loss = 0.24964115023612976\n",
            "sx loss = 0.1738647222518921\n",
            "sy loss = 0.2253936529159546\n",
            "-----------------------------\n",
            "[3,    40] loss: 2.153\n",
            "dx loss = 0.567089855670929\n",
            "dy loss = 0.6582616567611694\n",
            "theta loss = 0.4781801998615265\n",
            "sx loss = 0.4678119719028473\n",
            "sy loss = 0.4218656122684479\n",
            "-----------------------------\n",
            "[3,    50] loss: 1.951\n",
            "dx loss = 0.4603259861469269\n",
            "dy loss = 0.4718884527683258\n",
            "theta loss = 0.3554183542728424\n",
            "sx loss = 0.48619791865348816\n",
            "sy loss = 0.4007819890975952\n",
            "-----------------------------\n",
            "[3,    60] loss: 2.386\n",
            "dx loss = 0.4779834449291229\n",
            "dy loss = 0.40189772844314575\n",
            "theta loss = 0.40775543451309204\n",
            "sx loss = 0.39773285388946533\n",
            "sy loss = 0.3813031315803528\n",
            "-----------------------------\n",
            "[3,    70] loss: 2.257\n",
            "dx loss = 0.5635438561439514\n",
            "dy loss = 1.033471941947937\n",
            "theta loss = 0.7277520895004272\n",
            "sx loss = 0.795147716999054\n",
            "sy loss = 0.6840846538543701\n",
            "-----------------------------\n",
            "Finished Training\n",
            "Training took: 313.1807415485382 s\n"
          ]
        },
        {
          "data": {
            "image/png": "[encoded data removed]",
            "text/plain": [
              "<Figure size 432x288 with 1 Axes>"
            ]
          },
          "metadata": {},
          "output_type": "display_data"
        }
      ]
    },
    {
      "cell_type": "markdown",
      "metadata": {
        "id": "VvUiU-sdnX3C"
      },
      "source": [
        "## 32 X 32"
      ]
    },
    {
      "cell_type": "code",
      "metadata": {
        "colab": {
          "base_uri": "https://localhost:8080/"
        },
        "id": "do9-ljq9nW2t",
        "outputId": "a82001ca-4d3c-4424-febb-114a799450c6"
      },
      "source": [
        "# Experiments with image size\n",
        "transform = transforms.Compose([\n",
        "                    transforms.ToPILImage(),\n",
        "                    transforms.Grayscale(1),\n",
        "                    transforms.Resize([32, 32]), #Resize to 32x32\n",
        "                    transforms.ColorJitter(brightness=(0.3,1), contrast=(0.3,1)),\n",
        "                    transforms.ToTensor(),\n",
        "                    transforms.Normalize(0.5, 0.5)])\n",
        "\n",
        "affine_dataset = AffineDataset(PATH_TO_ORIGINAL_IMGS, PATH_TO_TRANSLATED_IMGS, PATH_TO_LABELS, transform=transform, norm_out=True)\n",
        "\n",
        "print(f'Dataset size: {len(affine_dataset)}')\n",
        "\n",
        "trainloader = DataLoader(affine_dataset, batch_size=batch_size,\n",
        "                        shuffle=True, num_workers=0)"
      ],
      "execution_count": null,
      "outputs": [
        {
          "name": "stdout",
          "output_type": "stream",
          "text": [
            "Dataset size: 300\n"
          ]
        }
      ]
    },
    {
      "cell_type": "markdown",
      "metadata": {
        "id": "Dp0uxO9Mnt57"
      },
      "source": [
        "## AffineNet32"
      ]
    },
    {
      "cell_type": "code",
      "metadata": {
        "id": "E41VdlPdnpVN"
      },
      "source": [
        "class AffineNet32(nn.Module):\n",
        "  def __init__(self,num_classes=5,activation='ReLU', batchNorm=False):\n",
        "    super(AffineNet32,self).__init__()\n",
        "\n",
        "    if activation == 'ReLU':\n",
        "      print('Using ReLU activation')\n",
        "      self.activation = nn.ReLU(inplace=True)\n",
        "    elif activation == 'PReLU':\n",
        "      print('Using PReLU activation')\n",
        "      self.activation = nn.PReLU()\n",
        "\n",
        "    self.batchNorm = batchNorm\n",
        "\n",
        "    # self.activation = nn.PRelU()\n",
        "    if self.batchNorm:\n",
        "      print('Using BatchNorm2D')\n",
        "      self.feature_extraction = nn.Sequential(\n",
        "        nn.Conv2d(in_channels=1,out_channels=96,kernel_size=11,stride=4,padding=2,bias=False),\n",
        "        nn.BatchNorm2d(96),\n",
        "        self.activation,\n",
        "        nn.MaxPool2d(kernel_size=3,stride=2,padding=0),\n",
        "\n",
        "        nn.Conv2d(in_channels=96,out_channels=192,kernel_size=5,stride=1,padding=2,bias=False),\n",
        "        nn.BatchNorm2d(192),\n",
        "        self.activation,\n",
        "        nn.MaxPool2d(kernel_size=3,stride=2,padding=0),\n",
        "\n",
        "        nn.Conv2d(in_channels=192,out_channels=384,kernel_size=3,stride=1,padding=1,bias=False),\n",
        "        nn.BatchNorm2d(384),\n",
        "        self.activation,\n",
        "\n",
        "        nn.Conv2d(in_channels=384,out_channels=256,kernel_size=3,stride=1,padding=1,bias=False),\n",
        "        nn.BatchNorm2d(256),\n",
        "        self.activation,\n",
        "    \n",
        "        nn.Conv2d(in_channels=256,out_channels=256,kernel_size=3,stride=1,padding=1,bias=False),\n",
        "        nn.BatchNorm2d(256),\n",
        "        self.activation,\n",
        "        nn.MaxPool2d(kernel_size=3, stride=2, padding=0)\n",
        "      )\n",
        "    else:\n",
        "      self.feature_extraction = nn.Sequential(\n",
        "        nn.Conv2d(in_channels=1,out_channels=96,kernel_size=11,stride=4,padding=2,bias=False),\n",
        "        self.activation,\n",
        "        nn.MaxPool2d(kernel_size=3,stride=2,padding=0),\n",
        "\n",
        "        nn.Conv2d(in_channels=96,out_channels=192,kernel_size=5,stride=1,padding=2,bias=False),\n",
        "        self.activation,\n",
        "        nn.MaxPool2d(kernel_size=3,stride=2,padding=0),\n",
        "\n",
        "        # nn.Conv2d(in_channels=192,out_channels=384,kernel_size=3,stride=1,padding=1,bias=False),\n",
        "        # self.activation,\n",
        "\n",
        "        # nn.Conv2d(in_channels=384,out_channels=256,kernel_size=3,stride=1,padding=1,bias=False),\n",
        "        # self.activation,\n",
        "    \n",
        "        # nn.Conv2d(in_channels=256,out_channels=256,kernel_size=3,stride=1,padding=1,bias=False),\n",
        "        # self.activation,\n",
        "        # nn.MaxPool2d(kernel_size=3, stride=2, padding=0)\n",
        "      )\n",
        "\n",
        "    self.classifier = nn.Sequential(\n",
        "      # nn.Dropout(p=0.5),\n",
        "      # nn.Linear(in_features=4608,out_features=9216),\n",
        "\n",
        "      # self.activation,\n",
        "      # nn.Dropout(p=0.5),\n",
        "      # nn.Linear(in_features=9216,out_features=4096),\n",
        "      # self.activation,\n",
        "\n",
        "      nn.Dropout(p=0.5),\n",
        "      nn.Linear(in_features=384, out_features=256),\n",
        "      self.activation,\n",
        "\n",
        "      nn.Dropout(p=0.5),\n",
        "      nn.Linear(in_features=256, out_features=num_classes),\n",
        "      # self.activation,\n",
        "      # nn.Linear(in_features=1024, out_features=num_classes),\n",
        "    )\n",
        "  def forward(self, x1, x2):\n",
        "    x1 = self.feature_extraction(x1)\n",
        "    x2 = self.feature_extraction(x2)\n",
        "    x = torch.cat((x1, x2), 1)\n",
        "    # x = x.view(x.size(0),256*6*6)\n",
        "    x = x.view(x.size(0),-1)\n",
        "    x = self.classifier(x)\n",
        "    return x\n"
      ],
      "execution_count": null,
      "outputs": []
    },
    {
      "cell_type": "markdown",
      "metadata": {
        "id": "2-o7SDInoDv_"
      },
      "source": [
        "## Train"
      ]
    },
    {
      "cell_type": "code",
      "metadata": {
        "colab": {
          "base_uri": "https://localhost:8080/",
          "height": 1000
        },
        "id": "7P6dT0JhoB7B",
        "outputId": "bb6bd8ea-82ad-4796-dde6-e493d9b76e91"
      },
      "source": [
        "net = AffineNet32(activation='PReLU')\n",
        "# net = AffineNet()\n",
        "\n",
        "print('---------- Network initialized -------------')\n",
        "num_params = 0\n",
        "for param in net.parameters():\n",
        "  num_params += param.numel()\n",
        "print('[Network] Total number of parameters : %.3f M' % (num_params / 1e6))\n",
        "print('-----------------------------------------------')\n",
        "\n",
        "if torch.cuda.is_available():\n",
        "  print(f'GPU : {torch.cuda.get_device_name(0)}')\n",
        "  cuda0 = torch.device('cuda:0')\n",
        "  net.cuda()\n",
        "\n",
        "\n",
        "#Opimizer\n",
        "criterion = torch.nn.L1Loss(reduction='sum').to(cuda0)\n",
        "optimizer = optim.Adam(net.parameters(), lr=0.0001, betas=(0.9, 0.999))\n",
        "\n",
        "myI = 0\n",
        "channels = 2\n",
        "iterations = []\n",
        "losses = []\n",
        "\n",
        "start_time = time.time()\n",
        "\n",
        "for epoch in range(3):  # loop over the dataset multiple times\n",
        "\n",
        "    running_loss = 0.0\n",
        "    for i, data in enumerate(trainloader):\n",
        "      \n",
        "        batch_imgs, batch_imgs_t, labels = data\n",
        "\n",
        "        optimizer.zero_grad()\n",
        "\n",
        "        # forward + backward + optimize\n",
        "        batch_imgs = batch_imgs.to(device=cuda0, dtype=torch.float) #Convert to torch cuda float\n",
        "        batch_imgs_t = batch_imgs_t.to(device=cuda0, dtype=torch.float)\n",
        "        # inputs = inputs.to(device=cuda0, dtype=torch.float) #Convert to torch cuda float\n",
        "        labels = labels.to(device=cuda0, dtype=torch.float)\n",
        "\n",
        "        outputs = net(batch_imgs, batch_imgs_t)\n",
        "\n",
        "        # outputs = outputs.reshape((5))\n",
        "        loss_dx = criterion(outputs[:, 0], labels[:, 0])\n",
        "        loss_dy = criterion(outputs[:, 1], labels[:, 1])\n",
        "        loss_theta = criterion(outputs[:, 2], labels[:, 2])\n",
        "        loss_sx = criterion(outputs[:, 3], labels[:, 3])\n",
        "        loss_sy = criterion(outputs[:, 4], labels[:, 4])\n",
        "\n",
        "        loss = criterion(outputs, labels)\n",
        "        loss.backward()\n",
        "        optimizer.step()\n",
        "\n",
        "        # print statistics\n",
        "        running_loss += loss.item()\n",
        "        # print(f'epoch = {epoch}, minibatch = {i}, loss = {loss.item()}')\n",
        "        myI += 1\n",
        "        \n",
        "        if myI % 3000 == 2999:\n",
        "          print('saving model')\n",
        "          PATH = os.path.join(PATH_TO_MODELS, f'm_{epoch}_{running_loss/10}.pth')\n",
        "          torch.save(net.state_dict(), PATH)\n",
        "\n",
        "        if i % 10 == 9:    # print every 2000 mini-batches\n",
        "            print('[%d, %5d] loss: %.3f' %\n",
        "                  (epoch + 1, i + 1, running_loss / 10))\n",
        "            print(f'dx loss = {loss_dx.item()}')\n",
        "            print(f'dy loss = {loss_dy.item()}')\n",
        "            print(f'theta loss = {loss_theta.item()}')\n",
        "            print(f'sx loss = {loss_sx.item()}')\n",
        "            print(f'sy loss = {loss_sy.item()}')\n",
        "            print('-----------------------------')\n",
        "            iterations.append(myI)\n",
        "            losses.append(running_loss/10)\n",
        "            running_loss = 0.0\n",
        "\n",
        "stop_time = time.time()\n",
        "print('Finished Training')\n",
        "print(f'Training took: {stop_time-start_time} s')\n",
        "# print(\"--- %s seconds ---\" % (time.time() - start_time))\n",
        "\n",
        "plt.plot(iterations, losses)\n",
        "plt.xlabel('epochs')\n",
        "plt.ylabel('L1 loss')\n",
        "plt.title(\"Training loss\")\n",
        "plt.show()"
      ],
      "execution_count": null,
      "outputs": [
        {
          "name": "stdout",
          "output_type": "stream",
          "text": [
            "Using PReLU activation\n",
            "---------- Network initialized -------------\n",
            "[Network] Total number of parameters : 0.572 M\n",
            "-----------------------------------------------\n",
            "GPU : Tesla P100-PCIE-16GB\n",
            "[1,    10] loss: 8.674\n",
            "dx loss = 0.9452457427978516\n",
            "dy loss = 0.9136140942573547\n",
            "theta loss = 1.5838385820388794\n",
            "sx loss = 1.5937702655792236\n",
            "sy loss = 2.091655731201172\n",
            "-----------------------------\n",
            "[1,    20] loss: 5.962\n",
            "dx loss = 0.5910196304321289\n",
            "dy loss = 1.0306717157363892\n",
            "theta loss = 1.173002004623413\n",
            "sx loss = 1.210815191268921\n",
            "sy loss = 1.2913930416107178\n",
            "-----------------------------\n",
            "[1,    30] loss: 3.671\n",
            "dx loss = 0.6924576759338379\n",
            "dy loss = 0.7654312252998352\n",
            "theta loss = 0.5890620350837708\n",
            "sx loss = 0.5581524968147278\n",
            "sy loss = 0.7940968871116638\n",
            "-----------------------------\n",
            "[1,    40] loss: 3.814\n",
            "dx loss = 0.7408137917518616\n",
            "dy loss = 0.7033814191818237\n",
            "theta loss = 0.6028324365615845\n",
            "sx loss = 0.5574008226394653\n",
            "sy loss = 1.0124790668487549\n",
            "-----------------------------\n",
            "[1,    50] loss: 3.583\n",
            "dx loss = 0.5131404399871826\n",
            "dy loss = 0.6510155200958252\n",
            "theta loss = 0.40225857496261597\n",
            "sx loss = 0.448409765958786\n",
            "sy loss = 0.33038637042045593\n",
            "-----------------------------\n",
            "[1,    60] loss: 3.649\n",
            "dx loss = 0.43995076417922974\n",
            "dy loss = 0.5920810103416443\n",
            "theta loss = 0.6232300996780396\n",
            "sx loss = 1.0805721282958984\n",
            "sy loss = 1.1810364723205566\n",
            "-----------------------------\n",
            "[1,    70] loss: 3.772\n",
            "dx loss = 0.7823578119277954\n",
            "dy loss = 0.8845040798187256\n",
            "theta loss = 0.47002044320106506\n",
            "sx loss = 0.8599483966827393\n",
            "sy loss = 0.6855378150939941\n",
            "-----------------------------\n",
            "[2,    10] loss: 3.793\n",
            "dx loss = 0.38558056950569153\n",
            "dy loss = 0.7008142471313477\n",
            "theta loss = 0.7264376282691956\n",
            "sx loss = 0.8147313594818115\n",
            "sy loss = 0.4748336672782898\n",
            "-----------------------------\n",
            "[2,    20] loss: 3.535\n",
            "dx loss = 1.238849401473999\n",
            "dy loss = 0.3895397186279297\n",
            "theta loss = 0.42212212085723877\n",
            "sx loss = 0.6646124124526978\n",
            "sy loss = 0.9914062023162842\n",
            "-----------------------------\n",
            "[2,    30] loss: 3.811\n",
            "dx loss = 1.028551459312439\n",
            "dy loss = 0.4755042493343353\n",
            "theta loss = 0.7522923350334167\n",
            "sx loss = 0.894783616065979\n",
            "sy loss = 1.0645854473114014\n",
            "-----------------------------\n",
            "[2,    40] loss: 3.241\n",
            "dx loss = 0.4553559422492981\n",
            "dy loss = 0.9322454929351807\n",
            "theta loss = 0.3448966443538666\n",
            "sx loss = 0.6661313772201538\n",
            "sy loss = 0.5230170488357544\n",
            "-----------------------------\n",
            "[2,    50] loss: 3.047\n",
            "dx loss = 0.5846154093742371\n",
            "dy loss = 0.5034090876579285\n",
            "theta loss = 0.42197126150131226\n",
            "sx loss = 0.7100018262863159\n",
            "sy loss = 0.36034414172172546\n",
            "-----------------------------\n",
            "[2,    60] loss: 3.718\n",
            "dx loss = 0.7118958234786987\n",
            "dy loss = 0.9776157140731812\n",
            "theta loss = 0.5362648367881775\n",
            "sx loss = 0.4659150242805481\n",
            "sy loss = 0.5863659381866455\n",
            "-----------------------------\n",
            "[2,    70] loss: 3.402\n",
            "dx loss = 0.4483899474143982\n",
            "dy loss = 0.7628560066223145\n",
            "theta loss = 0.3905264139175415\n",
            "sx loss = 0.2837228775024414\n",
            "sy loss = 0.2993214428424835\n",
            "-----------------------------\n",
            "[3,    10] loss: 3.842\n",
            "dx loss = 0.328682541847229\n",
            "dy loss = 0.46774670481681824\n",
            "theta loss = 1.0674314498901367\n",
            "sx loss = 0.5449492335319519\n",
            "sy loss = 0.8253836035728455\n",
            "-----------------------------\n",
            "[3,    20] loss: 3.423\n",
            "dx loss = 0.6475300788879395\n",
            "dy loss = 0.49170154333114624\n",
            "theta loss = 0.8838123083114624\n",
            "sx loss = 0.841873288154602\n",
            "sy loss = 0.5162210464477539\n",
            "-----------------------------\n",
            "[3,    30] loss: 3.034\n",
            "dx loss = 0.37055814266204834\n",
            "dy loss = 0.518220067024231\n",
            "theta loss = 0.5314698815345764\n",
            "sx loss = 0.6308422684669495\n",
            "sy loss = 0.37750115990638733\n",
            "-----------------------------\n",
            "[3,    40] loss: 3.402\n",
            "dx loss = 0.500136137008667\n",
            "dy loss = 0.6588433384895325\n",
            "theta loss = 0.7951748967170715\n",
            "sx loss = 0.43444547057151794\n",
            "sy loss = 0.4576019048690796\n",
            "-----------------------------\n",
            "[3,    50] loss: 3.355\n",
            "dx loss = 0.6125799417495728\n",
            "dy loss = 0.32801514863967896\n",
            "theta loss = 0.43593886494636536\n",
            "sx loss = 0.37436044216156006\n",
            "sy loss = 0.5739642381668091\n",
            "-----------------------------\n",
            "[3,    60] loss: 3.406\n",
            "dx loss = 0.4761536717414856\n",
            "dy loss = 1.272072434425354\n",
            "theta loss = 0.4623156487941742\n",
            "sx loss = 0.6567956209182739\n",
            "sy loss = 0.4600996673107147\n",
            "-----------------------------\n",
            "[3,    70] loss: 3.659\n",
            "dx loss = 0.9791285991668701\n",
            "dy loss = 0.8361939787864685\n",
            "theta loss = 0.9793630242347717\n",
            "sx loss = 0.6061282753944397\n",
            "sy loss = 0.641761839389801\n",
            "-----------------------------\n",
            "Finished Training\n",
            "Training took: 281.4920744895935 s\n"
          ]
        },
        {
          "data": {
            "image/png": "[encoded data removed]",
            "text/plain": [
              "<Figure size 432x288 with 1 Axes>"
            ]
          },
          "metadata": {},
          "output_type": "display_data"
        }
      ]
    }
  ]
}