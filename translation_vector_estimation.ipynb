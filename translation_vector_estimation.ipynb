{
  "nbformat": 4,
  "nbformat_minor": 0,
  "metadata": {
    "colab": {
      "name": "translation_vector_estimation.ipynb",
      "provenance": [],
      "collapsed_sections": [],
      "include_colab_link": true
    },
    "kernelspec": {
      "name": "python3",
      "display_name": "Python 3"
    },
    "language_info": {
      "name": "python"
    },
    "accelerator": "GPU"
  },
  "cells": [
    {
      "cell_type": "markdown",
      "metadata": {
        "id": "view-in-github",
        "colab_type": "text"
      },
      "source": [
        "<a href=\"https://colab.research.google.com/github/PascalPolygon/AffineCNN/blob/main/translation_vector_estimation.ipynb\" target=\"_parent\"><img src=\"https://colab.research.google.com/assets/colab-badge.svg\" alt=\"Open In Colab\"/></a>"
      ]
    },
    {
      "cell_type": "markdown",
      "metadata": {
        "id": "0aZSYa6KnSG0"
      },
      "source": [
        "# **CSE 5290: Translation Vector Estimation (Graduate Student Project)**\n",
        "Pascal Dao (pdao2015@my.fit.edu) and Ruksana Kabealo (rkabealo@my.fit.edu) \\\n",
        "Florida Institute of Technology — September 11th, 2021 through XXXXX"
      ]
    },
    {
      "cell_type": "markdown",
      "metadata": {
        "id": "L9afAMM6nbCK"
      },
      "source": [
        "This code generates the \"Shape Movements Dataset\" - a dataset of various 2D shapes experiencing the following affine transformations: translation, rotation, and scaling. \n",
        "\n",
        "This becomes a 6 Degrees of Freedom system. As such, we save our transformation as the 6 usable values from the affine matrix: a, b, c, d, e, and f. \n",
        "\n",
        "We will be using matplotlib to generate the shapes. "
      ]
    },
    {
      "cell_type": "markdown",
      "metadata": {
        "id": "gO8xLuGSFh6m"
      },
      "source": [
        "**TODO: **\n",
        "\n",
        "Ruksana: \n",
        "* given a bounding box, generate a randomly sized polygon at a random center POINT within (make sure to check appropriately to make sure it's not initially generated offscreen) \n",
        "* somehow pass the max ability to be translated to the translation function so it's distribution changes and it never moves the polygon off screen \n",
        "* figure out how to incorporate curved polygons into generated translations \n",
        "\n",
        "Pascal: \n",
        "* fix the data loader problems\n",
        "* start working on setting up the online transformations code \n",
        "\n",
        "For the meeting\n",
        "* Decide on an image width/height and stick to it"
      ]
    },
    {
      "cell_type": "markdown",
      "metadata": {
        "id": "0u_f1CGTA8yb"
      },
      "source": [
        "## Code"
      ]
    },
    {
      "cell_type": "markdown",
      "metadata": {
        "id": "S5W9w8jZA8yc"
      },
      "source": [
        "### Imports and Configuration"
      ]
    },
    {
      "cell_type": "markdown",
      "metadata": {
        "id": "Ds2V6oGKA8ye"
      },
      "source": [
        "Import necessary libraries. "
      ]
    },
    {
      "cell_type": "code",
      "metadata": {
        "id": "71m9xz5UA8yf"
      },
      "source": [
        "# Imports\n",
        "#from ipycanvas import Canvas, hold_canvas, MultiCanvas\n",
        "import math \n",
        "import numpy as np\n",
        "from numpy.random import default_rng\n",
        "import csv\n",
        "import random\n",
        "import matplotlib.pyplot as plt\n",
        "from matplotlib.patches import Polygon, Arc, Ellipse, RegularPolygon, PathPatch\n",
        "import matplotlib.path as mpath \n",
        "import bisect \n",
        "import operator\n",
        "import collections\n",
        "from google.colab import drive\n",
        "import os\n",
        "import torch\n",
        "import torchvision\n",
        "import torchvision.transforms as transforms\n",
        "from torchvision.io import read_image\n",
        "from torch.utils.data import Dataset, DataLoader\n",
        "import torch.nn as nn\n",
        "from torch.autograd import Variable\n",
        "import torch.nn.functional as F\n",
        "import torch.optim as optim"
      ],
      "execution_count": 23,
      "outputs": []
    },
    {
      "cell_type": "markdown",
      "metadata": {
        "id": "TSQiE00TA8yi"
      },
      "source": [
        "Set up where we'll be saving the data."
      ]
    },
    {
      "cell_type": "code",
      "metadata": {
        "colab": {
          "base_uri": "https://localhost:8080/"
        },
        "id": "U5_odavnUDlk",
        "outputId": "d8c10408-e361-467a-b2e7-efd2aec5652b"
      },
      "source": [
        "drive.mount('/content/drive')"
      ],
      "execution_count": 5,
      "outputs": [
        {
          "output_type": "stream",
          "name": "stdout",
          "text": [
            "Mounted at /content/drive\n"
          ]
        }
      ]
    },
    {
      "cell_type": "code",
      "metadata": {
        "id": "TZIMKAPvT_N7"
      },
      "source": [
        "PATH_TO_ORIGINAL_IMGS = '/content/drive/MyDrive/translation_vector_estimation_project/data/input/original'\n",
        "PATH_TO_TRANSLATED_IMGS = '/content/drive/MyDrive/translation_vector_estimation_project/data/input/translated'\n",
        "PATH_TO_LABELS = '/content/drive/MyDrive/translation_vector_estimation_project/data/labels'"
      ],
      "execution_count": 6,
      "outputs": []
    },
    {
      "cell_type": "markdown",
      "metadata": {
        "id": "h54UGjenA8yl"
      },
      "source": [
        "Create default dimensions for the images. "
      ]
    },
    {
      "cell_type": "code",
      "metadata": {
        "id": "rx8zryPRA8ym"
      },
      "source": [
        "# Image dimensions \n",
        "IMG_WIDTH = 256\n",
        "X_AXIS_LIM = IMG_WIDTH/2\n",
        "IMG_HEIGHT = 256\n",
        "Y_AXIS_LIM = IMG_HEIGHT/2\n",
        "MIN_RADIUS = 12\n",
        "MAX_RADIUS = 128"
      ],
      "execution_count": 7,
      "outputs": []
    },
    {
      "cell_type": "markdown",
      "metadata": {
        "id": "QUilIoQGTA9T"
      },
      "source": [
        "## Shape Generation"
      ]
    },
    {
      "cell_type": "markdown",
      "metadata": {
        "id": "QoB_wkpkTA9U"
      },
      "source": [
        "\n",
        "TODO: explain further the decision making process behind what we're doing. Why these categories. \n",
        "\n",
        "The different types of shapes considered for this project are: \n",
        "* Regular polygons \n",
        "* Ellipses\n",
        "* Randomly generated convex polygons (using Valtr's algorithm)\n",
        "* Randomly generated with random curve incorporation (matplotlib path + bezel curves 3 and 4) \n",
        "\n",
        "We developed the code for generating these different types of shapes."
      ]
    },
    {
      "cell_type": "markdown",
      "metadata": {
        "id": "m8V6gPBlTA9U"
      },
      "source": [
        "### Regular Polygon Generation"
      ]
    },
    {
      "cell_type": "markdown",
      "metadata": {
        "id": "1SN6qSt6TA9U"
      },
      "source": [
        "#### Generation Function"
      ]
    },
    {
      "cell_type": "code",
      "metadata": {
        "id": "AGVpSQNBTA9U"
      },
      "source": [
        "\"\"\"\n",
        "This function takes in: \n",
        "* the center coordinates (x and y)\n",
        "* a radius length\n",
        "* the number of points for the polygon \n",
        "\n",
        "and returns: \n",
        "* a regular n-sided polygon with the specified radius\n",
        "\"\"\"\n",
        "def generate_regular_polygon(center_x, center_y, number_of_points):\n",
        "    # Check for invalid input\n",
        "    if number_of_points <= 2: \n",
        "        print(\"Invalid number of points!\")\n",
        "        return -1\n",
        "    else: \n",
        "        p = RegularPolygon((center_x, center_y), number_of_points, radius, facecolor='k')\n",
        "        return p"
      ],
      "execution_count": null,
      "outputs": []
    },
    {
      "cell_type": "markdown",
      "metadata": {
        "id": "KR2kPEsYTA9V"
      },
      "source": [
        "#### Example"
      ]
    },
    {
      "cell_type": "markdown",
      "metadata": {
        "id": "hiQ6B9NeURcm"
      },
      "source": [
        "Below is an example of generating a regular 6-sided polygon. "
      ]
    },
    {
      "cell_type": "code",
      "metadata": {
        "id": "e1o1Ef96TA9V",
        "colab": {
          "base_uri": "https://localhost:8080/",
          "height": 234
        },
        "outputId": "5e0a129a-990f-462e-c0fd-61460a8b97f1"
      },
      "source": [
        "\"\"\"\n",
        "Get the vertices for a 6-sided polygon centered around (0,0) that has the radius specified \n",
        "\"\"\"\n",
        "example_regular_6_side_poly = generate_regular_polygon(0, 0, 6)\n",
        "\n",
        "# Create figure \n",
        "fig, axs = plt.subplots(ncols=2, figsize=(10,5))\n",
        "padding = 15\n",
        "\n",
        "# Plot the 6-sided polygon as a list of points \n",
        "axs[0].set_xlim([-X_AXIS_LIM, X_AXIS_LIM])\n",
        "axs[0].set_ylim([-Y_AXIS_LIM, Y_AXIS_LIM])\n",
        "\n",
        "vertices = example_regular_6_side_poly.get_path().vertices\n",
        "trans = example_regular_6_side_poly.get_patch_transform()\n",
        "points = trans.transform(vertices)\n",
        "\n",
        "pts = list(zip(*points))\n",
        "axs[0].scatter(pts[0],pts[1], c='k')\n",
        "\n",
        "# Plot the 6-sided polygon as a filled-in shape \n",
        "axs[1].set_xlim([-50, 50])\n",
        "axs[1].set_ylim([-50, 50])\n",
        "axs[1].add_patch(example_regular_6_side_poly)\n",
        "\n",
        "plt.show()"
      ],
      "execution_count": null,
      "outputs": [
        {
          "output_type": "error",
          "ename": "TypeError",
          "evalue": "ignored",
          "traceback": [
            "\u001b[0;31m---------------------------------------------------------------------------\u001b[0m",
            "\u001b[0;31mTypeError\u001b[0m                                 Traceback (most recent call last)",
            "\u001b[0;32m<ipython-input-21-7522200b46e1>\u001b[0m in \u001b[0;36m<module>\u001b[0;34m()\u001b[0m\n\u001b[1;32m      2\u001b[0m \u001b[0mGet\u001b[0m \u001b[0mthe\u001b[0m \u001b[0mvertices\u001b[0m \u001b[0;32mfor\u001b[0m \u001b[0ma\u001b[0m \u001b[0;36m6\u001b[0m\u001b[0;34m-\u001b[0m\u001b[0msided\u001b[0m \u001b[0mpolygon\u001b[0m \u001b[0mcentered\u001b[0m \u001b[0maround\u001b[0m \u001b[0;34m(\u001b[0m\u001b[0;36m0\u001b[0m\u001b[0;34m,\u001b[0m\u001b[0;36m0\u001b[0m\u001b[0;34m)\u001b[0m \u001b[0mthat\u001b[0m \u001b[0mhas\u001b[0m \u001b[0mthe\u001b[0m \u001b[0mradius\u001b[0m \u001b[0mspecified\u001b[0m\u001b[0;34m\u001b[0m\u001b[0;34m\u001b[0m\u001b[0m\n\u001b[1;32m      3\u001b[0m \"\"\"\n\u001b[0;32m----> 4\u001b[0;31m \u001b[0mexample_regular_6_side_poly\u001b[0m \u001b[0;34m=\u001b[0m \u001b[0mgenerate_regular_polygon\u001b[0m\u001b[0;34m(\u001b[0m\u001b[0;36m0\u001b[0m\u001b[0;34m,\u001b[0m \u001b[0;36m0\u001b[0m\u001b[0;34m,\u001b[0m \u001b[0;36m6\u001b[0m\u001b[0;34m)\u001b[0m\u001b[0;34m\u001b[0m\u001b[0;34m\u001b[0m\u001b[0m\n\u001b[0m\u001b[1;32m      5\u001b[0m \u001b[0;34m\u001b[0m\u001b[0m\n\u001b[1;32m      6\u001b[0m \u001b[0;31m# Create figure\u001b[0m\u001b[0;34m\u001b[0m\u001b[0;34m\u001b[0m\u001b[0;34m\u001b[0m\u001b[0m\n",
            "\u001b[0;31mTypeError\u001b[0m: generate_regular_polygon() missing 1 required positional argument: 'number_of_points'"
          ]
        }
      ]
    },
    {
      "cell_type": "markdown",
      "metadata": {
        "id": "TA7rLqI3TA9X"
      },
      "source": [
        "### Ellipse Polygon Generation"
      ]
    },
    {
      "cell_type": "markdown",
      "metadata": {
        "id": "IOcP2_-0TA9X"
      },
      "source": [
        "#### Generation Function"
      ]
    },
    {
      "cell_type": "code",
      "metadata": {
        "id": "TlVEk56ZTA9Y"
      },
      "source": [
        "\"\"\"\n",
        "This function takes in: \n",
        "* the center coordinates (x and y)\n",
        "* a maximum width \n",
        "* a maximum height \n",
        "\n",
        "and returns: \n",
        "* an ellipse patch centered at (x,y) with a random width between \n",
        "[max_width/10, max_width] and a random height between [max_height/10, max_height] \n",
        "and with a random tilt between [0,360] degrees\n",
        "\"\"\"\n",
        "def generate_ellipse(center_x, center_y, max_width, max_height):\n",
        "    # Minimum size is a 10th of the space it could be generated in\n",
        "    random_width = np.random.randint(max_width/10, max_width)\n",
        "    random_height = np.random.randint(max_height/10, max_height)\n",
        "    \n",
        "    # We can't have the randomly generated width/height ending up too close together \n",
        "    # If they do - our ellipse will look too much like a circle for our algorithm to distinguish \n",
        "    # Let's ensure that the randomly generated ellipse never exceeds 1:2/2:1 width:height/height:width ratio \n",
        "    while abs(random_width/random_height) > 1/2 and abs(random_width/random_height) < 2/1:\n",
        "        random_width = np.random.randint(max_width/10, max_width)\n",
        "        random_height = np.random.randint(max_height/10, max_height)\n",
        "    \n",
        "    # Generate a random tilt \n",
        "    random_tilt = np.random.randint(0, 360)\n",
        "    \n",
        "    # Compile the final patch\n",
        "    e = Ellipse((center_x, center_y), random_width, random_height, angle=random_tilt, facecolor='k',fill=True)\n",
        "    \n",
        "    return e"
      ],
      "execution_count": null,
      "outputs": []
    },
    {
      "cell_type": "markdown",
      "metadata": {
        "id": "3iNPN9scTA9Y"
      },
      "source": [
        "#### Example"
      ]
    },
    {
      "cell_type": "code",
      "metadata": {
        "id": "_e-Y4EIJTA9Z",
        "outputId": "9021b7c8-1a9d-4653-9e36-8076f86a90c5"
      },
      "source": [
        "\"\"\"\n",
        "Get the vertices for an ellipse centered around (0,0) that is contained within -25 and +25 on the x-axis \n",
        "and -25 and +25 on the y-axis\n",
        "\"\"\"\n",
        "example_ellipse = generate_ellipse(0, 0, 50, 50)\n",
        "\n",
        "# Create figure \n",
        "fig, axs = plt.subplots(ncols=2, figsize=(10,5))\n",
        "\n",
        "# Plot the 6-sided polygon as a list of points \n",
        "axs[0].set_xlim([-50, 50])\n",
        "axs[0].set_ylim([-50, 50])\n",
        "\n",
        "verts = example_ellipse.get_path().vertices\n",
        "trans = example_ellipse.get_patch_transform()\n",
        "points = trans.transform(verts)\n",
        "\n",
        "pts = list(zip(*points))\n",
        "axs[0].scatter(pts[0],pts[1], c='k')\n",
        "\n",
        "# Plot the ellipse as a filled-in shape \n",
        "axs[1].set_xlim([-50, 50])\n",
        "axs[1].set_ylim([-50, 50])\n",
        "axs[1].add_patch(example_ellipse)\n",
        "\n",
        "plt.show()"
      ],
      "execution_count": null,
      "outputs": [
        {
          "data": {
            "image/png": "[encoded data removed]",
            "text/plain": [
              "<Figure size 720x360 with 2 Axes>"
            ]
          },
          "metadata": {
            "needs_background": "light"
          },
          "output_type": "display_data"
        }
      ]
    },
    {
      "cell_type": "markdown",
      "metadata": {
        "id": "j6gC3k-GTA9Z"
      },
      "source": [
        "### Randomly Generated Convex Polygon Generation (Valtr's Algorithm)"
      ]
    },
    {
      "cell_type": "markdown",
      "metadata": {
        "id": "_zFYdLjlTA9a"
      },
      "source": [
        "TODO: Credit Valt'rs algorithm to the right source"
      ]
    },
    {
      "cell_type": "markdown",
      "metadata": {
        "id": "DzU1CGlWTA9a"
      },
      "source": [
        "#### Generation Function"
      ]
    },
    {
      "cell_type": "code",
      "metadata": {
        "id": "sWCmPfvqTA9a"
      },
      "source": [
        "\"\"\"\n",
        "This function takes in: \n",
        "* the center coordinates (x and y) of some area to generate the polygon within \n",
        "* the width of the area to generate the polygon within \n",
        "* the height of the area to generate the polygon within \n",
        "* the number of points for the polygon \n",
        "\n",
        "and returns: \n",
        "* the vertices for a randomly generated convex polygon - in counterclockwise order of the convex hull \n",
        "\"\"\"\n",
        "def generate_random_convex_polygon(center_x, center_y, max_width, max_height, number_of_points):\n",
        "    # Figure out the bounding box for where we're generating this arbitrary polygon \n",
        "    min_x = center_x - (max_width / 2.0) \n",
        "    max_x = center_x + (max_width / 2.0) \n",
        "    min_y = center_y - (max_height / 2.0)\n",
        "    max_y = center_y + (max_height / 2.0)\n",
        "    \n",
        "#     print(\"\"\"Creating bounding box from {min_x} to {max_x} in the x-direction and {min_y} to {max_y} in the y-direction\"\"\".format(min_x=min_x, max_x=max_x, min_y=min_y, max_y=max_y))\n",
        "    \n",
        "    # Generate two sorted lists of random x and y coordinates \n",
        "    random_x_coordinates = np.sort(np.random.randint(min_x, max_x, size=number_of_points))\n",
        "    random_y_coordinates = np.sort(np.random.randint(min_y, max_y, size=number_of_points))\n",
        "    \n",
        "#     print(\"Randomly generated x coordinates: {lx}\".format(lx=str(random_x_coordinates)))\n",
        "#     print(\"Randomly generated y coordinates: {ly}\".format(ly=str(random_y_coordinates)))\n",
        "    \n",
        "    # Get the biggest and smallest values (the \"extreme\" points)\n",
        "    # The list is sorted - so we can grab the first and last elements\n",
        "    max_x = random_x_coordinates[-1]\n",
        "    max_y = random_y_coordinates[-1]\n",
        "    min_x = random_x_coordinates[0]\n",
        "    min_y = random_y_coordinates[0]\n",
        "    \n",
        "#     print(\"Extreme x coordinates: {min_x} (smallest) and {max_x} (biggest)\".format(min_x=min_x, max_x=max_x))\n",
        "#     print(\"Extreme x coordinates: {min_y} (smallest) and {max_y} (biggest)\".format(min_y=min_y, max_y=max_y))\n",
        "    \n",
        "    # Randomly divide the non-extreme points into two chains\n",
        "    # Extreme are found at 0 and at len-1 \n",
        "    x_vec = np.empty(number_of_points)\n",
        "    y_vec = np.empty(number_of_points)\n",
        "    \n",
        "    # x vector \n",
        "    last_seen_top = min_x\n",
        "    last_seen_bottom = min_x\n",
        "    \n",
        "    # For each non-extreme point...\n",
        "    for i in range(1, number_of_points - 1):\n",
        "        x = random_x_coordinates[i]\n",
        "        \n",
        "        if(bool(random.randrange(2))): \n",
        "            x_vec[i - 1] = x - last_seen_top\n",
        "            last_seen_top = x\n",
        "        else: \n",
        "            x_vec[i - 1] = last_seen_bottom - x \n",
        "            last_seen_bottom = x\n",
        "           \n",
        "    x_vec[number_of_points - 2] = max_x - last_seen_top \n",
        "    x_vec[number_of_points - 1] = last_seen_bottom - max_x\n",
        "    \n",
        "    # y vector \n",
        "    last_seen_right = min_y\n",
        "    last_seen_left = min_y\n",
        "    \n",
        "    for i in range(1, number_of_points - 1):\n",
        "        temp_y = random_y_coordinates[i]\n",
        "        \n",
        "        if(bool(random.randrange(2))): \n",
        "            y_vec[i - 1] = temp_y - last_seen_left\n",
        "            last_seen_left = temp_y\n",
        "        else:\n",
        "            y_vec[i - 1] = last_seen_right - temp_y\n",
        "            last_seen_right = temp_y\n",
        "    \n",
        "    y_vec[number_of_points - 2] = max_y - last_seen_left\n",
        "    y_vec[number_of_points - 1] = last_seen_right - max_y\n",
        "    \n",
        "    # Randomly pair the x and ys \n",
        "    random.shuffle(y_vec)\n",
        "    \n",
        "    # Combine the paired up components into vectors\n",
        "    def find_vector_angle(v): \n",
        "        return math.atan2(v[1], v[0]) \n",
        "    \n",
        "    # Sort the vectors by angle\n",
        "    vectors = np.array(sorted(zip(x_vec, y_vec), key = find_vector_angle))\n",
        "    \n",
        "#     print(\"VECTORS:\")\n",
        "#     print(vectors)\n",
        "\n",
        "    # Lay them end-to-end\n",
        "    new_x = 0 \n",
        "    new_y = 0 \n",
        "    min_polygon_x = 0 \n",
        "    min_polygon_y = 0\n",
        "    \n",
        "    points = []\n",
        "\n",
        "    for vector_x, vector_y in vectors: \n",
        "        points.append((new_x, new_y))\n",
        "        \n",
        "        new_x += vector_x\n",
        "        new_y += vector_y\n",
        "        \n",
        "        min_polygon_x = min(min_polygon_x, new_x)\n",
        "        min_polygon_y = min(min_polygon_y, new_y)\n",
        "        \n",
        "        \n",
        "    # Move the polygon to the original min and max coordinates\n",
        "    shift_x = min_x - min_polygon_x;\n",
        "    shift_y = min_y - min_polygon_y;\n",
        "        \n",
        "    points = [(point_x + shift_x, point_y + shift_y) for point_x, point_y in points]\n",
        "    \n",
        "#     print(\"POINTS\")\n",
        "#     print(points)\n",
        "    return np.array(points)"
      ],
      "execution_count": null,
      "outputs": []
    },
    {
      "cell_type": "markdown",
      "metadata": {
        "id": "uy7hD9kRTA9b"
      },
      "source": [
        "#### Example"
      ]
    },
    {
      "cell_type": "markdown",
      "metadata": {
        "id": "EL9lEEnsTA9b"
      },
      "source": [
        "To show that our implementation of Valtr's Algorithm works as we expect it to - we can generate the points for an 6-sided polygon and plot it. "
      ]
    },
    {
      "cell_type": "code",
      "metadata": {
        "scrolled": false,
        "id": "ujJTiC-mTA9b",
        "colab": {
          "base_uri": "https://localhost:8080/",
          "height": 542
        },
        "outputId": "815115db-f8c9-4f4c-a78c-bc106d211a8e"
      },
      "source": [
        "\"\"\"\n",
        "Get the vertices for a 6-sided polygon centered around (0,0) that is contained within -25 and +25 on the x-axis \n",
        "and -25 and +25 on the y-axis\n",
        "\"\"\"\n",
        "#example_random_convex_6_size_poly = generate_random_convex_polygon(0, 0, 50, 50, 6)\n",
        "\n",
        "# Create figure \n",
        "fig, axs = plt.subplots(figsize=(10,5))\n",
        "\n",
        "# Plot the 6-sided polygon as a list of points \n",
        "axs[0].set_xlim([-50, 50])\n",
        "axs[0].set_ylim([-50, 50])\n",
        "\n",
        "pts = list(zip(*example_random_convex_6_size_poly))\n",
        "print(\"Vertices are: \" + str(example_random_convex_6_size_poly))\n",
        "axs[0].scatter(pts[0],pts[1], c='k')\n",
        "\n",
        "for i,v in enumerate(example_random_convex_6_size_poly):\n",
        "    axs[0].annotate(\"V\" + str(i), (v[0], v[1]))\n",
        "\n",
        "# Plot the 6-sided polygon as a filled-in shape \n",
        "axs[1].set_xlim([-50, 50])\n",
        "axs[1].set_ylim([-50, 50])\n",
        "poly = Polygon(example_random_convex_6_size_poly, facecolor='k')\n",
        "axs[1].add_patch(poly)\n",
        "\n",
        "plt.show()"
      ],
      "execution_count": null,
      "outputs": [
        {
          "output_type": "error",
          "ename": "TypeError",
          "evalue": "ignored",
          "traceback": [
            "\u001b[0;31m---------------------------------------------------------------------------\u001b[0m",
            "\u001b[0;31mTypeError\u001b[0m                                 Traceback (most recent call last)",
            "\u001b[0;32m<ipython-input-8-17aa44d76b6f>\u001b[0m in \u001b[0;36m<module>\u001b[0;34m()\u001b[0m\n\u001b[1;32m      9\u001b[0m \u001b[0;34m\u001b[0m\u001b[0m\n\u001b[1;32m     10\u001b[0m \u001b[0;31m# Plot the 6-sided polygon as a list of points\u001b[0m\u001b[0;34m\u001b[0m\u001b[0;34m\u001b[0m\u001b[0;34m\u001b[0m\u001b[0m\n\u001b[0;32m---> 11\u001b[0;31m \u001b[0maxs\u001b[0m\u001b[0;34m[\u001b[0m\u001b[0;36m0\u001b[0m\u001b[0;34m]\u001b[0m\u001b[0;34m.\u001b[0m\u001b[0mset_xlim\u001b[0m\u001b[0;34m(\u001b[0m\u001b[0;34m[\u001b[0m\u001b[0;34m-\u001b[0m\u001b[0;36m50\u001b[0m\u001b[0;34m,\u001b[0m \u001b[0;36m50\u001b[0m\u001b[0;34m]\u001b[0m\u001b[0;34m)\u001b[0m\u001b[0;34m\u001b[0m\u001b[0;34m\u001b[0m\u001b[0m\n\u001b[0m\u001b[1;32m     12\u001b[0m \u001b[0maxs\u001b[0m\u001b[0;34m[\u001b[0m\u001b[0;36m0\u001b[0m\u001b[0;34m]\u001b[0m\u001b[0;34m.\u001b[0m\u001b[0mset_ylim\u001b[0m\u001b[0;34m(\u001b[0m\u001b[0;34m[\u001b[0m\u001b[0;34m-\u001b[0m\u001b[0;36m50\u001b[0m\u001b[0;34m,\u001b[0m \u001b[0;36m50\u001b[0m\u001b[0;34m]\u001b[0m\u001b[0;34m)\u001b[0m\u001b[0;34m\u001b[0m\u001b[0;34m\u001b[0m\u001b[0m\n\u001b[1;32m     13\u001b[0m \u001b[0;34m\u001b[0m\u001b[0m\n",
            "\u001b[0;31mTypeError\u001b[0m: 'AxesSubplot' object is not subscriptable"
          ]
        },
        {
          "output_type": "display_data",
          "data": {
            "image/png": "[encoded data removed]",
            "text/plain": [
              "<Figure size 720x360 with 1 Axes>"
            ]
          },
          "metadata": {
            "needs_background": "light"
          }
        }
      ]
    },
    {
      "cell_type": "markdown",
      "metadata": {
        "id": "X1Kw358xTA9c"
      },
      "source": [
        "### Randomly Generated Convex Polygon with Bezier Curves Generation"
      ]
    },
    {
      "cell_type": "markdown",
      "metadata": {
        "id": "24R_L_XCTA9c"
      },
      "source": [
        "#### Generation Function"
      ]
    },
    {
      "cell_type": "code",
      "metadata": {
        "id": "t772Mh4xTA9d"
      },
      "source": [
        "\"\"\"\n",
        "This function assumes: \n",
        "* the vertices are given in either a clockwise or counterclockwise \n",
        "ordering of the convex hull \n",
        "\n",
        "and takes in: \n",
        "* a list of vertices describing a convex polygon\n",
        "\n",
        "and returns: \n",
        "* n new patchs describing n new polygons - one for a quadratic Bezier \n",
        "curve taking the place of each edge \n",
        "\"\"\"\n",
        "def generate_quad_Beziered_convex_polygons(vertices):\n",
        "    num_vertices = len(vertices)\n",
        "    codes_default = [1]\n",
        "    \n",
        "    name = 0\n",
        "    \n",
        "    # Quadratic\n",
        "    codes_quad_transform = [3,3] + ([2] * (num_vertices-3))\n",
        "    for i in range(num_vertices-2): \n",
        "        codes = codes_default + codes_quad_transform[-i:] + codes_quad_transform[:-i]\n",
        "\n",
        "        path = mpath.Path(vertices, codes)\n",
        "\n",
        "        curve_points = [i for i, j in zip(vertices, codes) if j==3]\n",
        "\n",
        "        print(\"Quadratic Bezier curve applied to the following points: \") \n",
        "        for i in curve_points: \n",
        "            print(\"* \" + str(i))\n",
        "        fig, axs = plt.subplots(figsize=(10,5))\n",
        "        patch = PathPatch(path, facecolor='k', fill=True, lw=2)\n",
        "        axs.add_patch(patch)\n",
        "        crv_pts = list(zip(*curve_points))\n",
        "        axs.scatter(pts[0], pts[1], c='r', marker='x')\n",
        "        axs.scatter(crv_pts[0], crv_pts[1], c='g', marker='x')\n",
        "        axs.set_xlim([-50, 50])\n",
        "        axs.set_ylim([-50, 50])\n",
        "        fig.savefig(\"quad_\" + str(name) + \".png\", dpi=400)\n",
        "        name += 1\n",
        "        \n",
        "    for i in [2,1]:\n",
        "        shifted_vertices = collections.deque(vertices)\n",
        "        shifted_vertices.rotate(i)\n",
        "        shifted_vertices = list(shifted_vertices)\n",
        "        codes = codes_default + codes_quad_transform \n",
        "        \n",
        "        path = mpath.Path(shifted_vertices, codes)\n",
        "\n",
        "        curve_points = [i for i, j in zip(shifted_vertices, codes) if j==3]\n",
        "\n",
        "        print(\"Quadratic Bezier curve applied to the following points: \") \n",
        "        for i in curve_points: \n",
        "            print(\"* \" + str(i))\n",
        "        fig, axs = plt.subplots(figsize=(10,5))\n",
        "        patch = PathPatch(path, facecolor='k', fill=True, lw=2)\n",
        "        axs.add_patch(patch)\n",
        "        crv_pts = list(zip(*curve_points))\n",
        "        axs.scatter(pts[0], pts[1], c='r', marker='x')\n",
        "        axs.scatter(crv_pts[0], crv_pts[1], c='g', marker='x')\n",
        "        axs.set_xlim([-50, 50])\n",
        "        axs.set_ylim([-50, 50])\n",
        "        fig.savefig(\"quad_\" + str(name) + \".png\", dpi=400)\n",
        "        name += 1"
      ],
      "execution_count": null,
      "outputs": []
    },
    {
      "cell_type": "code",
      "metadata": {
        "scrolled": false,
        "id": "hys-37gETA9d",
        "colab": {
          "base_uri": "https://localhost:8080/",
          "height": 234
        },
        "outputId": "4d08db1d-6e6f-4749-aeff-2f491e28c79a"
      },
      "source": [
        "print(\"Vertices are: \")\n",
        "print(example_random_convex_6_size_poly)\n",
        "\n",
        "generate_quad_Beziered_convex_polygons(example_random_convex_6_size_poly)"
      ],
      "execution_count": null,
      "outputs": [
        {
          "output_type": "stream",
          "name": "stdout",
          "text": [
            "Vertices are: \n"
          ]
        },
        {
          "output_type": "error",
          "ename": "NameError",
          "evalue": "ignored",
          "traceback": [
            "\u001b[0;31m---------------------------------------------------------------------------\u001b[0m",
            "\u001b[0;31mNameError\u001b[0m                                 Traceback (most recent call last)",
            "\u001b[0;32m<ipython-input-10-bbe46dc24815>\u001b[0m in \u001b[0;36m<module>\u001b[0;34m()\u001b[0m\n\u001b[1;32m      1\u001b[0m \u001b[0mprint\u001b[0m\u001b[0;34m(\u001b[0m\u001b[0;34m\"Vertices are: \"\u001b[0m\u001b[0;34m)\u001b[0m\u001b[0;34m\u001b[0m\u001b[0;34m\u001b[0m\u001b[0m\n\u001b[0;32m----> 2\u001b[0;31m \u001b[0mprint\u001b[0m\u001b[0;34m(\u001b[0m\u001b[0mexample_random_convex_6_size_poly\u001b[0m\u001b[0;34m)\u001b[0m\u001b[0;34m\u001b[0m\u001b[0;34m\u001b[0m\u001b[0m\n\u001b[0m\u001b[1;32m      3\u001b[0m \u001b[0;34m\u001b[0m\u001b[0m\n\u001b[1;32m      4\u001b[0m \u001b[0mgenerate_quad_Beziered_convex_polygons\u001b[0m\u001b[0;34m(\u001b[0m\u001b[0mexample_random_convex_6_size_poly\u001b[0m\u001b[0;34m)\u001b[0m\u001b[0;34m\u001b[0m\u001b[0;34m\u001b[0m\u001b[0m\n",
            "\u001b[0;31mNameError\u001b[0m: name 'example_random_convex_6_size_poly' is not defined"
          ]
        }
      ]
    },
    {
      "cell_type": "code",
      "metadata": {
        "id": "fTvY01K5TA9e"
      },
      "source": [
        "\"\"\"\n",
        "\n",
        "\"\"\"\n",
        "def generate_cub_Beziered_convex_polygons(vertices):\n",
        "    num_vertices = len(vertices)\n",
        "    codes_default = [1]\n",
        "    \n",
        "    name = 0\n",
        "    \n",
        "    # Quadratic\n",
        "    codes_quad_transform = [4,4,4] + ([2] * (num_vertices-4))\n",
        "    for i in range(num_vertices-3): \n",
        "        codes = codes_default + codes_quad_transform[-i:] + codes_quad_transform[:-i]\n",
        "\n",
        "        path = mpath.Path(vertices, codes)\n",
        "\n",
        "        curve_points = [i for i, j in zip(vertices, codes) if j==4]\n",
        "\n",
        "        print(\"Cubic Bezier curve applied to the following points: \") \n",
        "        for i in curve_points: \n",
        "            print(\"* \" + str(i))\n",
        "        fig, axs = plt.subplots(figsize=(10,5))\n",
        "        patch = PathPatch(path, facecolor='k', fill=True, lw=2)\n",
        "        axs.add_patch(patch)\n",
        "        crv_pts = list(zip(*curve_points))\n",
        "        axs.scatter(pts[0], pts[1], c='r', marker='x')\n",
        "        axs.scatter(crv_pts[0], crv_pts[1], c='g', marker='x')\n",
        "        axs.set_xlim([-50, 50])\n",
        "        axs.set_ylim([-50, 50])\n",
        "        fig.savefig(\"cubic_\" + str(name) + \".png\", dpi=400)\n",
        "        name += 1\n",
        "        \n",
        "    for i in [3,2,1]:\n",
        "        shifted_vertices = collections.deque(vertices)\n",
        "        shifted_vertices.rotate(i)\n",
        "        shifted_vertices = list(shifted_vertices)\n",
        "        codes = codes_default + codes_quad_transform \n",
        "        \n",
        "        path = mpath.Path(shifted_vertices, codes)\n",
        "\n",
        "        curve_points = [i for i, j in zip(shifted_vertices, codes) if j==4]\n",
        "\n",
        "        print(\"Cubic Bezier curve applied to the following points: \") \n",
        "        for i in curve_points: \n",
        "            print(\"* \" + str(i))\n",
        "        fig, axs = plt.subplots(figsize=(10,5))\n",
        "        patch = PathPatch(path, facecolor='k', fill=True, lw=2)\n",
        "        axs.add_patch(patch)\n",
        "        crv_pts = list(zip(*curve_points))\n",
        "        axs.scatter(pts[0], pts[1], c='r', marker='x')\n",
        "        axs.scatter(crv_pts[0], crv_pts[1], c='g', marker='x')\n",
        "        axs.set_xlim([-50, 50])\n",
        "        axs.set_ylim([-50, 50])\n",
        "        fig.savefig(\"cubic_\" + str(name) + \".png\", dpi=400)\n",
        "        name += 1"
      ],
      "execution_count": null,
      "outputs": []
    },
    {
      "cell_type": "code",
      "metadata": {
        "id": "eQWQsZhpTA9e"
      },
      "source": [
        "print(\"Vertices are: \")\n",
        "print(example_random_convex_6_size_poly)\n",
        "\n",
        "generate_cub_Beziered_convex_polygons(example_random_convex_6_size_poly)"
      ],
      "execution_count": null,
      "outputs": []
    },
    {
      "cell_type": "markdown",
      "metadata": {
        "id": "6h4YOW8JTA9f"
      },
      "source": [
        "#### Example"
      ]
    },
    {
      "cell_type": "markdown",
      "metadata": {
        "id": "H0cr0wxsTA9f"
      },
      "source": [
        "Here we use a 6-sided polygon randomly generated by the algorithm above. "
      ]
    },
    {
      "cell_type": "code",
      "metadata": {
        "id": "TD2uZENLTA9f"
      },
      "source": [
        "\"\"\"\n",
        "Show an example of a quadratic bezier curve between two points on a randomly generated 6-sided polygon\n",
        "\"\"\"\n",
        "vertices = example_random_convex_6_size_poly\n",
        "\n",
        "#[[-23, 5], [-23, -10], [8,-17], [22,-13.], [16,-6], [0, -1]]\n",
        "\n",
        "fig, axs = plt.subplots(ncols=3, figsize=(20,6))\n",
        "fig.suptitle('6-Sided Randomly Generated Convex Polygon with Quadratic Bezier Curve', fontsize=16)\n",
        "\n",
        "# Plot the 6-sided polygon as a list of points \n",
        "axs[0].set_xlim([-50, 50])\n",
        "axs[0].set_ylim([-50, 50])\n",
        "\n",
        "print(\"Vertices are:\" + str(vertices))\n",
        "pts = list(zip(*vertices))\n",
        "axs[0].scatter(pts[0],pts[1], c='r', marker='x')\n",
        "for i,v in enumerate(vertices):\n",
        "    axs[0].annotate(\"(\" + str(v[0]) + \", \" + str(v[1]) + \")\", (v[0], v[1]))\n",
        "\n",
        "# Plot the 6-sided polygon as a filled-in shape \n",
        "axs[1].set_xlim([-50, 50])\n",
        "axs[1].set_ylim([-50, 50])\n",
        "poly = Polygon(vertices, facecolor='k')\n",
        "axs[1].add_patch(poly)\n",
        "axs[1].scatter(pts[0],pts[1], c='r', marker='x')\n",
        "\n",
        "codes = [\n",
        "    mpath.Path.MOVETO,\n",
        "    mpath.Path.LINETO,\n",
        "    mpath.Path.LINETO,\n",
        "    mpath.Path.LINETO,\n",
        "    mpath.Path.CURVE3,\n",
        "    mpath.Path.CURVE3,\n",
        "]\n",
        "\n",
        "print(codes)\n",
        "\n",
        "path = mpath.Path(vertices, codes)\n",
        "\n",
        "curve_points = [vertices[1], vertices[2], vertices[5]]\n",
        "\n",
        "#[i for i, j in zip(vertices, codes) if j==3]\n",
        "\n",
        "print(\"Quadratic Bezier curve applied to the following points: \") \n",
        "for i in curve_points: \n",
        "    print(\"* \" + str(i))\n",
        "    \n",
        "patch = PathPatch(path, facecolor='k', fill=True, lw=2)\n",
        "axs[2].add_patch(patch)\n",
        "crv_pts = list(zip(*curve_points))\n",
        "axs[2].scatter(pts[0], pts[1], c='r', marker='x')\n",
        "axs[2].scatter(crv_pts[0], crv_pts[1], c='g', marker='x')\n",
        "axs[2].set_xlim([-50, 50])\n",
        "axs[2].set_ylim([-50, 50])"
      ],
      "execution_count": null,
      "outputs": []
    },
    {
      "cell_type": "code",
      "metadata": {
        "scrolled": false,
        "id": "MvM0TTarTA9f"
      },
      "source": [
        "\"\"\"\n",
        "Show an example of a cubic bezier curve between three points on a randomly generated 6-sided polygon\n",
        "\"\"\"\n",
        "#vertices = example_random_convex_6_size_poly\n",
        "\n",
        "print(vertices)\n",
        "\n",
        "fig, axs = plt.subplots(ncols=3, figsize=(20,6))\n",
        "fig.suptitle('6-Sided Randomly Generated Convex Polygon with Cubic Bezier Curve', fontsize=16)\n",
        "\n",
        "# Plot the 6-sided polygon as a list of points \n",
        "axs[0].set_xlim([-50, 50])\n",
        "axs[0].set_ylim([-50, 50])\n",
        "\n",
        "pts = list(zip(*vertices))\n",
        "axs[0].scatter(pts[0],pts[1], c='r', marker='x')\n",
        "for i,v in enumerate(vertices):\n",
        "    axs[0].annotate(\"(\" + str(v[0]) + \", \" + str(v[1]) + \")\", (v[0], v[1]))\n",
        "\n",
        "# Plot the 6-sided polygon as a filled-in shape \n",
        "axs[1].set_xlim([-50, 50])\n",
        "axs[1].set_ylim([-50, 50])\n",
        "poly = Polygon(vertices, facecolor='k')\n",
        "axs[1].add_patch(poly)\n",
        "axs[1].scatter(pts[0],pts[1], c='r', marker='x')\n",
        "\n",
        "codes = [\n",
        "    mpath.Path.MOVETO,\n",
        "    mpath.Path.LINETO,\n",
        "    mpath.Path.LINETO,\n",
        "    mpath.Path.CURVE4,\n",
        "    mpath.Path.CURVE4,\n",
        "    mpath.Path.CURVE4,\n",
        "]\n",
        "\n",
        "path = mpath.Path(vertices, codes)\n",
        "\n",
        "curve_points = [vertices[2], vertices[3], vertices[4], vertices[5]] #[i for i, j in zip(vertices, codes) if j==4]\n",
        "\n",
        "print(\"Cubic Bezier curve applied to the following points: \") \n",
        "for i in curve_points: \n",
        "    print(\"* \" + str(i))\n",
        "\n",
        "patch = PathPatch(path, facecolor='k', fill=True, lw=2)\n",
        "axs[2].add_patch(patch)\n",
        "crv_pts = list(zip(*curve_points))\n",
        "axs[2].scatter(pts[0], pts[1], c='r', marker='x')\n",
        "axs[2].scatter(crv_pts[0], crv_pts[1], c='g', marker='x')\n",
        "axs[2].set_xlim([-50, 50])\n",
        "axs[2].set_ylim([-50, 50])"
      ],
      "execution_count": null,
      "outputs": []
    },
    {
      "cell_type": "code",
      "metadata": {
        "id": "9Par7PFRJXuF"
      },
      "source": [
        "datasetSize = 1500\n",
        "for i in range(datasetSize):\n",
        "#Original\n",
        "  filename = str(i)\n",
        "  filepath = os.path.join(PATH_TO_ORIGINAL_IMGS, filename)\n",
        "\n",
        "  verts = generate_random_convex_polygon(0, 0, 50, 50, 7)\n",
        "  savePoly(verts, filepath)\n",
        "\n",
        "  #Transormation\n",
        "  filepath = os.path.join(PATH_TO_TRANSLATED_IMGS, filename)\n",
        "\n",
        "  # Random transformation paratmers\n",
        "  dx = np.random.uniform(-20,20,1)[0]\n",
        "  dy = np.random.uniform(-20,20,1)[0]\n",
        "  theta = np.random.uniform(0,360,1)[0]\n",
        "  sx = np.random.uniform(0.4,2,1)[0]\n",
        "  sy = np.random.uniform(0.4,2,1)[0]\n",
        "\n",
        "  params = np.array([dx, dy, theta, sx, sy])\n",
        "  A, S = getTransformations(params)\n",
        "  verts_t = applyTranformation(verts, A, S)\n",
        "  savePoly(verts_t, filepath)\n",
        "\n",
        "  #Save label (transformation params)\n",
        "  filepath = os.path.join(PATH_TO_LABELS, filename)\n",
        "  np.save(filepath+'.npy', params)"
      ],
      "execution_count": null,
      "outputs": []
    },
    {
      "cell_type": "markdown",
      "metadata": {
        "id": "IDT2d0vuco6V"
      },
      "source": [
        "## Generating dataset"
      ]
    },
    {
      "cell_type": "markdown",
      "metadata": {
        "id": "vOapXnvxctOV"
      },
      "source": [
        "## Dataset Loader"
      ]
    },
    {
      "cell_type": "code",
      "metadata": {
        "id": "msIENki5OrDv"
      },
      "source": [
        "class AffineDataset(Dataset):\n",
        "  def __init__(self, img_dir, img_t_dir, annotations_dir, transform=None, target_transform=None):\n",
        "        # self.img_labels = pd.read_csv(annotations_file)\n",
        "        # self.img_labels = np.load(annotations_)\n",
        "        self.annotations_dir = annotations_dir\n",
        "        self.img_dir = img_dir\n",
        "        self.img_t_dir = img_t_dir\n",
        "        self.transform = transform\n",
        "        self.target_transform = target_transform\n",
        "\n",
        "  def __len__(self):\n",
        "      return len(os.listdir(self.annotations_dir))\n",
        "\n",
        "  def __getitem__(self, idx):\n",
        "      img_path = os.path.join(self.img_dir, str(idx)+'.png')\n",
        "      img_t_path = os.path.join(self.img_t_dir, str(idx)+'.png')\n",
        "      image = read_image(img_path)\n",
        "      image_t = read_image(img_t_path)\n",
        "      #plt.imsave saves 4 channels for some reason, ignore the last one\n",
        "      image = image[:3,:,:] \n",
        "      image_t = image_t[:3,:,:]\n",
        "      label_path = os.path.join(self.annotations_dir, str(idx)+'.npy')\n",
        "      label = np.load(label_path)\n",
        "\n",
        "      if self.transform:\n",
        "          image = self.transform(image)\n",
        "          image_t = self.transform(image_t)\n",
        "      if self.target_transform:\n",
        "          image = self.target_transform(label)\n",
        "      return image, image_t, label\n"
      ],
      "execution_count": 3,
      "outputs": []
    },
    {
      "cell_type": "code",
      "metadata": {
        "id": "OA-ynJrMlmCI"
      },
      "source": [
        "batch_size = 4\n",
        "\n",
        "# Online transformations\n",
        "transform = transforms.Compose([\n",
        "                    transforms.ToPILImage(),\n",
        "                    transforms.Grayscale(1),\n",
        "                    transforms.Resize([IMG_WIDTH, IMG_HEIGHT]),\n",
        "                    transforms.ColorJitter(brightness=(0.3,1), contrast=(0.3,1)),\n",
        "                    transforms.ToTensor(),\n",
        "                    transforms.Normalize(0.5, 0.5)])\n",
        "\n",
        "affine_dataset = AffineDataset(PATH_TO_ORIGINAL_IMGS, PATH_TO_TRANSLATED_IMGS, PATH_TO_LABELS, transform=transform)\n",
        "\n",
        "trainloader = DataLoader(affine_dataset, batch_size=4,\n",
        "                        shuffle=True, num_workers=0)\n"
      ],
      "execution_count": 8,
      "outputs": []
    },
    {
      "cell_type": "markdown",
      "metadata": {
        "id": "ontbv6161msB"
      },
      "source": [
        "## Visualization"
      ]
    },
    {
      "cell_type": "code",
      "metadata": {
        "colab": {
          "base_uri": "https://localhost:8080/",
          "height": 364
        },
        "id": "v0hkvPIqxmO7",
        "outputId": "5a0fb6d0-6127-4ce7-84ee-51a2048c3c69"
      },
      "source": [
        "def plotGrayScale(tensor, title):\n",
        "  tensor = tensor / 2 + 0.5     # unnormalize\n",
        "  npimg = tensor.numpy()\n",
        "  plt.imshow(np.transpose(npimg, (1, 2, 0)))\n",
        "  plt.title(title)\n",
        "  # plt.show()\n",
        "\n",
        "dataiter = iter(trainloader)\n",
        "images, images_t,  labels = dataiter.next()\n",
        "\n",
        "# show images\n",
        "plotGrayScale(torchvision.utils.make_grid(images), \"Originals\")\n",
        "plt.show()\n",
        "plotGrayScale(torchvision.utils.make_grid(images_t), \"Transforms\")\n",
        "plt.show()\n",
        "print(f'Transform parameters')\n",
        "for label in labels:\n",
        "  print(label)\n"
      ],
      "execution_count": 9,
      "outputs": [
        {
          "output_type": "display_data",
          "data": {
            "image/png": "[encoded data removed]",
            "text/plain": [
              "<Figure size 432x288 with 1 Axes>"
            ]
          },
          "metadata": {
            "needs_background": "light"
          }
        },
        {
          "output_type": "display_data",
          "data": {
            "image/png": "[encoded data removed]",
            "text/plain": [
              "<Figure size 432x288 with 1 Axes>"
            ]
          },
          "metadata": {
            "needs_background": "light"
          }
        },
        {
          "output_type": "stream",
          "name": "stdout",
          "text": [
            "Transform parameters\n",
            "tensor([  4.9800,  -0.4547, 231.8773,   0.7933,   1.7726], dtype=torch.float64)\n",
            "tensor([  1.7136,  -0.3446, 206.3997,   1.0838,   1.6545], dtype=torch.float64)\n",
            "tensor([  3.3347,   4.6768, 180.9387,   1.1259,   0.9411], dtype=torch.float64)\n",
            "tensor([ -4.2266,  -2.4429, 344.5603,   0.7200,   0.4635], dtype=torch.float64)\n"
          ]
        }
      ]
    },
    {
      "cell_type": "markdown",
      "metadata": {
        "id": "ipH43VY72fod"
      },
      "source": [
        "## Vanilla Pytorch CNN"
      ]
    },
    {
      "cell_type": "code",
      "metadata": {
        "colab": {
          "base_uri": "https://localhost:8080/"
        },
        "id": "dHYvkunR2fGV",
        "outputId": "c48b246e-e913-486b-a273-32c306e89919"
      },
      "source": [
        "class AffineNet(nn.Module):\n",
        "    def __init__(self):\n",
        "        super().__init__()\n",
        "        self.conv1 = nn.Conv2d(2, 6, 5)\n",
        "        self.pool = nn.MaxPool2d(2, 2)\n",
        "        self.conv2 = nn.Conv2d(6, 16, 5)\n",
        "        self.fc1 = nn.Linear(59536, 120) #TODO: Verify the math of 59536\n",
        "        self.fc2 = nn.Linear(120, 84)\n",
        "        self.fc3 = nn.Linear(84, 5)\n",
        "\n",
        "    def forward(self, x):\n",
        "        x = self.pool(F.relu(self.conv1(x)))\n",
        "        x = self.pool(F.relu(self.conv2(x)))\n",
        "        x = torch.flatten(x, 1)  # flatten all dimensions except batch\n",
        "        x = F.relu(self.fc1(x))\n",
        "        x = F.relu(self.fc2(x))\n",
        "        x = self.fc3(x)\n",
        "        return x\n",
        "\n",
        "\n",
        "net = AffineNet()\n",
        "\n",
        "if torch.cuda.is_available():\n",
        "  print(f'GPU : {torch.cuda.get_device_name(0)}')\n",
        "  cuda0 = torch.device('cuda:0')\n",
        "  net.cuda()"
      ],
      "execution_count": 27,
      "outputs": [
        {
          "output_type": "stream",
          "name": "stdout",
          "text": [
            "GPU : Tesla K80\n"
          ]
        }
      ]
    },
    {
      "cell_type": "markdown",
      "metadata": {
        "id": "f4rZKrvb4mgL"
      },
      "source": [
        "## Optimizer"
      ]
    },
    {
      "cell_type": "code",
      "metadata": {
        "id": "BtXLxaQd4Phs"
      },
      "source": [
        "criterion = nn.MSELoss()\n",
        "optimizer = optim.SGD(net.parameters(), lr=0.001, momentum=0.9)"
      ],
      "execution_count": 25,
      "outputs": []
    },
    {
      "cell_type": "markdown",
      "metadata": {
        "id": "hg9nlzes5Bp2"
      },
      "source": [
        "## Training"
      ]
    },
    {
      "cell_type": "code",
      "metadata": {
        "colab": {
          "base_uri": "https://localhost:8080/",
          "height": 919
        },
        "id": "_TgU6Q01422x",
        "outputId": "a42c5d4c-3fc2-43ac-cf99-c5467c551714"
      },
      "source": [
        "iter = 0\n",
        "channels = 2\n",
        "for epoch in range(5):  # loop over the dataset multiple times\n",
        "\n",
        "    running_loss = 0.0\n",
        "    for i, data in enumerate(trainloader):\n",
        "      \n",
        "        batch_imgs, batch_imgs_t, labels = data\n",
        "        ins = []\n",
        "        #Stack both imgs as channels of the same image\n",
        "        for im, im_t in zip(batch_imgs, batch_imgs_t):\n",
        "          im = im.reshape((im.shape[1], im.shape[2]))\n",
        "          im_t = im_t.reshape((im_t.shape[1], im_t.shape[2]))\n",
        "          #TODO: Visulize stacked images here to make sure they are correct\n",
        "          input = np.dstack((im, im_t))\n",
        "          ins.append(input)\n",
        "          # print(input.shape)\n",
        "\n",
        "        \n",
        "        # print(len(ins))\n",
        "        inputs = np.zeros((batch_size, channels, IMG_WIDTH, IMG_HEIGHT))\n",
        "        # print(inputs.shape)\n",
        "        # print(inputs)\n",
        "        if torch.cuda.is_available():\n",
        "          inputs = Variable(torch.from_numpy(inputs).cuda())\n",
        "          labels = Variable(labels.cuda())\n",
        "          # labels = Variable(torch.from_numpy(labels).cuda())\n",
        "        else:\n",
        "          inputs = Variable(torch.from_numpy(inputs))\n",
        "          labels = Variable(labels)\n",
        "          # labels = Variable(torch.from_numpy(labels))\n",
        "\n",
        "        \n",
        "        # zero the parameter gradients\n",
        "        optimizer.zero_grad()\n",
        "\n",
        "        # forward + backward + optimize\n",
        "        inputs = inputs.to(device=cuda0, dtype=torch.float) #Convert to torch cuda float\n",
        "        labels = labels.to(device=cuda0, dtype=torch.float)\n",
        "\n",
        "        outputs = net(inputs)\n",
        "\n",
        "        # outputs = outputs.reshape((400))\n",
        "\n",
        "        loss = criterion(outputs, labels)\n",
        "        loss.backward()\n",
        "        optimizer.step()\n",
        "\n",
        "        # print statistics\n",
        "        running_loss += loss.item()\n",
        "        # if i % 2000 == 1999:    # print every 2000 mini-batches\n",
        "        #     print('[%d, %5d] loss: %.3f' %\n",
        "        #           (epoch + 1, i + 1, running_loss / 2000))\n",
        "        #     running_loss = 0.0\n",
        "        if i % 1 == 0:    # print every 2000 mini-batches\n",
        "          print(f'iter {iter}, loss: {loss.item()}')\n",
        "          # print('[%d, %5d] loss: %.3f' %\n",
        "          #       (epoch + 1, i + 1, running_loss / 100))\n",
        "          running_loss = 0.0\n",
        "        iter += 1\n",
        "\n",
        "print('Finished Training')"
      ],
      "execution_count": 28,
      "outputs": [
        {
          "output_type": "stream",
          "name": "stdout",
          "text": [
            "iter 0, loss: 8157.68896484375\n",
            "iter 1, loss: 2696.146728515625\n",
            "iter 2, loss: 8711.9423828125\n",
            "iter 3, loss: 13903.0693359375\n",
            "iter 4, loss: 4715.99365234375\n",
            "iter 5, loss: 10728.1630859375\n",
            "iter 6, loss: 5745.0029296875\n",
            "iter 7, loss: 3136.376708984375\n",
            "iter 8, loss: 5092.51953125\n",
            "iter 9, loss: 2106.74853515625\n",
            "iter 10, loss: 5354.5166015625\n",
            "iter 11, loss: 18049.64453125\n",
            "iter 12, loss: 9275.2568359375\n",
            "iter 13, loss: 5511.38525390625\n",
            "iter 14, loss: 6755.87646484375\n",
            "iter 15, loss: 13794.0927734375\n",
            "iter 16, loss: 13081.64453125\n",
            "iter 17, loss: 14128.5390625\n",
            "iter 18, loss: 13177.5537109375\n",
            "iter 19, loss: 8452.3359375\n",
            "iter 20, loss: 4978.92431640625\n",
            "iter 21, loss: 10156.5068359375\n",
            "iter 22, loss: 12374.859375\n",
            "iter 23, loss: 10108.2255859375\n",
            "iter 24, loss: 13356.3701171875\n",
            "iter 25, loss: 6234.44482421875\n",
            "iter 26, loss: 7421.4072265625\n",
            "iter 27, loss: 9105.1171875\n",
            "iter 28, loss: 10921.3125\n",
            "iter 29, loss: 9024.958984375\n",
            "iter 30, loss: 7005.42529296875\n",
            "iter 31, loss: 6369.318359375\n"
          ]
        },
        {
          "output_type": "error",
          "ename": "RuntimeError",
          "evalue": "ignored",
          "traceback": [
            "\u001b[0;31m---------------------------------------------------------------------------\u001b[0m",
            "\u001b[0;31mRuntimeError\u001b[0m                              Traceback (most recent call last)",
            "\u001b[0;32m<ipython-input-28-8cdf45d554fa>\u001b[0m in \u001b[0;36m<module>\u001b[0;34m()\u001b[0m\n\u001b[1;32m      4\u001b[0m \u001b[0;34m\u001b[0m\u001b[0m\n\u001b[1;32m      5\u001b[0m     \u001b[0mrunning_loss\u001b[0m \u001b[0;34m=\u001b[0m \u001b[0;36m0.0\u001b[0m\u001b[0;34m\u001b[0m\u001b[0;34m\u001b[0m\u001b[0m\n\u001b[0;32m----> 6\u001b[0;31m     \u001b[0;32mfor\u001b[0m \u001b[0mi\u001b[0m\u001b[0;34m,\u001b[0m \u001b[0mdata\u001b[0m \u001b[0;32min\u001b[0m \u001b[0menumerate\u001b[0m\u001b[0;34m(\u001b[0m\u001b[0mtrainloader\u001b[0m\u001b[0;34m)\u001b[0m\u001b[0;34m:\u001b[0m\u001b[0;34m\u001b[0m\u001b[0;34m\u001b[0m\u001b[0m\n\u001b[0m\u001b[1;32m      7\u001b[0m \u001b[0;34m\u001b[0m\u001b[0m\n\u001b[1;32m      8\u001b[0m         \u001b[0mbatch_imgs\u001b[0m\u001b[0;34m,\u001b[0m \u001b[0mbatch_imgs_t\u001b[0m\u001b[0;34m,\u001b[0m \u001b[0mlabels\u001b[0m \u001b[0;34m=\u001b[0m \u001b[0mdata\u001b[0m\u001b[0;34m\u001b[0m\u001b[0;34m\u001b[0m\u001b[0m\n",
            "\u001b[0;32m/usr/local/lib/python3.7/dist-packages/torch/utils/data/dataloader.py\u001b[0m in \u001b[0;36m__next__\u001b[0;34m(self)\u001b[0m\n\u001b[1;32m    519\u001b[0m             \u001b[0;32mif\u001b[0m \u001b[0mself\u001b[0m\u001b[0;34m.\u001b[0m\u001b[0m_sampler_iter\u001b[0m \u001b[0;32mis\u001b[0m \u001b[0;32mNone\u001b[0m\u001b[0;34m:\u001b[0m\u001b[0;34m\u001b[0m\u001b[0;34m\u001b[0m\u001b[0m\n\u001b[1;32m    520\u001b[0m                 \u001b[0mself\u001b[0m\u001b[0;34m.\u001b[0m\u001b[0m_reset\u001b[0m\u001b[0;34m(\u001b[0m\u001b[0;34m)\u001b[0m\u001b[0;34m\u001b[0m\u001b[0;34m\u001b[0m\u001b[0m\n\u001b[0;32m--> 521\u001b[0;31m             \u001b[0mdata\u001b[0m \u001b[0;34m=\u001b[0m \u001b[0mself\u001b[0m\u001b[0;34m.\u001b[0m\u001b[0m_next_data\u001b[0m\u001b[0;34m(\u001b[0m\u001b[0;34m)\u001b[0m\u001b[0;34m\u001b[0m\u001b[0;34m\u001b[0m\u001b[0m\n\u001b[0m\u001b[1;32m    522\u001b[0m             \u001b[0mself\u001b[0m\u001b[0;34m.\u001b[0m\u001b[0m_num_yielded\u001b[0m \u001b[0;34m+=\u001b[0m \u001b[0;36m1\u001b[0m\u001b[0;34m\u001b[0m\u001b[0;34m\u001b[0m\u001b[0m\n\u001b[1;32m    523\u001b[0m             \u001b[0;32mif\u001b[0m \u001b[0mself\u001b[0m\u001b[0;34m.\u001b[0m\u001b[0m_dataset_kind\u001b[0m \u001b[0;34m==\u001b[0m \u001b[0m_DatasetKind\u001b[0m\u001b[0;34m.\u001b[0m\u001b[0mIterable\u001b[0m \u001b[0;32mand\u001b[0m\u001b[0;31m \u001b[0m\u001b[0;31m\\\u001b[0m\u001b[0;34m\u001b[0m\u001b[0;34m\u001b[0m\u001b[0m\n",
            "\u001b[0;32m/usr/local/lib/python3.7/dist-packages/torch/utils/data/dataloader.py\u001b[0m in \u001b[0;36m_next_data\u001b[0;34m(self)\u001b[0m\n\u001b[1;32m    559\u001b[0m     \u001b[0;32mdef\u001b[0m \u001b[0m_next_data\u001b[0m\u001b[0;34m(\u001b[0m\u001b[0mself\u001b[0m\u001b[0;34m)\u001b[0m\u001b[0;34m:\u001b[0m\u001b[0;34m\u001b[0m\u001b[0;34m\u001b[0m\u001b[0m\n\u001b[1;32m    560\u001b[0m         \u001b[0mindex\u001b[0m \u001b[0;34m=\u001b[0m \u001b[0mself\u001b[0m\u001b[0;34m.\u001b[0m\u001b[0m_next_index\u001b[0m\u001b[0;34m(\u001b[0m\u001b[0;34m)\u001b[0m  \u001b[0;31m# may raise StopIteration\u001b[0m\u001b[0;34m\u001b[0m\u001b[0;34m\u001b[0m\u001b[0m\n\u001b[0;32m--> 561\u001b[0;31m         \u001b[0mdata\u001b[0m \u001b[0;34m=\u001b[0m \u001b[0mself\u001b[0m\u001b[0;34m.\u001b[0m\u001b[0m_dataset_fetcher\u001b[0m\u001b[0;34m.\u001b[0m\u001b[0mfetch\u001b[0m\u001b[0;34m(\u001b[0m\u001b[0mindex\u001b[0m\u001b[0;34m)\u001b[0m  \u001b[0;31m# may raise StopIteration\u001b[0m\u001b[0;34m\u001b[0m\u001b[0;34m\u001b[0m\u001b[0m\n\u001b[0m\u001b[1;32m    562\u001b[0m         \u001b[0;32mif\u001b[0m \u001b[0mself\u001b[0m\u001b[0;34m.\u001b[0m\u001b[0m_pin_memory\u001b[0m\u001b[0;34m:\u001b[0m\u001b[0;34m\u001b[0m\u001b[0;34m\u001b[0m\u001b[0m\n\u001b[1;32m    563\u001b[0m             \u001b[0mdata\u001b[0m \u001b[0;34m=\u001b[0m \u001b[0m_utils\u001b[0m\u001b[0;34m.\u001b[0m\u001b[0mpin_memory\u001b[0m\u001b[0;34m.\u001b[0m\u001b[0mpin_memory\u001b[0m\u001b[0;34m(\u001b[0m\u001b[0mdata\u001b[0m\u001b[0;34m)\u001b[0m\u001b[0;34m\u001b[0m\u001b[0;34m\u001b[0m\u001b[0m\n",
            "\u001b[0;32m/usr/local/lib/python3.7/dist-packages/torch/utils/data/_utils/fetch.py\u001b[0m in \u001b[0;36mfetch\u001b[0;34m(self, possibly_batched_index)\u001b[0m\n\u001b[1;32m     42\u001b[0m     \u001b[0;32mdef\u001b[0m \u001b[0mfetch\u001b[0m\u001b[0;34m(\u001b[0m\u001b[0mself\u001b[0m\u001b[0;34m,\u001b[0m \u001b[0mpossibly_batched_index\u001b[0m\u001b[0;34m)\u001b[0m\u001b[0;34m:\u001b[0m\u001b[0;34m\u001b[0m\u001b[0;34m\u001b[0m\u001b[0m\n\u001b[1;32m     43\u001b[0m         \u001b[0;32mif\u001b[0m \u001b[0mself\u001b[0m\u001b[0;34m.\u001b[0m\u001b[0mauto_collation\u001b[0m\u001b[0;34m:\u001b[0m\u001b[0;34m\u001b[0m\u001b[0;34m\u001b[0m\u001b[0m\n\u001b[0;32m---> 44\u001b[0;31m             \u001b[0mdata\u001b[0m \u001b[0;34m=\u001b[0m \u001b[0;34m[\u001b[0m\u001b[0mself\u001b[0m\u001b[0;34m.\u001b[0m\u001b[0mdataset\u001b[0m\u001b[0;34m[\u001b[0m\u001b[0midx\u001b[0m\u001b[0;34m]\u001b[0m \u001b[0;32mfor\u001b[0m \u001b[0midx\u001b[0m \u001b[0;32min\u001b[0m \u001b[0mpossibly_batched_index\u001b[0m\u001b[0;34m]\u001b[0m\u001b[0;34m\u001b[0m\u001b[0;34m\u001b[0m\u001b[0m\n\u001b[0m\u001b[1;32m     45\u001b[0m         \u001b[0;32melse\u001b[0m\u001b[0;34m:\u001b[0m\u001b[0;34m\u001b[0m\u001b[0;34m\u001b[0m\u001b[0m\n\u001b[1;32m     46\u001b[0m             \u001b[0mdata\u001b[0m \u001b[0;34m=\u001b[0m \u001b[0mself\u001b[0m\u001b[0;34m.\u001b[0m\u001b[0mdataset\u001b[0m\u001b[0;34m[\u001b[0m\u001b[0mpossibly_batched_index\u001b[0m\u001b[0;34m]\u001b[0m\u001b[0;34m\u001b[0m\u001b[0;34m\u001b[0m\u001b[0m\n",
            "\u001b[0;32m/usr/local/lib/python3.7/dist-packages/torch/utils/data/_utils/fetch.py\u001b[0m in \u001b[0;36m<listcomp>\u001b[0;34m(.0)\u001b[0m\n\u001b[1;32m     42\u001b[0m     \u001b[0;32mdef\u001b[0m \u001b[0mfetch\u001b[0m\u001b[0;34m(\u001b[0m\u001b[0mself\u001b[0m\u001b[0;34m,\u001b[0m \u001b[0mpossibly_batched_index\u001b[0m\u001b[0;34m)\u001b[0m\u001b[0;34m:\u001b[0m\u001b[0;34m\u001b[0m\u001b[0;34m\u001b[0m\u001b[0m\n\u001b[1;32m     43\u001b[0m         \u001b[0;32mif\u001b[0m \u001b[0mself\u001b[0m\u001b[0;34m.\u001b[0m\u001b[0mauto_collation\u001b[0m\u001b[0;34m:\u001b[0m\u001b[0;34m\u001b[0m\u001b[0;34m\u001b[0m\u001b[0m\n\u001b[0;32m---> 44\u001b[0;31m             \u001b[0mdata\u001b[0m \u001b[0;34m=\u001b[0m \u001b[0;34m[\u001b[0m\u001b[0mself\u001b[0m\u001b[0;34m.\u001b[0m\u001b[0mdataset\u001b[0m\u001b[0;34m[\u001b[0m\u001b[0midx\u001b[0m\u001b[0;34m]\u001b[0m \u001b[0;32mfor\u001b[0m \u001b[0midx\u001b[0m \u001b[0;32min\u001b[0m \u001b[0mpossibly_batched_index\u001b[0m\u001b[0;34m]\u001b[0m\u001b[0;34m\u001b[0m\u001b[0;34m\u001b[0m\u001b[0m\n\u001b[0m\u001b[1;32m     45\u001b[0m         \u001b[0;32melse\u001b[0m\u001b[0;34m:\u001b[0m\u001b[0;34m\u001b[0m\u001b[0;34m\u001b[0m\u001b[0m\n\u001b[1;32m     46\u001b[0m             \u001b[0mdata\u001b[0m \u001b[0;34m=\u001b[0m \u001b[0mself\u001b[0m\u001b[0;34m.\u001b[0m\u001b[0mdataset\u001b[0m\u001b[0;34m[\u001b[0m\u001b[0mpossibly_batched_index\u001b[0m\u001b[0;34m]\u001b[0m\u001b[0;34m\u001b[0m\u001b[0;34m\u001b[0m\u001b[0m\n",
            "\u001b[0;32m<ipython-input-3-175b27e4432d>\u001b[0m in \u001b[0;36m__getitem__\u001b[0;34m(self, idx)\u001b[0m\n\u001b[1;32m     15\u001b[0m       \u001b[0mimg_path\u001b[0m \u001b[0;34m=\u001b[0m \u001b[0mos\u001b[0m\u001b[0;34m.\u001b[0m\u001b[0mpath\u001b[0m\u001b[0;34m.\u001b[0m\u001b[0mjoin\u001b[0m\u001b[0;34m(\u001b[0m\u001b[0mself\u001b[0m\u001b[0;34m.\u001b[0m\u001b[0mimg_dir\u001b[0m\u001b[0;34m,\u001b[0m \u001b[0mstr\u001b[0m\u001b[0;34m(\u001b[0m\u001b[0midx\u001b[0m\u001b[0;34m)\u001b[0m\u001b[0;34m+\u001b[0m\u001b[0;34m'.png'\u001b[0m\u001b[0;34m)\u001b[0m\u001b[0;34m\u001b[0m\u001b[0;34m\u001b[0m\u001b[0m\n\u001b[1;32m     16\u001b[0m       \u001b[0mimg_t_path\u001b[0m \u001b[0;34m=\u001b[0m \u001b[0mos\u001b[0m\u001b[0;34m.\u001b[0m\u001b[0mpath\u001b[0m\u001b[0;34m.\u001b[0m\u001b[0mjoin\u001b[0m\u001b[0;34m(\u001b[0m\u001b[0mself\u001b[0m\u001b[0;34m.\u001b[0m\u001b[0mimg_t_dir\u001b[0m\u001b[0;34m,\u001b[0m \u001b[0mstr\u001b[0m\u001b[0;34m(\u001b[0m\u001b[0midx\u001b[0m\u001b[0;34m)\u001b[0m\u001b[0;34m+\u001b[0m\u001b[0;34m'.png'\u001b[0m\u001b[0;34m)\u001b[0m\u001b[0;34m\u001b[0m\u001b[0;34m\u001b[0m\u001b[0m\n\u001b[0;32m---> 17\u001b[0;31m       \u001b[0mimage\u001b[0m \u001b[0;34m=\u001b[0m \u001b[0mread_image\u001b[0m\u001b[0;34m(\u001b[0m\u001b[0mimg_path\u001b[0m\u001b[0;34m)\u001b[0m\u001b[0;34m\u001b[0m\u001b[0;34m\u001b[0m\u001b[0m\n\u001b[0m\u001b[1;32m     18\u001b[0m       \u001b[0mimage_t\u001b[0m \u001b[0;34m=\u001b[0m \u001b[0mread_image\u001b[0m\u001b[0;34m(\u001b[0m\u001b[0mimg_t_path\u001b[0m\u001b[0;34m)\u001b[0m\u001b[0;34m\u001b[0m\u001b[0;34m\u001b[0m\u001b[0m\n\u001b[1;32m     19\u001b[0m       \u001b[0;31m#plt.imsave saves 4 channels for some reason, ignore the last one\u001b[0m\u001b[0;34m\u001b[0m\u001b[0;34m\u001b[0m\u001b[0;34m\u001b[0m\u001b[0m\n",
            "\u001b[0;32m/usr/local/lib/python3.7/dist-packages/torchvision/io/image.py\u001b[0m in \u001b[0;36mread_image\u001b[0;34m(path, mode)\u001b[0m\n\u001b[1;32m    257\u001b[0m         \u001b[0moutput\u001b[0m \u001b[0;34m(\u001b[0m\u001b[0mTensor\u001b[0m\u001b[0;34m[\u001b[0m\u001b[0mimage_channels\u001b[0m\u001b[0;34m,\u001b[0m \u001b[0mimage_height\u001b[0m\u001b[0;34m,\u001b[0m \u001b[0mimage_width\u001b[0m\u001b[0;34m]\u001b[0m\u001b[0;34m)\u001b[0m\u001b[0;34m\u001b[0m\u001b[0;34m\u001b[0m\u001b[0m\n\u001b[1;32m    258\u001b[0m     \"\"\"\n\u001b[0;32m--> 259\u001b[0;31m     \u001b[0mdata\u001b[0m \u001b[0;34m=\u001b[0m \u001b[0mread_file\u001b[0m\u001b[0;34m(\u001b[0m\u001b[0mpath\u001b[0m\u001b[0;34m)\u001b[0m\u001b[0;34m\u001b[0m\u001b[0;34m\u001b[0m\u001b[0m\n\u001b[0m\u001b[1;32m    260\u001b[0m     \u001b[0;32mreturn\u001b[0m \u001b[0mdecode_image\u001b[0m\u001b[0;34m(\u001b[0m\u001b[0mdata\u001b[0m\u001b[0;34m,\u001b[0m \u001b[0mmode\u001b[0m\u001b[0;34m)\u001b[0m\u001b[0;34m\u001b[0m\u001b[0;34m\u001b[0m\u001b[0m\n",
            "\u001b[0;32m/usr/local/lib/python3.7/dist-packages/torchvision/io/image.py\u001b[0m in \u001b[0;36mread_file\u001b[0;34m(path)\u001b[0m\n\u001b[1;32m     77\u001b[0m         \u001b[0mdata\u001b[0m \u001b[0;34m(\u001b[0m\u001b[0mTensor\u001b[0m\u001b[0;34m)\u001b[0m\u001b[0;34m\u001b[0m\u001b[0;34m\u001b[0m\u001b[0m\n\u001b[1;32m     78\u001b[0m     \"\"\"\n\u001b[0;32m---> 79\u001b[0;31m     \u001b[0mdata\u001b[0m \u001b[0;34m=\u001b[0m \u001b[0mtorch\u001b[0m\u001b[0;34m.\u001b[0m\u001b[0mops\u001b[0m\u001b[0;34m.\u001b[0m\u001b[0mimage\u001b[0m\u001b[0;34m.\u001b[0m\u001b[0mread_file\u001b[0m\u001b[0;34m(\u001b[0m\u001b[0mpath\u001b[0m\u001b[0;34m)\u001b[0m\u001b[0;34m\u001b[0m\u001b[0;34m\u001b[0m\u001b[0m\n\u001b[0m\u001b[1;32m     80\u001b[0m     \u001b[0;32mreturn\u001b[0m \u001b[0mdata\u001b[0m\u001b[0;34m\u001b[0m\u001b[0;34m\u001b[0m\u001b[0m\n\u001b[1;32m     81\u001b[0m \u001b[0;34m\u001b[0m\u001b[0m\n",
            "\u001b[0;31mRuntimeError\u001b[0m: [Errno 2] No such file or directory: '/content/drive/MyDrive/translation_vector_estimation_project/data/input/original/1500.png'"
          ]
        }
      ]
    }
  ]
}